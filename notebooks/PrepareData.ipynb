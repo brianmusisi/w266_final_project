{
 "cells": [
  {
   "cell_type": "code",
   "execution_count": 1,
   "metadata": {},
   "outputs": [],
   "source": [
    "import pandas as pd\n",
    "import numpy as np\n",
    "import re\n",
    "import os\n",
    "import sys"
   ]
  },
  {
   "cell_type": "markdown",
   "metadata": {},
   "source": [
    "#### Get reference file"
   ]
  },
  {
   "cell_type": "code",
   "execution_count": 5,
   "metadata": {},
   "outputs": [
    {
     "data": {
      "text/html": [
       "<div>\n",
       "<style scoped>\n",
       "    .dataframe tbody tr th:only-of-type {\n",
       "        vertical-align: middle;\n",
       "    }\n",
       "\n",
       "    .dataframe tbody tr th {\n",
       "        vertical-align: top;\n",
       "    }\n",
       "\n",
       "    .dataframe thead th {\n",
       "        text-align: right;\n",
       "    }\n",
       "</style>\n",
       "<table border=\"1\" class=\"dataframe\">\n",
       "  <thead>\n",
       "    <tr style=\"text-align: right;\">\n",
       "      <th></th>\n",
       "      <th>sentence</th>\n",
       "      <th>class</th>\n",
       "      <th>confidence</th>\n",
       "      <th>file_names</th>\n",
       "      <th>links</th>\n",
       "      <th>source</th>\n",
       "    </tr>\n",
       "  </thead>\n",
       "  <tbody>\n",
       "    <tr>\n",
       "      <th>0</th>\n",
       "      <td>Nauto raises $159M to fuel expansion of its au...</td>\n",
       "      <td>Funding</td>\n",
       "      <td>0.95000</td>\n",
       "      <td>20190723151921076867</td>\n",
       "      <td>https://techcrunch.com/2017/07/19/nauto-raises...</td>\n",
       "      <td>techcrunch</td>\n",
       "    </tr>\n",
       "    <tr>\n",
       "      <th>1</th>\n",
       "      <td>Mapbox hires former SAP and Twilio exec Roy Ng...</td>\n",
       "      <td>People</td>\n",
       "      <td>0.95000</td>\n",
       "      <td>20190724100513130954</td>\n",
       "      <td>https://venturebeat.com/2017/03/02/mapbox-hire...</td>\n",
       "      <td>venturebeat</td>\n",
       "    </tr>\n",
       "    <tr>\n",
       "      <th>2</th>\n",
       "      <td>Wellington Financial LP Provides US$24 Million...</td>\n",
       "      <td>Funding</td>\n",
       "      <td>0.68000</td>\n",
       "      <td>20190724094427251424</td>\n",
       "      <td>https://venturebeat.com/2017/06/12/wellington-...</td>\n",
       "      <td>venturebeat</td>\n",
       "    </tr>\n",
       "    <tr>\n",
       "      <th>3</th>\n",
       "      <td>Instagram on copying Snapchat: ìThis is the wa...</td>\n",
       "      <td>Other</td>\n",
       "      <td>0.98665</td>\n",
       "      <td>20190723160323331008</td>\n",
       "      <td>https://techcrunch.com/2017/05/16/to-clone-or-...</td>\n",
       "      <td>techcrunch</td>\n",
       "    </tr>\n",
       "    <tr>\n",
       "      <th>4</th>\n",
       "      <td>Health startup Buoy raises $6.7 million to inv...</td>\n",
       "      <td>Funding</td>\n",
       "      <td>0.95000</td>\n",
       "      <td>20190723150148355229</td>\n",
       "      <td>https://techcrunch.com/2017/08/09/health-start...</td>\n",
       "      <td>techcrunch</td>\n",
       "    </tr>\n",
       "  </tbody>\n",
       "</table>\n",
       "</div>"
      ],
      "text/plain": [
       "                                            sentence    class  confidence  \\\n",
       "0  Nauto raises $159M to fuel expansion of its au...  Funding     0.95000   \n",
       "1  Mapbox hires former SAP and Twilio exec Roy Ng...   People     0.95000   \n",
       "2  Wellington Financial LP Provides US$24 Million...  Funding     0.68000   \n",
       "3  Instagram on copying Snapchat: ìThis is the wa...    Other     0.98665   \n",
       "4  Health startup Buoy raises $6.7 million to inv...  Funding     0.95000   \n",
       "\n",
       "             file_names                                              links  \\\n",
       "0  20190723151921076867  https://techcrunch.com/2017/07/19/nauto-raises...   \n",
       "1  20190724100513130954  https://venturebeat.com/2017/03/02/mapbox-hire...   \n",
       "2  20190724094427251424  https://venturebeat.com/2017/06/12/wellington-...   \n",
       "3  20190723160323331008  https://techcrunch.com/2017/05/16/to-clone-or-...   \n",
       "4  20190723150148355229  https://techcrunch.com/2017/08/09/health-start...   \n",
       "\n",
       "        source  \n",
       "0   techcrunch  \n",
       "1  venturebeat  \n",
       "2  venturebeat  \n",
       "3   techcrunch  \n",
       "4   techcrunch  "
      ]
     },
     "execution_count": 5,
     "metadata": {},
     "output_type": "execute_result"
    }
   ],
   "source": [
    "articles_ref = pd.read_csv('dataset2/data/training_articles.csv')\n",
    "articles_ref.head()"
   ]
  },
  {
   "cell_type": "code",
   "execution_count": 6,
   "metadata": {},
   "outputs": [
    {
     "data": {
      "text/plain": [
       "(5593, 6)"
      ]
     },
     "execution_count": 6,
     "metadata": {},
     "output_type": "execute_result"
    }
   ],
   "source": [
    "articles_ref.shape"
   ]
  },
  {
   "cell_type": "code",
   "execution_count": 4,
   "metadata": {},
   "outputs": [
    {
     "data": {
      "text/html": [
       "<div>\n",
       "<style scoped>\n",
       "    .dataframe tbody tr th:only-of-type {\n",
       "        vertical-align: middle;\n",
       "    }\n",
       "\n",
       "    .dataframe tbody tr th {\n",
       "        vertical-align: top;\n",
       "    }\n",
       "\n",
       "    .dataframe thead th {\n",
       "        text-align: right;\n",
       "    }\n",
       "</style>\n",
       "<table border=\"1\" class=\"dataframe\">\n",
       "  <thead>\n",
       "    <tr style=\"text-align: right;\">\n",
       "      <th></th>\n",
       "      <th>sentence</th>\n",
       "      <th>class</th>\n",
       "      <th>file_names</th>\n",
       "    </tr>\n",
       "  </thead>\n",
       "  <tbody>\n",
       "    <tr>\n",
       "      <th>0</th>\n",
       "      <td>Nauto raises $159M to fuel expansion of its au...</td>\n",
       "      <td>Funding</td>\n",
       "      <td>20190723151921076867</td>\n",
       "    </tr>\n",
       "    <tr>\n",
       "      <th>1</th>\n",
       "      <td>Mapbox hires former SAP and Twilio exec Roy Ng...</td>\n",
       "      <td>People</td>\n",
       "      <td>20190724100513130954</td>\n",
       "    </tr>\n",
       "    <tr>\n",
       "      <th>2</th>\n",
       "      <td>Wellington Financial LP Provides US$24 Million...</td>\n",
       "      <td>Funding</td>\n",
       "      <td>20190724094427251424</td>\n",
       "    </tr>\n",
       "    <tr>\n",
       "      <th>3</th>\n",
       "      <td>Instagram on copying Snapchat: ìThis is the wa...</td>\n",
       "      <td>Other</td>\n",
       "      <td>20190723160323331008</td>\n",
       "    </tr>\n",
       "    <tr>\n",
       "      <th>4</th>\n",
       "      <td>Health startup Buoy raises $6.7 million to inv...</td>\n",
       "      <td>Funding</td>\n",
       "      <td>20190723150148355229</td>\n",
       "    </tr>\n",
       "  </tbody>\n",
       "</table>\n",
       "</div>"
      ],
      "text/plain": [
       "                                            sentence    class  \\\n",
       "0  Nauto raises $159M to fuel expansion of its au...  Funding   \n",
       "1  Mapbox hires former SAP and Twilio exec Roy Ng...   People   \n",
       "2  Wellington Financial LP Provides US$24 Million...  Funding   \n",
       "3  Instagram on copying Snapchat: ìThis is the wa...    Other   \n",
       "4  Health startup Buoy raises $6.7 million to inv...  Funding   \n",
       "\n",
       "             file_names  \n",
       "0  20190723151921076867  \n",
       "1  20190724100513130954  \n",
       "2  20190724094427251424  \n",
       "3  20190723160323331008  \n",
       "4  20190723150148355229  "
      ]
     },
     "execution_count": 4,
     "metadata": {},
     "output_type": "execute_result"
    }
   ],
   "source": [
    "articles_df = articles_ref.copy()\n",
    "articles_df.drop(['confidence', 'links', 'source'], axis=1, inplace=True)\n",
    "articles_df.head()"
   ]
  },
  {
   "cell_type": "markdown",
   "metadata": {},
   "source": [
    "#### Get content for each article"
   ]
  },
  {
   "cell_type": "code",
   "execution_count": 17,
   "metadata": {},
   "outputs": [],
   "source": [
    "def get_content(file_name):\n",
    "    if file_name.startswith('20190723'):  \n",
    "        with open('dataset2/articles/{}'.format(file_name), 'r') as f:\n",
    "            content = f.read()\n",
    "    else:\n",
    "        with open('dataset2/vb_articles/{}'.format(file_name), 'r') as f:\n",
    "            content = f.read()\n",
    "    \n",
    "    ### remove the new lines and any extra white space\n",
    "    content = re.sub('[\\s]+', ' ', content)\n",
    "    return content"
   ]
  },
  {
   "cell_type": "code",
   "execution_count": 23,
   "metadata": {},
   "outputs": [],
   "source": [
    "articles_df['content'] = articles_df['file_names'].map(get_content)"
   ]
  },
  {
   "cell_type": "code",
   "execution_count": 24,
   "metadata": {},
   "outputs": [
    {
     "data": {
      "text/html": [
       "<div>\n",
       "<style scoped>\n",
       "    .dataframe tbody tr th:only-of-type {\n",
       "        vertical-align: middle;\n",
       "    }\n",
       "\n",
       "    .dataframe tbody tr th {\n",
       "        vertical-align: top;\n",
       "    }\n",
       "\n",
       "    .dataframe thead th {\n",
       "        text-align: right;\n",
       "    }\n",
       "</style>\n",
       "<table border=\"1\" class=\"dataframe\">\n",
       "  <thead>\n",
       "    <tr style=\"text-align: right;\">\n",
       "      <th></th>\n",
       "      <th>sentence</th>\n",
       "      <th>class</th>\n",
       "      <th>file_names</th>\n",
       "      <th>content</th>\n",
       "    </tr>\n",
       "  </thead>\n",
       "  <tbody>\n",
       "    <tr>\n",
       "      <th>0</th>\n",
       "      <td>Nauto raises $159M to fuel expansion of its au...</td>\n",
       "      <td>Funding</td>\n",
       "      <td>20190723151921076867</td>\n",
       "      <td>That’s where SoftBank’s interest lies, accordi...</td>\n",
       "    </tr>\n",
       "    <tr>\n",
       "      <th>1</th>\n",
       "      <td>Mapbox hires former SAP and Twilio exec Roy Ng...</td>\n",
       "      <td>People</td>\n",
       "      <td>20190724100513130954</td>\n",
       "      <td>Mapbox has expanded its management team, namin...</td>\n",
       "    </tr>\n",
       "    <tr>\n",
       "      <th>2</th>\n",
       "      <td>Wellington Financial LP Provides US$24 Million...</td>\n",
       "      <td>Funding</td>\n",
       "      <td>20190724094427251424</td>\n",
       "      <td>Wellington’s True Growth Capital supports Exa...</td>\n",
       "    </tr>\n",
       "    <tr>\n",
       "      <th>3</th>\n",
       "      <td>Instagram on copying Snapchat: ìThis is the wa...</td>\n",
       "      <td>Other</td>\n",
       "      <td>20190723160323331008</td>\n",
       "      <td>“I think it would frankly be silly of us if we...</td>\n",
       "    </tr>\n",
       "    <tr>\n",
       "      <th>4</th>\n",
       "      <td>Health startup Buoy raises $6.7 million to inv...</td>\n",
       "      <td>Funding</td>\n",
       "      <td>20190723150148355229</td>\n",
       "      <td>The startup debuted in March of this year to t...</td>\n",
       "    </tr>\n",
       "  </tbody>\n",
       "</table>\n",
       "</div>"
      ],
      "text/plain": [
       "                                            sentence    class  \\\n",
       "0  Nauto raises $159M to fuel expansion of its au...  Funding   \n",
       "1  Mapbox hires former SAP and Twilio exec Roy Ng...   People   \n",
       "2  Wellington Financial LP Provides US$24 Million...  Funding   \n",
       "3  Instagram on copying Snapchat: ìThis is the wa...    Other   \n",
       "4  Health startup Buoy raises $6.7 million to inv...  Funding   \n",
       "\n",
       "             file_names                                            content  \n",
       "0  20190723151921076867  That’s where SoftBank’s interest lies, accordi...  \n",
       "1  20190724100513130954  Mapbox has expanded its management team, namin...  \n",
       "2  20190724094427251424   Wellington’s True Growth Capital supports Exa...  \n",
       "3  20190723160323331008  “I think it would frankly be silly of us if we...  \n",
       "4  20190723150148355229  The startup debuted in March of this year to t...  "
      ]
     },
     "execution_count": 24,
     "metadata": {},
     "output_type": "execute_result"
    }
   ],
   "source": [
    "articles_df.head()"
   ]
  },
  {
   "cell_type": "code",
   "execution_count": 26,
   "metadata": {},
   "outputs": [],
   "source": [
    "articles_df.to_csv('dataset2/data/articles_content.csv', index=False)"
   ]
  },
  {
   "cell_type": "code",
   "execution_count": 28,
   "metadata": {},
   "outputs": [
    {
     "data": {
      "text/html": [
       "<div>\n",
       "<style scoped>\n",
       "    .dataframe tbody tr th:only-of-type {\n",
       "        vertical-align: middle;\n",
       "    }\n",
       "\n",
       "    .dataframe tbody tr th {\n",
       "        vertical-align: top;\n",
       "    }\n",
       "\n",
       "    .dataframe thead th {\n",
       "        text-align: right;\n",
       "    }\n",
       "</style>\n",
       "<table border=\"1\" class=\"dataframe\">\n",
       "  <thead>\n",
       "    <tr style=\"text-align: right;\">\n",
       "      <th></th>\n",
       "      <th>sentence</th>\n",
       "      <th>class</th>\n",
       "      <th>file_names</th>\n",
       "      <th>content</th>\n",
       "    </tr>\n",
       "  </thead>\n",
       "  <tbody>\n",
       "    <tr>\n",
       "      <th>227</th>\n",
       "      <td>Palo Alto nonprofit Benetech wins a $42.5M Dep...</td>\n",
       "      <td>Funding</td>\n",
       "      <td>20190723145554252806</td>\n",
       "      <td></td>\n",
       "    </tr>\n",
       "  </tbody>\n",
       "</table>\n",
       "</div>"
      ],
      "text/plain": [
       "                                              sentence    class  \\\n",
       "227  Palo Alto nonprofit Benetech wins a $42.5M Dep...  Funding   \n",
       "\n",
       "               file_names content  \n",
       "227  20190723145554252806          "
      ]
     },
     "execution_count": 28,
     "metadata": {},
     "output_type": "execute_result"
    }
   ],
   "source": [
    "articles_df[articles_df['file_names']=='20190723145554252806']"
   ]
  },
  {
   "cell_type": "code",
   "execution_count": null,
   "metadata": {},
   "outputs": [],
   "source": []
  },
  {
   "cell_type": "code",
   "execution_count": 3,
   "metadata": {},
   "outputs": [
    {
     "data": {
      "text/html": [
       "<div>\n",
       "<style scoped>\n",
       "    .dataframe tbody tr th:only-of-type {\n",
       "        vertical-align: middle;\n",
       "    }\n",
       "\n",
       "    .dataframe tbody tr th {\n",
       "        vertical-align: top;\n",
       "    }\n",
       "\n",
       "    .dataframe thead th {\n",
       "        text-align: right;\n",
       "    }\n",
       "</style>\n",
       "<table border=\"1\" class=\"dataframe\">\n",
       "  <thead>\n",
       "    <tr style=\"text-align: right;\">\n",
       "      <th></th>\n",
       "      <th>sentence</th>\n",
       "      <th>class</th>\n",
       "      <th>file_names</th>\n",
       "      <th>content</th>\n",
       "    </tr>\n",
       "  </thead>\n",
       "  <tbody>\n",
       "    <tr>\n",
       "      <th>0</th>\n",
       "      <td>Nauto raises $159M to fuel expansion of its au...</td>\n",
       "      <td>Funding</td>\n",
       "      <td>20190723151921076867</td>\n",
       "      <td>That’s where SoftBank’s interest lies, accordi...</td>\n",
       "    </tr>\n",
       "    <tr>\n",
       "      <th>1</th>\n",
       "      <td>Mapbox hires former SAP and Twilio exec Roy Ng...</td>\n",
       "      <td>People</td>\n",
       "      <td>20190724100513130954</td>\n",
       "      <td>Mapbox has expanded its management team, namin...</td>\n",
       "    </tr>\n",
       "    <tr>\n",
       "      <th>2</th>\n",
       "      <td>Wellington Financial LP Provides US$24 Million...</td>\n",
       "      <td>Funding</td>\n",
       "      <td>20190724094427251424</td>\n",
       "      <td>Wellington’s True Growth Capital supports Exa...</td>\n",
       "    </tr>\n",
       "    <tr>\n",
       "      <th>3</th>\n",
       "      <td>Instagram on copying Snapchat: ìThis is the wa...</td>\n",
       "      <td>Other</td>\n",
       "      <td>20190723160323331008</td>\n",
       "      <td>“I think it would frankly be silly of us if we...</td>\n",
       "    </tr>\n",
       "    <tr>\n",
       "      <th>4</th>\n",
       "      <td>Health startup Buoy raises $6.7 million to inv...</td>\n",
       "      <td>Funding</td>\n",
       "      <td>20190723150148355229</td>\n",
       "      <td>The startup debuted in March of this year to t...</td>\n",
       "    </tr>\n",
       "  </tbody>\n",
       "</table>\n",
       "</div>"
      ],
      "text/plain": [
       "                                            sentence    class  \\\n",
       "0  Nauto raises $159M to fuel expansion of its au...  Funding   \n",
       "1  Mapbox hires former SAP and Twilio exec Roy Ng...   People   \n",
       "2  Wellington Financial LP Provides US$24 Million...  Funding   \n",
       "3  Instagram on copying Snapchat: ìThis is the wa...    Other   \n",
       "4  Health startup Buoy raises $6.7 million to inv...  Funding   \n",
       "\n",
       "             file_names                                            content  \n",
       "0  20190723151921076867  That’s where SoftBank’s interest lies, accordi...  \n",
       "1  20190724100513130954  Mapbox has expanded its management team, namin...  \n",
       "2  20190724094427251424   Wellington’s True Growth Capital supports Exa...  \n",
       "3  20190723160323331008  “I think it would frankly be silly of us if we...  \n",
       "4  20190723150148355229  The startup debuted in March of this year to t...  "
      ]
     },
     "execution_count": 3,
     "metadata": {},
     "output_type": "execute_result"
    }
   ],
   "source": [
    "data = pd.read_csv('dataset2/data/articles_content.csv')\n",
    "data.head()"
   ]
  },
  {
   "cell_type": "code",
   "execution_count": 4,
   "metadata": {},
   "outputs": [
    {
     "data": {
      "text/plain": [
       "(5593, 4)"
      ]
     },
     "execution_count": 4,
     "metadata": {},
     "output_type": "execute_result"
    }
   ],
   "source": [
    "data.shape"
   ]
  },
  {
   "cell_type": "markdown",
   "metadata": {},
   "source": [
    "### Get All Training Examples"
   ]
  },
  {
   "cell_type": "code",
   "execution_count": 2,
   "metadata": {},
   "outputs": [
    {
     "data": {
      "text/html": [
       "<div>\n",
       "<style scoped>\n",
       "    .dataframe tbody tr th:only-of-type {\n",
       "        vertical-align: middle;\n",
       "    }\n",
       "\n",
       "    .dataframe tbody tr th {\n",
       "        vertical-align: top;\n",
       "    }\n",
       "\n",
       "    .dataframe thead th {\n",
       "        text-align: right;\n",
       "    }\n",
       "</style>\n",
       "<table border=\"1\" class=\"dataframe\">\n",
       "  <thead>\n",
       "    <tr style=\"text-align: right;\">\n",
       "      <th></th>\n",
       "      <th>sentence</th>\n",
       "      <th>class</th>\n",
       "      <th>confidence</th>\n",
       "      <th>file_names</th>\n",
       "      <th>links</th>\n",
       "      <th>source</th>\n",
       "    </tr>\n",
       "  </thead>\n",
       "  <tbody>\n",
       "    <tr>\n",
       "      <th>0</th>\n",
       "      <td>Gaming firm Razer seeks to raise over $600M in...</td>\n",
       "      <td>Funding</td>\n",
       "      <td>0.95000</td>\n",
       "      <td>20190723140705861720</td>\n",
       "      <td>https://techcrunch.com/2017/07/01/razer-hong-k...</td>\n",
       "      <td>techcrunch</td>\n",
       "    </tr>\n",
       "    <tr>\n",
       "      <th>1</th>\n",
       "      <td>Mendel.ai nabs $2 million to match cancer pati...</td>\n",
       "      <td>Other</td>\n",
       "      <td>0.51000</td>\n",
       "      <td>20190723140706461241</td>\n",
       "      <td>https://techcrunch.com/2017/07/01/mendel-ai-na...</td>\n",
       "      <td>techcrunch</td>\n",
       "    </tr>\n",
       "    <tr>\n",
       "      <th>2</th>\n",
       "      <td>These cities in Californiaís East Bay are raki...</td>\n",
       "      <td>Funding</td>\n",
       "      <td>0.86000</td>\n",
       "      <td>20190723140707133490</td>\n",
       "      <td>https://techcrunch.com/2017/07/01/these-east-b...</td>\n",
       "      <td>techcrunch</td>\n",
       "    </tr>\n",
       "    <tr>\n",
       "      <th>3</th>\n",
       "      <td>A walk around Station F with Emmanuel†Macron</td>\n",
       "      <td>Other</td>\n",
       "      <td>0.97300</td>\n",
       "      <td>20190723140707881516</td>\n",
       "      <td>https://techcrunch.com/2017/07/01/a-walk-aroun...</td>\n",
       "      <td>techcrunch</td>\n",
       "    </tr>\n",
       "    <tr>\n",
       "      <th>4</th>\n",
       "      <td>Crunch Report | Facebook Helps You Find†Wi-Fi</td>\n",
       "      <td>Other</td>\n",
       "      <td>0.96642</td>\n",
       "      <td>20190723140708566693</td>\n",
       "      <td>https://techcrunch.com/2017/06/30/crunch-repor...</td>\n",
       "      <td>techcrunch</td>\n",
       "    </tr>\n",
       "  </tbody>\n",
       "</table>\n",
       "</div>"
      ],
      "text/plain": [
       "                                            sentence    class  confidence  \\\n",
       "0  Gaming firm Razer seeks to raise over $600M in...  Funding     0.95000   \n",
       "1  Mendel.ai nabs $2 million to match cancer pati...    Other     0.51000   \n",
       "2  These cities in Californiaís East Bay are raki...  Funding     0.86000   \n",
       "3       A walk around Station F with Emmanuel†Macron    Other     0.97300   \n",
       "4      Crunch Report | Facebook Helps You Find†Wi-Fi    Other     0.96642   \n",
       "\n",
       "             file_names                                              links  \\\n",
       "0  20190723140705861720  https://techcrunch.com/2017/07/01/razer-hong-k...   \n",
       "1  20190723140706461241  https://techcrunch.com/2017/07/01/mendel-ai-na...   \n",
       "2  20190723140707133490  https://techcrunch.com/2017/07/01/these-east-b...   \n",
       "3  20190723140707881516  https://techcrunch.com/2017/07/01/a-walk-aroun...   \n",
       "4  20190723140708566693  https://techcrunch.com/2017/06/30/crunch-repor...   \n",
       "\n",
       "       source  \n",
       "0  techcrunch  \n",
       "1  techcrunch  \n",
       "2  techcrunch  \n",
       "3  techcrunch  \n",
       "4  techcrunch  "
      ]
     },
     "execution_count": 2,
     "metadata": {},
     "output_type": "execute_result"
    }
   ],
   "source": [
    "all_data = pd.read_csv('dataset2/data/all_training_articles.csv')\n",
    "all_data.head()"
   ]
  },
  {
   "cell_type": "code",
   "execution_count": 3,
   "metadata": {},
   "outputs": [],
   "source": [
    "def get_content(file_name):\n",
    "    if file_name.startswith('20190723'):  \n",
    "        with open('dataset2/articles/{}'.format(file_name), 'r') as f:\n",
    "            content = f.read()\n",
    "    else:\n",
    "        with open('dataset2/vb_articles2/{}'.format(file_name), 'r') as f:\n",
    "            content = f.read()\n",
    "    \n",
    "    ### remove the new lines and any extra white space\n",
    "    content = re.sub('[\\s]+', ' ', content)\n",
    "    return content"
   ]
  },
  {
   "cell_type": "code",
   "execution_count": 4,
   "metadata": {},
   "outputs": [
    {
     "data": {
      "text/html": [
       "<div>\n",
       "<style scoped>\n",
       "    .dataframe tbody tr th:only-of-type {\n",
       "        vertical-align: middle;\n",
       "    }\n",
       "\n",
       "    .dataframe tbody tr th {\n",
       "        vertical-align: top;\n",
       "    }\n",
       "\n",
       "    .dataframe thead th {\n",
       "        text-align: right;\n",
       "    }\n",
       "</style>\n",
       "<table border=\"1\" class=\"dataframe\">\n",
       "  <thead>\n",
       "    <tr style=\"text-align: right;\">\n",
       "      <th></th>\n",
       "      <th>sentence</th>\n",
       "      <th>class</th>\n",
       "      <th>confidence</th>\n",
       "      <th>file_names</th>\n",
       "      <th>links</th>\n",
       "      <th>source</th>\n",
       "      <th>content</th>\n",
       "    </tr>\n",
       "  </thead>\n",
       "  <tbody>\n",
       "    <tr>\n",
       "      <th>0</th>\n",
       "      <td>Gaming firm Razer seeks to raise over $600M in...</td>\n",
       "      <td>Funding</td>\n",
       "      <td>0.95000</td>\n",
       "      <td>20190723140705861720</td>\n",
       "      <td>https://techcrunch.com/2017/07/01/razer-hong-k...</td>\n",
       "      <td>techcrunch</td>\n",
       "      <td>The U.S.-based company, which traces its origi...</td>\n",
       "    </tr>\n",
       "    <tr>\n",
       "      <th>1</th>\n",
       "      <td>Mendel.ai nabs $2 million to match cancer pati...</td>\n",
       "      <td>Other</td>\n",
       "      <td>0.51000</td>\n",
       "      <td>20190723140706461241</td>\n",
       "      <td>https://techcrunch.com/2017/07/01/mendel-ai-na...</td>\n",
       "      <td>techcrunch</td>\n",
       "      <td>He called his new system Mendel.ai after Grego...</td>\n",
       "    </tr>\n",
       "    <tr>\n",
       "      <th>2</th>\n",
       "      <td>These cities in Californiaís East Bay are raki...</td>\n",
       "      <td>Funding</td>\n",
       "      <td>0.86000</td>\n",
       "      <td>20190723140707133490</td>\n",
       "      <td>https://techcrunch.com/2017/07/01/these-east-b...</td>\n",
       "      <td>techcrunch</td>\n",
       "      <td>Most Americans have never heard of Emeryville,...</td>\n",
       "    </tr>\n",
       "    <tr>\n",
       "      <th>3</th>\n",
       "      <td>A walk around Station F with Emmanuel†Macron</td>\n",
       "      <td>Other</td>\n",
       "      <td>0.97300</td>\n",
       "      <td>20190723140707881516</td>\n",
       "      <td>https://techcrunch.com/2017/07/01/a-walk-aroun...</td>\n",
       "      <td>techcrunch</td>\n",
       "      <td></td>\n",
       "    </tr>\n",
       "    <tr>\n",
       "      <th>4</th>\n",
       "      <td>Crunch Report | Facebook Helps You Find†Wi-Fi</td>\n",
       "      <td>Other</td>\n",
       "      <td>0.96642</td>\n",
       "      <td>20190723140708566693</td>\n",
       "      <td>https://techcrunch.com/2017/06/30/crunch-repor...</td>\n",
       "      <td>techcrunch</td>\n",
       "      <td>Written and Hosted by: Anthony Ha Filmed by: M...</td>\n",
       "    </tr>\n",
       "  </tbody>\n",
       "</table>\n",
       "</div>"
      ],
      "text/plain": [
       "                                            sentence    class  confidence  \\\n",
       "0  Gaming firm Razer seeks to raise over $600M in...  Funding     0.95000   \n",
       "1  Mendel.ai nabs $2 million to match cancer pati...    Other     0.51000   \n",
       "2  These cities in Californiaís East Bay are raki...  Funding     0.86000   \n",
       "3       A walk around Station F with Emmanuel†Macron    Other     0.97300   \n",
       "4      Crunch Report | Facebook Helps You Find†Wi-Fi    Other     0.96642   \n",
       "\n",
       "             file_names                                              links  \\\n",
       "0  20190723140705861720  https://techcrunch.com/2017/07/01/razer-hong-k...   \n",
       "1  20190723140706461241  https://techcrunch.com/2017/07/01/mendel-ai-na...   \n",
       "2  20190723140707133490  https://techcrunch.com/2017/07/01/these-east-b...   \n",
       "3  20190723140707881516  https://techcrunch.com/2017/07/01/a-walk-aroun...   \n",
       "4  20190723140708566693  https://techcrunch.com/2017/06/30/crunch-repor...   \n",
       "\n",
       "       source                                            content  \n",
       "0  techcrunch  The U.S.-based company, which traces its origi...  \n",
       "1  techcrunch  He called his new system Mendel.ai after Grego...  \n",
       "2  techcrunch  Most Americans have never heard of Emeryville,...  \n",
       "3  techcrunch                                                     \n",
       "4  techcrunch  Written and Hosted by: Anthony Ha Filmed by: M...  "
      ]
     },
     "execution_count": 4,
     "metadata": {},
     "output_type": "execute_result"
    }
   ],
   "source": [
    "all_data = all_data[~all_data['file_names'].isnull()]\n",
    "all_data['content'] = all_data['file_names'].map(get_content)\n",
    "all_data.head()"
   ]
  },
  {
   "cell_type": "markdown",
   "metadata": {},
   "source": [
    "### Bring in Funding Data"
   ]
  },
  {
   "cell_type": "code",
   "execution_count": 5,
   "metadata": {},
   "outputs": [
    {
     "data": {
      "text/html": [
       "<div>\n",
       "<style scoped>\n",
       "    .dataframe tbody tr th:only-of-type {\n",
       "        vertical-align: middle;\n",
       "    }\n",
       "\n",
       "    .dataframe tbody tr th {\n",
       "        vertical-align: top;\n",
       "    }\n",
       "\n",
       "    .dataframe thead th {\n",
       "        text-align: right;\n",
       "    }\n",
       "</style>\n",
       "<table border=\"1\" class=\"dataframe\">\n",
       "  <thead>\n",
       "    <tr style=\"text-align: right;\">\n",
       "      <th></th>\n",
       "      <th>title</th>\n",
       "      <th>content</th>\n",
       "      <th>link</th>\n",
       "      <th>sources</th>\n",
       "    </tr>\n",
       "  </thead>\n",
       "  <tbody>\n",
       "    <tr>\n",
       "      <th>0</th>\n",
       "      <td>Africa&amp;#8217;s Talking joins Open Banking Nige...</td>\n",
       "      <td>Open Banking Nigeria has announced a partnersh...</td>\n",
       "      <td>https://blog.digestafrica.co/africas-talking-o...</td>\n",
       "      <td>DigestAfrica</td>\n",
       "    </tr>\n",
       "    <tr>\n",
       "      <th>1</th>\n",
       "      <td>Who will lead the African online privacy and d...</td>\n",
       "      <td>According to Menabytes, Egyptian ride-hailing ...</td>\n",
       "      <td>https://blog.digestafrica.co/african-online-pr...</td>\n",
       "      <td>DigestAfrica</td>\n",
       "    </tr>\n",
       "    <tr>\n",
       "      <th>2</th>\n",
       "      <td>Facebook has finally decided to monetize the W...</td>\n",
       "      <td>After splashing over $19 Billion to acquire Wh...</td>\n",
       "      <td>https://blog.digestafrica.co/whatsapp-business...</td>\n",
       "      <td>DigestAfrica</td>\n",
       "    </tr>\n",
       "    <tr>\n",
       "      <th>3</th>\n",
       "      <td>How Uganda&amp;#8217;s Startup Economy Fell Behind...</td>\n",
       "      <td>I am no thought leader when it comes to tech e...</td>\n",
       "      <td>https://blog.digestafrica.co/how-ugandas-start...</td>\n",
       "      <td>DigestAfrica</td>\n",
       "    </tr>\n",
       "    <tr>\n",
       "      <th>4</th>\n",
       "      <td>Tech hubs in Africa should focus on being what...</td>\n",
       "      <td>A recently released paper has recommended that...</td>\n",
       "      <td>https://blog.digestafrica.co/tech-hubs-in-afri...</td>\n",
       "      <td>DigestAfrica</td>\n",
       "    </tr>\n",
       "  </tbody>\n",
       "</table>\n",
       "</div>"
      ],
      "text/plain": [
       "                                               title  \\\n",
       "0  Africa&#8217;s Talking joins Open Banking Nige...   \n",
       "1  Who will lead the African online privacy and d...   \n",
       "2  Facebook has finally decided to monetize the W...   \n",
       "3  How Uganda&#8217;s Startup Economy Fell Behind...   \n",
       "4  Tech hubs in Africa should focus on being what...   \n",
       "\n",
       "                                             content  \\\n",
       "0  Open Banking Nigeria has announced a partnersh...   \n",
       "1  According to Menabytes, Egyptian ride-hailing ...   \n",
       "2  After splashing over $19 Billion to acquire Wh...   \n",
       "3  I am no thought leader when it comes to tech e...   \n",
       "4  A recently released paper has recommended that...   \n",
       "\n",
       "                                                link       sources  \n",
       "0  https://blog.digestafrica.co/africas-talking-o...  DigestAfrica  \n",
       "1  https://blog.digestafrica.co/african-online-pr...  DigestAfrica  \n",
       "2  https://blog.digestafrica.co/whatsapp-business...  DigestAfrica  \n",
       "3  https://blog.digestafrica.co/how-ugandas-start...  DigestAfrica  \n",
       "4  https://blog.digestafrica.co/tech-hubs-in-afri...  DigestAfrica  "
      ]
     },
     "execution_count": 5,
     "metadata": {},
     "output_type": "execute_result"
    }
   ],
   "source": [
    "funding_data = pd.read_csv('dataset/data/all_data.csv')\n",
    "funding_data.head()"
   ]
  },
  {
   "cell_type": "code",
   "execution_count": 6,
   "metadata": {},
   "outputs": [
    {
     "data": {
      "text/plain": [
       "(3166, 4)"
      ]
     },
     "execution_count": 6,
     "metadata": {},
     "output_type": "execute_result"
    }
   ],
   "source": [
    "funding_data.shape"
   ]
  },
  {
   "cell_type": "code",
   "execution_count": 7,
   "metadata": {},
   "outputs": [
    {
     "data": {
      "text/html": [
       "<div>\n",
       "<style scoped>\n",
       "    .dataframe tbody tr th:only-of-type {\n",
       "        vertical-align: middle;\n",
       "    }\n",
       "\n",
       "    .dataframe tbody tr th {\n",
       "        vertical-align: top;\n",
       "    }\n",
       "\n",
       "    .dataframe thead th {\n",
       "        text-align: right;\n",
       "    }\n",
       "</style>\n",
       "<table border=\"1\" class=\"dataframe\">\n",
       "  <thead>\n",
       "    <tr style=\"text-align: right;\">\n",
       "      <th></th>\n",
       "      <th>title</th>\n",
       "      <th>content</th>\n",
       "      <th>link</th>\n",
       "      <th>sources</th>\n",
       "      <th>class</th>\n",
       "    </tr>\n",
       "  </thead>\n",
       "  <tbody>\n",
       "    <tr>\n",
       "      <th>0</th>\n",
       "      <td>Home Baking Company Foodstirs Closes Series A ...</td>\n",
       "      <td>Foodstirs, a Los Angeles, CA-based home baking...</td>\n",
       "      <td>http://www.finsmes.com/2016/10/home-baking-com...</td>\n",
       "      <td>FinsmesUSA</td>\n",
       "      <td>Funding</td>\n",
       "    </tr>\n",
       "    <tr>\n",
       "      <th>1</th>\n",
       "      <td>Codementor Raises $1.2M in Funding\\n</td>\n",
       "      <td>Codementor, a Mountain View, CA-based marketpl...</td>\n",
       "      <td>http://www.finsmes.com/2015/08/codementor-rais...</td>\n",
       "      <td>FinsmesUSA</td>\n",
       "      <td>Funding</td>\n",
       "    </tr>\n",
       "    <tr>\n",
       "      <th>2</th>\n",
       "      <td>Clutter Raises $64m in Series C Funding\\n</td>\n",
       "      <td>Clutter, a Culver City, California-based on de...</td>\n",
       "      <td>http://www.finsmes.com/2017/06/clutter-raises-...</td>\n",
       "      <td>FinsmesUSA</td>\n",
       "      <td>Funding</td>\n",
       "    </tr>\n",
       "    <tr>\n",
       "      <th>3</th>\n",
       "      <td>Snaapiq Raises $180K in Seed Funding\\n</td>\n",
       "      <td>Snaapiq, a Washington D.C.-based platform for ...</td>\n",
       "      <td>http://www.finsmes.com/2014/11/snaapiq-raises-...</td>\n",
       "      <td>FinsmesUSA</td>\n",
       "      <td>Funding</td>\n",
       "    </tr>\n",
       "    <tr>\n",
       "      <th>4</th>\n",
       "      <td>2103 Halo Report, Angel Investments and Valuat...</td>\n",
       "      <td>The 2013 Halo Report released today by The Ang...</td>\n",
       "      <td>http://www.finsmes.com/2014/03/2103-halo-repor...</td>\n",
       "      <td>FinsmesUSA</td>\n",
       "      <td>Other</td>\n",
       "    </tr>\n",
       "  </tbody>\n",
       "</table>\n",
       "</div>"
      ],
      "text/plain": [
       "                                               title  \\\n",
       "0  Home Baking Company Foodstirs Closes Series A ...   \n",
       "1               Codementor Raises $1.2M in Funding\\n   \n",
       "2          Clutter Raises $64m in Series C Funding\\n   \n",
       "3             Snaapiq Raises $180K in Seed Funding\\n   \n",
       "4  2103 Halo Report, Angel Investments and Valuat...   \n",
       "\n",
       "                                             content  \\\n",
       "0  Foodstirs, a Los Angeles, CA-based home baking...   \n",
       "1  Codementor, a Mountain View, CA-based marketpl...   \n",
       "2  Clutter, a Culver City, California-based on de...   \n",
       "3  Snaapiq, a Washington D.C.-based platform for ...   \n",
       "4  The 2013 Halo Report released today by The Ang...   \n",
       "\n",
       "                                                link     sources    class  \n",
       "0  http://www.finsmes.com/2016/10/home-baking-com...  FinsmesUSA  Funding  \n",
       "1  http://www.finsmes.com/2015/08/codementor-rais...  FinsmesUSA  Funding  \n",
       "2  http://www.finsmes.com/2017/06/clutter-raises-...  FinsmesUSA  Funding  \n",
       "3  http://www.finsmes.com/2014/11/snaapiq-raises-...  FinsmesUSA  Funding  \n",
       "4  http://www.finsmes.com/2014/03/2103-halo-repor...  FinsmesUSA    Other  "
      ]
     },
     "execution_count": 7,
     "metadata": {},
     "output_type": "execute_result"
    }
   ],
   "source": [
    "finsmes = pd.read_csv('dataset/data/all_finsmes.csv')\n",
    "finsmes.head()"
   ]
  },
  {
   "cell_type": "code",
   "execution_count": 8,
   "metadata": {},
   "outputs": [
    {
     "data": {
      "text/html": [
       "<div>\n",
       "<style scoped>\n",
       "    .dataframe tbody tr th:only-of-type {\n",
       "        vertical-align: middle;\n",
       "    }\n",
       "\n",
       "    .dataframe tbody tr th {\n",
       "        vertical-align: top;\n",
       "    }\n",
       "\n",
       "    .dataframe thead th {\n",
       "        text-align: right;\n",
       "    }\n",
       "</style>\n",
       "<table border=\"1\" class=\"dataframe\">\n",
       "  <thead>\n",
       "    <tr style=\"text-align: right;\">\n",
       "      <th></th>\n",
       "      <th>title</th>\n",
       "      <th>content</th>\n",
       "      <th>link</th>\n",
       "      <th>sources</th>\n",
       "    </tr>\n",
       "  </thead>\n",
       "  <tbody>\n",
       "    <tr>\n",
       "      <th>0</th>\n",
       "      <td>Africa&amp;#8217;s Talking joins Open Banking Nige...</td>\n",
       "      <td>Open Banking Nigeria has announced a partnersh...</td>\n",
       "      <td>https://blog.digestafrica.co/africas-talking-o...</td>\n",
       "      <td>DigestAfrica</td>\n",
       "    </tr>\n",
       "    <tr>\n",
       "      <th>1</th>\n",
       "      <td>Who will lead the African online privacy and d...</td>\n",
       "      <td>According to Menabytes, Egyptian ride-hailing ...</td>\n",
       "      <td>https://blog.digestafrica.co/african-online-pr...</td>\n",
       "      <td>DigestAfrica</td>\n",
       "    </tr>\n",
       "    <tr>\n",
       "      <th>2</th>\n",
       "      <td>Facebook has finally decided to monetize the W...</td>\n",
       "      <td>After splashing over $19 Billion to acquire Wh...</td>\n",
       "      <td>https://blog.digestafrica.co/whatsapp-business...</td>\n",
       "      <td>DigestAfrica</td>\n",
       "    </tr>\n",
       "    <tr>\n",
       "      <th>3</th>\n",
       "      <td>How Uganda&amp;#8217;s Startup Economy Fell Behind...</td>\n",
       "      <td>I am no thought leader when it comes to tech e...</td>\n",
       "      <td>https://blog.digestafrica.co/how-ugandas-start...</td>\n",
       "      <td>DigestAfrica</td>\n",
       "    </tr>\n",
       "    <tr>\n",
       "      <th>4</th>\n",
       "      <td>Tech hubs in Africa should focus on being what...</td>\n",
       "      <td>A recently released paper has recommended that...</td>\n",
       "      <td>https://blog.digestafrica.co/tech-hubs-in-afri...</td>\n",
       "      <td>DigestAfrica</td>\n",
       "    </tr>\n",
       "  </tbody>\n",
       "</table>\n",
       "</div>"
      ],
      "text/plain": [
       "                                               title  \\\n",
       "0  Africa&#8217;s Talking joins Open Banking Nige...   \n",
       "1  Who will lead the African online privacy and d...   \n",
       "2  Facebook has finally decided to monetize the W...   \n",
       "3  How Uganda&#8217;s Startup Economy Fell Behind...   \n",
       "4  Tech hubs in Africa should focus on being what...   \n",
       "\n",
       "                                             content  \\\n",
       "0  Open Banking Nigeria has announced a partnersh...   \n",
       "1  According to Menabytes, Egyptian ride-hailing ...   \n",
       "2  After splashing over $19 Billion to acquire Wh...   \n",
       "3  I am no thought leader when it comes to tech e...   \n",
       "4  A recently released paper has recommended that...   \n",
       "\n",
       "                                                link       sources  \n",
       "0  https://blog.digestafrica.co/africas-talking-o...  DigestAfrica  \n",
       "1  https://blog.digestafrica.co/african-online-pr...  DigestAfrica  \n",
       "2  https://blog.digestafrica.co/whatsapp-business...  DigestAfrica  \n",
       "3  https://blog.digestafrica.co/how-ugandas-start...  DigestAfrica  \n",
       "4  https://blog.digestafrica.co/tech-hubs-in-afri...  DigestAfrica  "
      ]
     },
     "execution_count": 8,
     "metadata": {},
     "output_type": "execute_result"
    }
   ],
   "source": [
    "digest = pd.read_csv('dataset/data/digestafrica.csv')\n",
    "digest.head()"
   ]
  },
  {
   "cell_type": "code",
   "execution_count": 9,
   "metadata": {},
   "outputs": [
    {
     "data": {
      "text/html": [
       "<div>\n",
       "<style scoped>\n",
       "    .dataframe tbody tr th:only-of-type {\n",
       "        vertical-align: middle;\n",
       "    }\n",
       "\n",
       "    .dataframe tbody tr th {\n",
       "        vertical-align: top;\n",
       "    }\n",
       "\n",
       "    .dataframe thead th {\n",
       "        text-align: right;\n",
       "    }\n",
       "</style>\n",
       "<table border=\"1\" class=\"dataframe\">\n",
       "  <thead>\n",
       "    <tr style=\"text-align: right;\">\n",
       "      <th></th>\n",
       "      <th>title</th>\n",
       "      <th>content</th>\n",
       "      <th>link</th>\n",
       "      <th>sources</th>\n",
       "    </tr>\n",
       "  </thead>\n",
       "  <tbody>\n",
       "    <tr>\n",
       "      <th>0</th>\n",
       "      <td>Apply now for Mastercard Start Path\\n</td>\n",
       "      <td>Applications are open to the next cohort of th...</td>\n",
       "      <td>http://disrupt-africa.com/2017/06/apply-now-fo...</td>\n",
       "      <td>DisrupttAfrica</td>\n",
       "    </tr>\n",
       "    <tr>\n",
       "      <th>1</th>\n",
       "      <td>African startups tapping the huge potential of...</td>\n",
       "      <td>The “African insurance market” is barely worth...</td>\n",
       "      <td>http://disrupt-africa.com/2019/01/african-star...</td>\n",
       "      <td>DisrupttAfrica</td>\n",
       "    </tr>\n",
       "    <tr>\n",
       "      <th>2</th>\n",
       "      <td>HiiL opens Innovating Justice Challenge for Af...</td>\n",
       "      <td>The HiiL Justice Accelerator, together with th...</td>\n",
       "      <td>http://disrupt-africa.com/2016/05/hiil-opens-i...</td>\n",
       "      <td>DisrupttAfrica</td>\n",
       "    </tr>\n",
       "    <tr>\n",
       "      <th>3</th>\n",
       "      <td>Want to scale your startup to Korea? Here’s how\\n</td>\n",
       "      <td>The South Korean government is inviting applic...</td>\n",
       "      <td>http://disrupt-africa.com/2016/05/want-to-scal...</td>\n",
       "      <td>DisrupttAfrica</td>\n",
       "    </tr>\n",
       "    <tr>\n",
       "      <th>4</th>\n",
       "      <td>GroFin secures $10m USAID grant to back East A...</td>\n",
       "      <td>Pan-African development financier GroFin has r...</td>\n",
       "      <td>http://disrupt-africa.com/2017/10/grofin-secur...</td>\n",
       "      <td>DisrupttAfrica</td>\n",
       "    </tr>\n",
       "  </tbody>\n",
       "</table>\n",
       "</div>"
      ],
      "text/plain": [
       "                                               title  \\\n",
       "0              Apply now for Mastercard Start Path\\n   \n",
       "1  African startups tapping the huge potential of...   \n",
       "2  HiiL opens Innovating Justice Challenge for Af...   \n",
       "3  Want to scale your startup to Korea? Here’s how\\n   \n",
       "4  GroFin secures $10m USAID grant to back East A...   \n",
       "\n",
       "                                             content  \\\n",
       "0  Applications are open to the next cohort of th...   \n",
       "1  The “African insurance market” is barely worth...   \n",
       "2  The HiiL Justice Accelerator, together with th...   \n",
       "3  The South Korean government is inviting applic...   \n",
       "4  Pan-African development financier GroFin has r...   \n",
       "\n",
       "                                                link         sources  \n",
       "0  http://disrupt-africa.com/2017/06/apply-now-fo...  DisrupttAfrica  \n",
       "1  http://disrupt-africa.com/2019/01/african-star...  DisrupttAfrica  \n",
       "2  http://disrupt-africa.com/2016/05/hiil-opens-i...  DisrupttAfrica  \n",
       "3  http://disrupt-africa.com/2016/05/want-to-scal...  DisrupttAfrica  \n",
       "4  http://disrupt-africa.com/2017/10/grofin-secur...  DisrupttAfrica  "
      ]
     },
     "execution_count": 9,
     "metadata": {},
     "output_type": "execute_result"
    }
   ],
   "source": [
    "disrupt = pd.read_csv('dataset/data/disruptafrica.csv')\n",
    "disrupt.head()"
   ]
  },
  {
   "cell_type": "code",
   "execution_count": 10,
   "metadata": {},
   "outputs": [
    {
     "name": "stdout",
     "output_type": "stream",
     "text": [
      "Finsmes length: 27727\n",
      "Digest length: 784\n",
      "Disrupt length: 2382\n"
     ]
    }
   ],
   "source": [
    "print('Finsmes length: {}'.format(finsmes.shape[0]))\n",
    "print('Digest length: {}'.format(digest.shape[0]))\n",
    "print('Disrupt length: {}'.format(disrupt.shape[0]))"
   ]
  },
  {
   "cell_type": "code",
   "execution_count": 11,
   "metadata": {},
   "outputs": [],
   "source": [
    "def is_funding(cell):\n",
    "    match_fund = re.search(r'fund|raise|secures', cell)\n",
    "    match_exit = re.search(r'buy|acquire', cell)\n",
    "    \n",
    "    if match_fund:\n",
    "        return 'Funding'\n",
    "    elif match_exit:\n",
    "        return 'Acquire'\n",
    "    else:\n",
    "        return 'Other'"
   ]
  },
  {
   "cell_type": "code",
   "execution_count": 12,
   "metadata": {},
   "outputs": [],
   "source": [
    "digest['class']= digest['link'].map(is_funding)"
   ]
  },
  {
   "cell_type": "code",
   "execution_count": 13,
   "metadata": {},
   "outputs": [],
   "source": [
    "disrupt['class'] = disrupt['link'].map(is_funding)"
   ]
  },
  {
   "cell_type": "markdown",
   "metadata": {},
   "source": [
    "#### Combine the three data sets"
   ]
  },
  {
   "cell_type": "code",
   "execution_count": 14,
   "metadata": {},
   "outputs": [
    {
     "data": {
      "text/plain": [
       "(30893, 5)"
      ]
     },
     "execution_count": 14,
     "metadata": {},
     "output_type": "execute_result"
    }
   ],
   "source": [
    "combined_data = pd.concat([finsmes, digest, disrupt], axis=0)\n",
    "combined_data.shape"
   ]
  },
  {
   "cell_type": "code",
   "execution_count": 15,
   "metadata": {},
   "outputs": [
    {
     "data": {
      "text/plain": [
       "(19446, 5)"
      ]
     },
     "execution_count": 15,
     "metadata": {},
     "output_type": "execute_result"
    }
   ],
   "source": [
    "combined_data[combined_data['class']=='Funding'].shape"
   ]
  },
  {
   "cell_type": "code",
   "execution_count": 16,
   "metadata": {},
   "outputs": [
    {
     "data": {
      "text/plain": [
       "(13800, 7)"
      ]
     },
     "execution_count": 16,
     "metadata": {},
     "output_type": "execute_result"
    }
   ],
   "source": [
    "all_data[all_data['class']=='Other'].shape"
   ]
  },
  {
   "cell_type": "code",
   "execution_count": 17,
   "metadata": {},
   "outputs": [
    {
     "data": {
      "text/html": [
       "<div>\n",
       "<style scoped>\n",
       "    .dataframe tbody tr th:only-of-type {\n",
       "        vertical-align: middle;\n",
       "    }\n",
       "\n",
       "    .dataframe tbody tr th {\n",
       "        vertical-align: top;\n",
       "    }\n",
       "\n",
       "    .dataframe thead th {\n",
       "        text-align: right;\n",
       "    }\n",
       "</style>\n",
       "<table border=\"1\" class=\"dataframe\">\n",
       "  <thead>\n",
       "    <tr style=\"text-align: right;\">\n",
       "      <th></th>\n",
       "      <th>sentence</th>\n",
       "      <th>content</th>\n",
       "      <th>links</th>\n",
       "      <th>source</th>\n",
       "      <th>class</th>\n",
       "    </tr>\n",
       "  </thead>\n",
       "  <tbody>\n",
       "    <tr>\n",
       "      <th>0</th>\n",
       "      <td>Gaming firm Razer seeks to raise over $600M in...</td>\n",
       "      <td>The U.S.-based company, which traces its origi...</td>\n",
       "      <td>https://techcrunch.com/2017/07/01/razer-hong-k...</td>\n",
       "      <td>techcrunch</td>\n",
       "      <td>Funding</td>\n",
       "    </tr>\n",
       "    <tr>\n",
       "      <th>1</th>\n",
       "      <td>Mendel.ai nabs $2 million to match cancer pati...</td>\n",
       "      <td>He called his new system Mendel.ai after Grego...</td>\n",
       "      <td>https://techcrunch.com/2017/07/01/mendel-ai-na...</td>\n",
       "      <td>techcrunch</td>\n",
       "      <td>Other</td>\n",
       "    </tr>\n",
       "    <tr>\n",
       "      <th>2</th>\n",
       "      <td>These cities in Californiaís East Bay are raki...</td>\n",
       "      <td>Most Americans have never heard of Emeryville,...</td>\n",
       "      <td>https://techcrunch.com/2017/07/01/these-east-b...</td>\n",
       "      <td>techcrunch</td>\n",
       "      <td>Funding</td>\n",
       "    </tr>\n",
       "    <tr>\n",
       "      <th>3</th>\n",
       "      <td>A walk around Station F with Emmanuel†Macron</td>\n",
       "      <td></td>\n",
       "      <td>https://techcrunch.com/2017/07/01/a-walk-aroun...</td>\n",
       "      <td>techcrunch</td>\n",
       "      <td>Other</td>\n",
       "    </tr>\n",
       "    <tr>\n",
       "      <th>4</th>\n",
       "      <td>Crunch Report | Facebook Helps You Find†Wi-Fi</td>\n",
       "      <td>Written and Hosted by: Anthony Ha Filmed by: M...</td>\n",
       "      <td>https://techcrunch.com/2017/06/30/crunch-repor...</td>\n",
       "      <td>techcrunch</td>\n",
       "      <td>Other</td>\n",
       "    </tr>\n",
       "  </tbody>\n",
       "</table>\n",
       "</div>"
      ],
      "text/plain": [
       "                                            sentence  \\\n",
       "0  Gaming firm Razer seeks to raise over $600M in...   \n",
       "1  Mendel.ai nabs $2 million to match cancer pati...   \n",
       "2  These cities in Californiaís East Bay are raki...   \n",
       "3       A walk around Station F with Emmanuel†Macron   \n",
       "4      Crunch Report | Facebook Helps You Find†Wi-Fi   \n",
       "\n",
       "                                             content  \\\n",
       "0  The U.S.-based company, which traces its origi...   \n",
       "1  He called his new system Mendel.ai after Grego...   \n",
       "2  Most Americans have never heard of Emeryville,...   \n",
       "3                                                      \n",
       "4  Written and Hosted by: Anthony Ha Filmed by: M...   \n",
       "\n",
       "                                               links      source    class  \n",
       "0  https://techcrunch.com/2017/07/01/razer-hong-k...  techcrunch  Funding  \n",
       "1  https://techcrunch.com/2017/07/01/mendel-ai-na...  techcrunch    Other  \n",
       "2  https://techcrunch.com/2017/07/01/these-east-b...  techcrunch  Funding  \n",
       "3  https://techcrunch.com/2017/07/01/a-walk-aroun...  techcrunch    Other  \n",
       "4  https://techcrunch.com/2017/06/30/crunch-repor...  techcrunch    Other  "
      ]
     },
     "execution_count": 17,
     "metadata": {},
     "output_type": "execute_result"
    }
   ],
   "source": [
    "all_data2 = all_data.copy()\n",
    "all_data2 = all_data2[['sentence', 'content', 'links', 'source', 'class']]\n",
    "all_data2.head()"
   ]
  },
  {
   "cell_type": "code",
   "execution_count": 18,
   "metadata": {},
   "outputs": [
    {
     "data": {
      "text/html": [
       "<div>\n",
       "<style scoped>\n",
       "    .dataframe tbody tr th:only-of-type {\n",
       "        vertical-align: middle;\n",
       "    }\n",
       "\n",
       "    .dataframe tbody tr th {\n",
       "        vertical-align: top;\n",
       "    }\n",
       "\n",
       "    .dataframe thead th {\n",
       "        text-align: right;\n",
       "    }\n",
       "</style>\n",
       "<table border=\"1\" class=\"dataframe\">\n",
       "  <thead>\n",
       "    <tr style=\"text-align: right;\">\n",
       "      <th></th>\n",
       "      <th>title</th>\n",
       "      <th>content</th>\n",
       "      <th>link</th>\n",
       "      <th>sources</th>\n",
       "      <th>class</th>\n",
       "    </tr>\n",
       "  </thead>\n",
       "  <tbody>\n",
       "    <tr>\n",
       "      <th>0</th>\n",
       "      <td>Gaming firm Razer seeks to raise over $600M in...</td>\n",
       "      <td>The U.S.-based company, which traces its origi...</td>\n",
       "      <td>https://techcrunch.com/2017/07/01/razer-hong-k...</td>\n",
       "      <td>techcrunch</td>\n",
       "      <td>Funding</td>\n",
       "    </tr>\n",
       "    <tr>\n",
       "      <th>1</th>\n",
       "      <td>Mendel.ai nabs $2 million to match cancer pati...</td>\n",
       "      <td>He called his new system Mendel.ai after Grego...</td>\n",
       "      <td>https://techcrunch.com/2017/07/01/mendel-ai-na...</td>\n",
       "      <td>techcrunch</td>\n",
       "      <td>Other</td>\n",
       "    </tr>\n",
       "    <tr>\n",
       "      <th>2</th>\n",
       "      <td>These cities in Californiaís East Bay are raki...</td>\n",
       "      <td>Most Americans have never heard of Emeryville,...</td>\n",
       "      <td>https://techcrunch.com/2017/07/01/these-east-b...</td>\n",
       "      <td>techcrunch</td>\n",
       "      <td>Funding</td>\n",
       "    </tr>\n",
       "  </tbody>\n",
       "</table>\n",
       "</div>"
      ],
      "text/plain": [
       "                                               title  \\\n",
       "0  Gaming firm Razer seeks to raise over $600M in...   \n",
       "1  Mendel.ai nabs $2 million to match cancer pati...   \n",
       "2  These cities in Californiaís East Bay are raki...   \n",
       "\n",
       "                                             content  \\\n",
       "0  The U.S.-based company, which traces its origi...   \n",
       "1  He called his new system Mendel.ai after Grego...   \n",
       "2  Most Americans have never heard of Emeryville,...   \n",
       "\n",
       "                                                link     sources    class  \n",
       "0  https://techcrunch.com/2017/07/01/razer-hong-k...  techcrunch  Funding  \n",
       "1  https://techcrunch.com/2017/07/01/mendel-ai-na...  techcrunch    Other  \n",
       "2  https://techcrunch.com/2017/07/01/these-east-b...  techcrunch  Funding  "
      ]
     },
     "execution_count": 18,
     "metadata": {},
     "output_type": "execute_result"
    }
   ],
   "source": [
    "all_data2.columns = finsmes.columns\n",
    "all_data2.head(3)"
   ]
  },
  {
   "cell_type": "markdown",
   "metadata": {},
   "source": [
    "### Combine all Funding and Other"
   ]
  },
  {
   "cell_type": "code",
   "execution_count": 19,
   "metadata": {},
   "outputs": [
    {
     "data": {
      "text/plain": [
       "(2055, 5)"
      ]
     },
     "execution_count": 19,
     "metadata": {},
     "output_type": "execute_result"
    }
   ],
   "source": [
    "all_data2[all_data2['class']=='Funding'].shape"
   ]
  },
  {
   "cell_type": "code",
   "execution_count": 20,
   "metadata": {},
   "outputs": [],
   "source": [
    "funding_df = pd.concat([all_data2[all_data2['class']=='Funding'], combined_data[combined_data['class']=='Funding']], axis=0)\n",
    "other_df = pd.concat([all_data2[all_data2['class']=='Other'], combined_data[combined_data['class']=='Other']], axis=0)"
   ]
  },
  {
   "cell_type": "code",
   "execution_count": 21,
   "metadata": {},
   "outputs": [
    {
     "data": {
      "text/plain": [
       "((21501, 5), (23512, 5))"
      ]
     },
     "execution_count": 21,
     "metadata": {},
     "output_type": "execute_result"
    }
   ],
   "source": [
    "funding_df.shape, other_df.shape"
   ]
  },
  {
   "cell_type": "code",
   "execution_count": 22,
   "metadata": {},
   "outputs": [],
   "source": [
    "dataset = pd.concat([funding_df, other_df], axis=0)\n",
    "dataset = dataset.sample(frac=1)"
   ]
  },
  {
   "cell_type": "code",
   "execution_count": 23,
   "metadata": {},
   "outputs": [
    {
     "data": {
      "text/html": [
       "<div>\n",
       "<style scoped>\n",
       "    .dataframe tbody tr th:only-of-type {\n",
       "        vertical-align: middle;\n",
       "    }\n",
       "\n",
       "    .dataframe tbody tr th {\n",
       "        vertical-align: top;\n",
       "    }\n",
       "\n",
       "    .dataframe thead th {\n",
       "        text-align: right;\n",
       "    }\n",
       "</style>\n",
       "<table border=\"1\" class=\"dataframe\">\n",
       "  <thead>\n",
       "    <tr style=\"text-align: right;\">\n",
       "      <th></th>\n",
       "      <th>title</th>\n",
       "      <th>content</th>\n",
       "      <th>link</th>\n",
       "      <th>source</th>\n",
       "      <th>class</th>\n",
       "    </tr>\n",
       "  </thead>\n",
       "  <tbody>\n",
       "    <tr>\n",
       "      <th>0</th>\n",
       "      <td>Tibit Communications Raises $20M in Series B F...</td>\n",
       "      <td>Tibit Communications, Inc., a Petaluma, CA-bas...</td>\n",
       "      <td>http://www.finsmes.com/2019/04/tibit-communica...</td>\n",
       "      <td>FinsmesUSA</td>\n",
       "      <td>Funding</td>\n",
       "    </tr>\n",
       "    <tr>\n",
       "      <th>1</th>\n",
       "      <td>Twitter blames human error after blocking a Ne...</td>\n",
       "      <td>Over the holiday weekend, The New York Times f...</td>\n",
       "      <td>https://techcrunch.com/2017/11/27/twitter-blam...</td>\n",
       "      <td>techcrunch</td>\n",
       "      <td>Other</td>\n",
       "    </tr>\n",
       "    <tr>\n",
       "      <th>2</th>\n",
       "      <td>SimplyCook Raises £4.5M in Series A Funding\\n</td>\n",
       "      <td>SimplyCook, a London, UK-based recipe kit serv...</td>\n",
       "      <td>http://www.finsmes.com/2019/01/simplycook-rais...</td>\n",
       "      <td>FinsmesUK</td>\n",
       "      <td>Funding</td>\n",
       "    </tr>\n",
       "    <tr>\n",
       "      <th>3</th>\n",
       "      <td>Moogsoft Secures $40M in Series D Funding\\n</td>\n",
       "      <td>Moogsoft, a San Francisco, CA-based provider o...</td>\n",
       "      <td>http://www.finsmes.com/2018/03/moogsoft-secure...</td>\n",
       "      <td>FinsmesUSA</td>\n",
       "      <td>Funding</td>\n",
       "    </tr>\n",
       "    <tr>\n",
       "      <th>4</th>\n",
       "      <td>Zeta Global acquires commenting service†Disqus</td>\n",
       "      <td>A source close to the two companies tells us t...</td>\n",
       "      <td>https://techcrunch.com/2017/12/05/zeta-global-...</td>\n",
       "      <td>techcrunch</td>\n",
       "      <td>Other</td>\n",
       "    </tr>\n",
       "  </tbody>\n",
       "</table>\n",
       "</div>"
      ],
      "text/plain": [
       "                                               title  \\\n",
       "0  Tibit Communications Raises $20M in Series B F...   \n",
       "1  Twitter blames human error after blocking a Ne...   \n",
       "2      SimplyCook Raises £4.5M in Series A Funding\\n   \n",
       "3        Moogsoft Secures $40M in Series D Funding\\n   \n",
       "4     Zeta Global acquires commenting service†Disqus   \n",
       "\n",
       "                                             content  \\\n",
       "0  Tibit Communications, Inc., a Petaluma, CA-bas...   \n",
       "1  Over the holiday weekend, The New York Times f...   \n",
       "2  SimplyCook, a London, UK-based recipe kit serv...   \n",
       "3  Moogsoft, a San Francisco, CA-based provider o...   \n",
       "4  A source close to the two companies tells us t...   \n",
       "\n",
       "                                                link      source    class  \n",
       "0  http://www.finsmes.com/2019/04/tibit-communica...  FinsmesUSA  Funding  \n",
       "1  https://techcrunch.com/2017/11/27/twitter-blam...  techcrunch    Other  \n",
       "2  http://www.finsmes.com/2019/01/simplycook-rais...   FinsmesUK  Funding  \n",
       "3  http://www.finsmes.com/2018/03/moogsoft-secure...  FinsmesUSA  Funding  \n",
       "4  https://techcrunch.com/2017/12/05/zeta-global-...  techcrunch    Other  "
      ]
     },
     "execution_count": 23,
     "metadata": {},
     "output_type": "execute_result"
    }
   ],
   "source": [
    "dataset.columns = ['title', 'content', 'link', 'source', 'class']\n",
    "dataset.reset_index(drop=True, inplace=True)\n",
    "dataset.head()"
   ]
  },
  {
   "cell_type": "code",
   "execution_count": 25,
   "metadata": {},
   "outputs": [],
   "source": [
    "dataset.to_csv('dataset/data/articles_dataset.csv', index=False)"
   ]
  },
  {
   "cell_type": "code",
   "execution_count": 24,
   "metadata": {},
   "outputs": [
    {
     "data": {
      "text/plain": [
       "(45013, 5)"
      ]
     },
     "execution_count": 24,
     "metadata": {},
     "output_type": "execute_result"
    }
   ],
   "source": [
    "dataset.shape"
   ]
  },
  {
   "cell_type": "code",
   "execution_count": null,
   "metadata": {},
   "outputs": [],
   "source": []
  }
 ],
 "metadata": {
  "kernelspec": {
   "display_name": "Python 3",
   "language": "python",
   "name": "python3"
  },
  "language_info": {
   "codemirror_mode": {
    "name": "ipython",
    "version": 3
   },
   "file_extension": ".py",
   "mimetype": "text/x-python",
   "name": "python",
   "nbconvert_exporter": "python",
   "pygments_lexer": "ipython3",
   "version": "3.7.0"
  }
 },
 "nbformat": 4,
 "nbformat_minor": 2
}
