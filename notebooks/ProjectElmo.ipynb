{
 "cells": [
  {
   "cell_type": "code",
   "execution_count": 1,
   "metadata": {},
   "outputs": [
    {
     "name": "stderr",
     "output_type": "stream",
     "text": [
      "Using TensorFlow backend.\n"
     ]
    }
   ],
   "source": [
    "import random\n",
    "import tensorflow as tf\n",
    "import numpy as np\n",
    "import os\n",
    "import re\n",
    "import tensorflow_hub as hub\n",
    "\n",
    "\n",
    "from keras.layers import Layer\n",
    "from keras import backend as K\n",
    "import keras.layers as layers\n",
    "from keras.models import Model, load_model\n",
    "from keras.models import Sequential\n",
    "from keras.models import Model\n",
    "from keras import layers\n",
    "from keras.preprocessing.text import Tokenizer\n",
    "from keras.preprocessing.sequence import pad_sequences\n",
    "from keras.callbacks import EarlyStopping\n",
    "import pandas as pd\n",
    "\n",
    "import matplotlib.pyplot as plt\n",
    "plt.style.use('ggplot')\n",
    "\n",
    "from sklearn.preprocessing import LabelEncoder\n",
    "from sklearn.preprocessing import OneHotEncoder\n",
    "from sklearn.preprocessing import MultiLabelBinarizer"
   ]
  },
  {
   "cell_type": "code",
   "execution_count": 2,
   "metadata": {},
   "outputs": [
    {
     "data": {
      "text/plain": [
       "True"
      ]
     },
     "execution_count": 2,
     "metadata": {},
     "output_type": "execute_result"
    }
   ],
   "source": [
    "tf.test.is_gpu_available()"
   ]
  },
  {
   "cell_type": "markdown",
   "metadata": {},
   "source": [
    "#### Initialize Session"
   ]
  },
  {
   "cell_type": "code",
   "execution_count": 3,
   "metadata": {},
   "outputs": [],
   "source": [
    "config = tf.ConfigProto()\n",
    "config.gpu_options.allow_growth = True\n",
    "\n",
    "sess = tf.compat.v1.Session(config=config)\n",
    "sess.run(tf.global_variables_initializer())\n",
    "K.set_session(sess)"
   ]
  },
  {
   "cell_type": "markdown",
   "metadata": {},
   "source": [
    "### Prepare the Data"
   ]
  },
  {
   "cell_type": "code",
   "execution_count": 4,
   "metadata": {},
   "outputs": [
    {
     "data": {
      "text/html": [
       "<div>\n",
       "<style scoped>\n",
       "    .dataframe tbody tr th:only-of-type {\n",
       "        vertical-align: middle;\n",
       "    }\n",
       "\n",
       "    .dataframe tbody tr th {\n",
       "        vertical-align: top;\n",
       "    }\n",
       "\n",
       "    .dataframe thead th {\n",
       "        text-align: right;\n",
       "    }\n",
       "</style>\n",
       "<table border=\"1\" class=\"dataframe\">\n",
       "  <thead>\n",
       "    <tr style=\"text-align: right;\">\n",
       "      <th></th>\n",
       "      <th>title</th>\n",
       "      <th>content</th>\n",
       "      <th>link</th>\n",
       "      <th>source</th>\n",
       "      <th>class</th>\n",
       "    </tr>\n",
       "  </thead>\n",
       "  <tbody>\n",
       "    <tr>\n",
       "      <th>0</th>\n",
       "      <td>Tibit Communications Raises $20M in Series B F...</td>\n",
       "      <td>Tibit Communications, Inc., a Petaluma, CA-bas...</td>\n",
       "      <td>http://www.finsmes.com/2019/04/tibit-communica...</td>\n",
       "      <td>FinsmesUSA</td>\n",
       "      <td>Funding</td>\n",
       "    </tr>\n",
       "    <tr>\n",
       "      <th>1</th>\n",
       "      <td>Twitter blames human error after blocking a Ne...</td>\n",
       "      <td>Over the holiday weekend, The New York Times f...</td>\n",
       "      <td>https://techcrunch.com/2017/11/27/twitter-blam...</td>\n",
       "      <td>techcrunch</td>\n",
       "      <td>Other</td>\n",
       "    </tr>\n",
       "    <tr>\n",
       "      <th>2</th>\n",
       "      <td>SimplyCook Raises £4.5M in Series A Funding\\n</td>\n",
       "      <td>SimplyCook, a London, UK-based recipe kit serv...</td>\n",
       "      <td>http://www.finsmes.com/2019/01/simplycook-rais...</td>\n",
       "      <td>FinsmesUK</td>\n",
       "      <td>Funding</td>\n",
       "    </tr>\n",
       "    <tr>\n",
       "      <th>3</th>\n",
       "      <td>Moogsoft Secures $40M in Series D Funding\\n</td>\n",
       "      <td>Moogsoft, a San Francisco, CA-based provider o...</td>\n",
       "      <td>http://www.finsmes.com/2018/03/moogsoft-secure...</td>\n",
       "      <td>FinsmesUSA</td>\n",
       "      <td>Funding</td>\n",
       "    </tr>\n",
       "    <tr>\n",
       "      <th>4</th>\n",
       "      <td>Zeta Global acquires commenting service†Disqus</td>\n",
       "      <td>A source close to the two companies tells us t...</td>\n",
       "      <td>https://techcrunch.com/2017/12/05/zeta-global-...</td>\n",
       "      <td>techcrunch</td>\n",
       "      <td>Other</td>\n",
       "    </tr>\n",
       "  </tbody>\n",
       "</table>\n",
       "</div>"
      ],
      "text/plain": [
       "                                               title  \\\n",
       "0  Tibit Communications Raises $20M in Series B F...   \n",
       "1  Twitter blames human error after blocking a Ne...   \n",
       "2      SimplyCook Raises £4.5M in Series A Funding\\n   \n",
       "3        Moogsoft Secures $40M in Series D Funding\\n   \n",
       "4     Zeta Global acquires commenting service†Disqus   \n",
       "\n",
       "                                             content  \\\n",
       "0  Tibit Communications, Inc., a Petaluma, CA-bas...   \n",
       "1  Over the holiday weekend, The New York Times f...   \n",
       "2  SimplyCook, a London, UK-based recipe kit serv...   \n",
       "3  Moogsoft, a San Francisco, CA-based provider o...   \n",
       "4  A source close to the two companies tells us t...   \n",
       "\n",
       "                                                link      source    class  \n",
       "0  http://www.finsmes.com/2019/04/tibit-communica...  FinsmesUSA  Funding  \n",
       "1  https://techcrunch.com/2017/11/27/twitter-blam...  techcrunch    Other  \n",
       "2  http://www.finsmes.com/2019/01/simplycook-rais...   FinsmesUK  Funding  \n",
       "3  http://www.finsmes.com/2018/03/moogsoft-secure...  FinsmesUSA  Funding  \n",
       "4  https://techcrunch.com/2017/12/05/zeta-global-...  techcrunch    Other  "
      ]
     },
     "execution_count": 4,
     "metadata": {},
     "output_type": "execute_result"
    }
   ],
   "source": [
    "data = pd.read_csv('dataset/data/articles_dataset.csv')\n",
    "data = data[~data['content'].isnull()]\n",
    "data.head()"
   ]
  },
  {
   "cell_type": "code",
   "execution_count": 5,
   "metadata": {},
   "outputs": [],
   "source": [
    "articles = data['content'].values\n",
    "titles = data['title'].values\n",
    "labels = data['class'].values"
   ]
  },
  {
   "cell_type": "code",
   "execution_count": 6,
   "metadata": {},
   "outputs": [],
   "source": [
    "label_encoder = LabelEncoder()\n",
    "labels = label_encoder.fit_transform(labels)\n",
    "\n",
    "\n",
    "def encode_labels(labels):\n",
    "    encoded = label_encoder.transform(labels)\n",
    "    return encoded\n",
    "\n",
    "def decode_labels(encoded_labels):\n",
    "    labels_type = type(encoded_labels)\n",
    "    \n",
    "    if labels_type == int:\n",
    "        try:\n",
    "            label = label_encoder.inverse_transform([encoded_labels])\n",
    "        except ValueError:\n",
    "            print('Unknown value')\n",
    "            return np.nan\n",
    "        \n",
    "        return label\n",
    "    \n",
    "    elif hasattr(encoded_labels, '__iter__') and labels_type != str:\n",
    "        try:\n",
    "            labels = label_encoder.inverse_transform(encoded_labels)\n",
    "            \n",
    "        except ValueError:\n",
    "            print('Unknown value')\n",
    "            raise\n",
    "            \n",
    "        return labels\n",
    "    else:\n",
    "        raise TypeError"
   ]
  },
  {
   "cell_type": "markdown",
   "metadata": {},
   "source": [
    "#### Reduce articles to 150 words"
   ]
  },
  {
   "cell_type": "code",
   "execution_count": 7,
   "metadata": {},
   "outputs": [],
   "source": [
    "articles = np.array([' '.join(article.split()[:150]) for article in articles])"
   ]
  },
  {
   "cell_type": "markdown",
   "metadata": {},
   "source": [
    "#### Create training, dev and test data"
   ]
  },
  {
   "cell_type": "code",
   "execution_count": 8,
   "metadata": {},
   "outputs": [
    {
     "name": "stdout",
     "output_type": "stream",
     "text": [
      "35225 4403 39628\n"
     ]
    }
   ],
   "source": [
    "data_size = len(articles)\n",
    "\n",
    "train_size = round(0.8 * data_size)\n",
    "dev_size = round(0.1 * data_size)\n",
    "\n",
    "dev_end = train_size + dev_size\n",
    "\n",
    "print(train_size, dev_size, dev_end)"
   ]
  },
  {
   "cell_type": "code",
   "execution_count": 9,
   "metadata": {},
   "outputs": [],
   "source": [
    "shuffle = np.random.permutation(len(articles))\n",
    "articles = articles[shuffle]\n",
    "titles = titles[shuffle]\n",
    "labels = labels[shuffle]\n",
    "\n",
    "articles_train, labels_train, titles_train = articles[:train_size], labels[:train_size], titles[:train_size]\n",
    "articles_dev, labels_dev, titles_dev = articles[train_size:dev_end], labels[train_size:dev_end], titles[train_size:dev_end]\n",
    "articles_test, labels_test, titles_test = articles[dev_end:], labels[dev_end:], titles[dev_end:]"
   ]
  },
  {
   "cell_type": "markdown",
   "metadata": {},
   "source": [
    "### Model Building"
   ]
  },
  {
   "cell_type": "markdown",
   "metadata": {},
   "source": [
    "#### Function to plot learning curves"
   ]
  },
  {
   "cell_type": "code",
   "execution_count": 10,
   "metadata": {},
   "outputs": [],
   "source": [
    "def plot_history(history):\n",
    "    acc = history.history['acc']\n",
    "    val_acc = history.history['val_acc']\n",
    "    loss = history.history['loss']\n",
    "    val_loss = history.history['val_loss']\n",
    "    x = range(1, len(acc) + 1)\n",
    "\n",
    "    plt.figure(figsize=(12, 5))\n",
    "    plt.subplot(1, 2, 1)\n",
    "    plt.plot(x, acc, 'b', label='Training acc')\n",
    "    plt.plot(x, val_acc, 'r', label='Validation acc')\n",
    "    plt.title('Training and validation accuracy')\n",
    "    plt.legend()\n",
    "    plt.subplot(1, 2, 2)\n",
    "    plt.plot(x, loss, 'b', label='Training loss')\n",
    "    plt.plot(x, val_loss, 'r', label='Validation loss')\n",
    "    plt.title('Training and validation loss')\n",
    "    plt.legend()"
   ]
  },
  {
   "cell_type": "markdown",
   "metadata": {},
   "source": [
    "#### Create the Elmo Embedding Layer"
   ]
  },
  {
   "cell_type": "code",
   "execution_count": 11,
   "metadata": {},
   "outputs": [],
   "source": [
    "class ElmoEmbeddingLayer(Layer):\n",
    "    def __init__(self, **kwargs):\n",
    "        self.dimensions = 1024\n",
    "        self.trainable=True\n",
    "        super(ElmoEmbeddingLayer, self).__init__(**kwargs)\n",
    "\n",
    "    def build(self, input_shape):\n",
    "        self.elmo = hub.Module('https://tfhub.dev/google/elmo/2', trainable=self.trainable,\n",
    "                               name=\"{}_module\".format(self.name))\n",
    "\n",
    "        self.trainable_weights += K.tf.trainable_variables(scope=\"^{}_module/.*\".format(self.name))\n",
    "        super(ElmoEmbeddingLayer, self).build(input_shape)\n",
    "\n",
    "    def call(self, x, mask=None):\n",
    "        result = self.elmo(K.squeeze(K.cast(x, tf.string), axis=1),\n",
    "                      as_dict=True,\n",
    "                      signature='default',\n",
    "                      )['default']\n",
    "        return result\n",
    "\n",
    "    def compute_mask(self, inputs, mask=None):\n",
    "        return K.not_equal(inputs, '--PAD--')\n",
    "\n",
    "    def compute_output_shape(self, input_shape):\n",
    "        return (input_shape[0], self.dimensions)"
   ]
  },
  {
   "cell_type": "markdown",
   "metadata": {},
   "source": [
    "#### Function to build an elmo model"
   ]
  },
  {
   "cell_type": "code",
   "execution_count": 12,
   "metadata": {},
   "outputs": [],
   "source": [
    "# def build_model(): \n",
    "#   input_text = layers.Input(shape=(1,), dtype=\"string\")\n",
    "#   embedding = ElmoEmbeddingLayer()(input_text)\n",
    "#   dense = layers.Dense(20, activation='relu')(embedding)\n",
    "#   pred = layers.Dense(1, activation='sigmoid')(dense)\n",
    "\n",
    "#   model = Model(inputs=[input_text], outputs=pred)\n",
    "\n",
    "#   model.compile(loss='binary_crossentropy', optimizer='adam', metrics=['accuracy'])\n",
    "#   model.summary()\n",
    "  \n",
    "#   return model"
   ]
  },
  {
   "cell_type": "code",
   "execution_count": 13,
   "metadata": {},
   "outputs": [
    {
     "name": "stderr",
     "output_type": "stream",
     "text": [
      "WARNING: Logging before flag parsing goes to stderr.\n",
      "W0731 03:30:30.322214 139856200791872 deprecation_wrapper.py:119] From /home/brianmusisi/anaconda3/lib/python3.7/site-packages/keras/backend/tensorflow_backend.py:74: The name tf.get_default_graph is deprecated. Please use tf.compat.v1.get_default_graph instead.\n",
      "\n",
      "W0731 03:30:30.323782 139856200791872 deprecation_wrapper.py:119] From /home/brianmusisi/anaconda3/lib/python3.7/site-packages/keras/backend/tensorflow_backend.py:517: The name tf.placeholder is deprecated. Please use tf.compat.v1.placeholder instead.\n",
      "\n",
      "W0731 03:30:52.794257 139856200791872 deprecation_wrapper.py:119] From /home/brianmusisi/anaconda3/lib/python3.7/site-packages/keras/backend/tensorflow_backend.py:4138: The name tf.random_uniform is deprecated. Please use tf.random.uniform instead.\n",
      "\n",
      "W0731 03:30:52.820260 139856200791872 deprecation_wrapper.py:119] From /home/brianmusisi/anaconda3/lib/python3.7/site-packages/keras/optimizers.py:790: The name tf.train.Optimizer is deprecated. Please use tf.compat.v1.train.Optimizer instead.\n",
      "\n",
      "W0731 03:30:52.841519 139856200791872 deprecation_wrapper.py:119] From /home/brianmusisi/anaconda3/lib/python3.7/site-packages/keras/backend/tensorflow_backend.py:3376: The name tf.log is deprecated. Please use tf.math.log instead.\n",
      "\n",
      "W0731 03:30:52.847531 139856200791872 deprecation.py:323] From /home/brianmusisi/anaconda3/lib/python3.7/site-packages/tensorflow/python/ops/nn_impl.py:180: add_dispatch_support.<locals>.wrapper (from tensorflow.python.ops.array_ops) is deprecated and will be removed in a future version.\n",
      "Instructions for updating:\n",
      "Use tf.where in 2.0, which has the same broadcast rule as np.where\n"
     ]
    },
    {
     "name": "stdout",
     "output_type": "stream",
     "text": [
      "_________________________________________________________________\n",
      "Layer (type)                 Output Shape              Param #   \n",
      "=================================================================\n",
      "input_1 (InputLayer)         (None, 1)                 0         \n",
      "_________________________________________________________________\n",
      "elmo_embedding_layer_1 (Elmo (None, 1024)              4         \n",
      "_________________________________________________________________\n",
      "dense_1 (Dense)              (None, 20)                20500     \n",
      "_________________________________________________________________\n",
      "dense_2 (Dense)              (None, 1)                 21        \n",
      "=================================================================\n",
      "Total params: 20,525\n",
      "Trainable params: 20,525\n",
      "Non-trainable params: 0\n",
      "_________________________________________________________________\n"
     ]
    }
   ],
   "source": [
    "# #Build the model\n",
    "# model = build_model()"
   ]
  },
  {
   "cell_type": "code",
   "execution_count": 14,
   "metadata": {},
   "outputs": [
    {
     "name": "stderr",
     "output_type": "stream",
     "text": [
      "W0731 03:30:53.307352 139856200791872 deprecation_wrapper.py:119] From /home/brianmusisi/anaconda3/lib/python3.7/site-packages/keras/backend/tensorflow_backend.py:986: The name tf.assign_add is deprecated. Please use tf.compat.v1.assign_add instead.\n",
      "\n"
     ]
    },
    {
     "name": "stdout",
     "output_type": "stream",
     "text": [
      "Train on 35225 samples, validate on 4403 samples\n",
      "Epoch 1/5\n",
      "35225/35225 [==============================] - 354s 10ms/step - loss: 0.3814 - acc: 0.8372 - val_loss: 0.3325 - val_acc: 0.8608\n",
      "Epoch 2/5\n",
      "35225/35225 [==============================] - 318s 9ms/step - loss: 0.3230 - acc: 0.8685 - val_loss: 0.3129 - val_acc: 0.8774\n",
      "Epoch 3/5\n",
      "35225/35225 [==============================] - 316s 9ms/step - loss: 0.3086 - acc: 0.8755 - val_loss: 0.3292 - val_acc: 0.8596\n",
      "Epoch 4/5\n",
      "35225/35225 [==============================] - 310s 9ms/step - loss: 0.2962 - acc: 0.8789 - val_loss: 0.2958 - val_acc: 0.8826\n",
      "Epoch 5/5\n",
      "35225/35225 [==============================] - 308s 9ms/step - loss: 0.2877 - acc: 0.8833 - val_loss: 0.2851 - val_acc: 0.8894\n"
     ]
    }
   ],
   "source": [
    "# # Build and fit\n",
    "# history = model.fit(articles_train, labels_train,\n",
    "#                   validation_data=(articles_dev, labels_dev),\n",
    "#                     epochs=5, batch_size=128)"
   ]
  },
  {
   "cell_type": "code",
   "execution_count": 20,
   "metadata": {},
   "outputs": [],
   "source": [
    "# model.save('models/Elmo/Elmo_5_epocs.h5')"
   ]
  },
  {
   "cell_type": "code",
   "execution_count": 21,
   "metadata": {},
   "outputs": [
    {
     "name": "stdout",
     "output_type": "stream",
     "text": [
      "Training Accuracy: 0.8874\n",
      "Testing Accuracy:  0.8894\n"
     ]
    },
    {
     "data": {
      "image/png": "[encoded data removed]",
      "text/plain": [
       "<Figure size 864x360 with 2 Axes>"
      ]
     },
     "metadata": {
      "needs_background": "light"
     },
     "output_type": "display_data"
    }
   ],
   "source": [
    "# loss, accuracy = model.evaluate(articles_train, labels_train, verbose=False)\n",
    "# print(\"Training Accuracy: {:.4f}\".format(accuracy))\n",
    "# loss, accuracy = model.evaluate(articles_dev, labels_dev, verbose=False)\n",
    "# print(\"Testing Accuracy:  {:.4f}\".format(accuracy))\n",
    "# plot_history(history)"
   ]
  },
  {
   "cell_type": "markdown",
   "metadata": {},
   "source": [
    "#### Using 30 epochs"
   ]
  },
  {
   "cell_type": "code",
   "execution_count": 23,
   "metadata": {},
   "outputs": [
    {
     "name": "stdout",
     "output_type": "stream",
     "text": [
      "Train on 35225 samples, validate on 4403 samples\n",
      "Epoch 1/30\n",
      "35225/35225 [==============================] - 304s 9ms/step - loss: 0.2801 - acc: 0.8861 - val_loss: 0.2828 - val_acc: 0.8864\n",
      "Epoch 2/30\n",
      "35225/35225 [==============================] - 315s 9ms/step - loss: 0.2750 - acc: 0.8875 - val_loss: 0.2880 - val_acc: 0.8871\n",
      "Epoch 3/30\n",
      "35225/35225 [==============================] - 320s 9ms/step - loss: 0.2717 - acc: 0.8896 - val_loss: 0.2826 - val_acc: 0.8828\n",
      "Epoch 4/30\n",
      "35225/35225 [==============================] - 319s 9ms/step - loss: 0.2692 - acc: 0.8894 - val_loss: 0.2755 - val_acc: 0.8889\n",
      "Epoch 5/30\n",
      "35225/35225 [==============================] - 321s 9ms/step - loss: 0.2627 - acc: 0.8934 - val_loss: 0.2912 - val_acc: 0.8810\n",
      "Epoch 6/30\n",
      "35225/35225 [==============================] - 322s 9ms/step - loss: 0.2609 - acc: 0.8936 - val_loss: 0.2732 - val_acc: 0.8901\n",
      "Epoch 7/30\n",
      "35225/35225 [==============================] - 321s 9ms/step - loss: 0.2570 - acc: 0.8936 - val_loss: 0.2813 - val_acc: 0.8830\n",
      "Epoch 8/30\n",
      "35225/35225 [==============================] - 320s 9ms/step - loss: 0.2522 - acc: 0.8978 - val_loss: 0.2698 - val_acc: 0.8892\n",
      "Epoch 9/30\n",
      "35225/35225 [==============================] - 319s 9ms/step - loss: 0.2481 - acc: 0.9001 - val_loss: 0.2984 - val_acc: 0.8828\n",
      "Epoch 10/30\n",
      "35225/35225 [==============================] - 320s 9ms/step - loss: 0.2483 - acc: 0.8990 - val_loss: 0.2793 - val_acc: 0.8903\n",
      "Epoch 11/30\n",
      "35225/35225 [==============================] - 317s 9ms/step - loss: 0.2461 - acc: 0.8997 - val_loss: 0.2723 - val_acc: 0.8905\n",
      "Epoch 12/30\n",
      "35225/35225 [==============================] - 312s 9ms/step - loss: 0.2430 - acc: 0.9018 - val_loss: 0.2719 - val_acc: 0.8901\n",
      "Epoch 13/30\n",
      "35225/35225 [==============================] - 313s 9ms/step - loss: 0.2400 - acc: 0.9027 - val_loss: 0.2774 - val_acc: 0.8869\n",
      "Epoch 14/30\n",
      "35225/35225 [==============================] - 316s 9ms/step - loss: 0.2407 - acc: 0.9018 - val_loss: 0.2659 - val_acc: 0.8905\n",
      "Epoch 15/30\n",
      "35225/35225 [==============================] - 318s 9ms/step - loss: 0.2354 - acc: 0.9045 - val_loss: 0.2749 - val_acc: 0.8885\n",
      "Epoch 16/30\n",
      "35225/35225 [==============================] - 317s 9ms/step - loss: 0.2349 - acc: 0.9047 - val_loss: 0.2752 - val_acc: 0.8905\n",
      "Epoch 17/30\n",
      "35225/35225 [==============================] - 314s 9ms/step - loss: 0.2323 - acc: 0.9060 - val_loss: 0.2685 - val_acc: 0.8926\n",
      "Epoch 18/30\n",
      "35225/35225 [==============================] - 317s 9ms/step - loss: 0.2281 - acc: 0.9073 - val_loss: 0.2680 - val_acc: 0.8969\n",
      "Epoch 19/30\n",
      "35225/35225 [==============================] - 317s 9ms/step - loss: 0.2255 - acc: 0.9092 - val_loss: 0.3010 - val_acc: 0.8796\n",
      "Epoch 20/30\n",
      "35225/35225 [==============================] - 318s 9ms/step - loss: 0.2270 - acc: 0.9083 - val_loss: 0.2739 - val_acc: 0.8898\n",
      "Epoch 21/30\n",
      "35225/35225 [==============================] - 319s 9ms/step - loss: 0.2234 - acc: 0.9096 - val_loss: 0.2736 - val_acc: 0.8898\n",
      "Epoch 22/30\n",
      "35225/35225 [==============================] - 319s 9ms/step - loss: 0.2217 - acc: 0.9100 - val_loss: 0.2693 - val_acc: 0.8896\n",
      "Epoch 23/30\n",
      "35225/35225 [==============================] - 319s 9ms/step - loss: 0.2192 - acc: 0.9121 - val_loss: 0.2739 - val_acc: 0.8887\n",
      "Epoch 24/30\n",
      "35225/35225 [==============================] - 320s 9ms/step - loss: 0.2172 - acc: 0.9131 - val_loss: 0.2824 - val_acc: 0.8914\n",
      "Epoch 25/30\n",
      "35225/35225 [==============================] - 323s 9ms/step - loss: 0.2142 - acc: 0.9130 - val_loss: 0.2962 - val_acc: 0.8842\n",
      "Epoch 26/30\n",
      "35225/35225 [==============================] - 321s 9ms/step - loss: 0.2153 - acc: 0.9144 - val_loss: 0.2935 - val_acc: 0.8842\n",
      "Epoch 27/30\n",
      "35225/35225 [==============================] - 317s 9ms/step - loss: 0.2106 - acc: 0.9151 - val_loss: 0.3001 - val_acc: 0.8783\n",
      "Epoch 28/30\n",
      "35225/35225 [==============================] - 312s 9ms/step - loss: 0.2138 - acc: 0.9137 - val_loss: 0.2767 - val_acc: 0.8912\n",
      "Epoch 29/30\n",
      "35225/35225 [==============================] - 316s 9ms/step - loss: 0.2095 - acc: 0.9158 - val_loss: 0.2896 - val_acc: 0.8860\n",
      "Epoch 30/30\n",
      "35225/35225 [==============================] - 320s 9ms/step - loss: 0.2043 - acc: 0.9179 - val_loss: 0.2897 - val_acc: 0.8876\n"
     ]
    }
   ],
   "source": [
    "# # Build and fit\n",
    "# model.reset_states()\n",
    "# history = model.fit(articles_train, labels_train,\n",
    "#                   validation_data=(articles_dev, labels_dev),\n",
    "#                     epochs=30, batch_size=128)"
   ]
  },
  {
   "cell_type": "code",
   "execution_count": 24,
   "metadata": {},
   "outputs": [
    {
     "name": "stdout",
     "output_type": "stream",
     "text": [
      "Training Accuracy: 0.9166\n",
      "Testing Accuracy:  0.8876\n"
     ]
    },
    {
     "data": {
      "image/png": "[encoded data removed]",
      "text/plain": [
       "<Figure size 864x360 with 2 Axes>"
      ]
     },
     "metadata": {
      "needs_background": "light"
     },
     "output_type": "display_data"
    }
   ],
   "source": [
    "# loss, accuracy = model.evaluate(articles_train, labels_train, verbose=False)\n",
    "# print(\"Training Accuracy: {:.4f}\".format(accuracy))\n",
    "# loss, accuracy = model.evaluate(articles_dev, labels_dev, verbose=False)\n",
    "# print(\"Testing Accuracy:  {:.4f}\".format(accuracy))\n",
    "# plot_history(history)"
   ]
  },
  {
   "cell_type": "code",
   "execution_count": 25,
   "metadata": {},
   "outputs": [],
   "source": [
    "# model.save('models/Elmo/Elmo_30epochs.h5')"
   ]
  },
  {
   "cell_type": "markdown",
   "metadata": {},
   "source": [
    "### Use LSTM"
   ]
  },
  {
   "cell_type": "code",
   "execution_count": 11,
   "metadata": {},
   "outputs": [],
   "source": [
    "### Early Stopping\n",
    "early_stop = EarlyStopping(monitor='val_loss', mode='min', verbose=1, patience=3)"
   ]
  },
  {
   "cell_type": "markdown",
   "metadata": {},
   "source": [
    "#### Change Elmo Embedding Layer to return \"Elmo\""
   ]
  },
  {
   "cell_type": "code",
   "execution_count": 17,
   "metadata": {},
   "outputs": [],
   "source": [
    "class ElmoEmbeddingLayer(Layer):\n",
    "    def __init__(self, **kwargs):\n",
    "        self.dimensions = 1024\n",
    "        self.trainable=True\n",
    "        super(ElmoEmbeddingLayer, self).__init__(**kwargs)\n",
    "\n",
    "    def build(self, input_shape):\n",
    "        self.elmo = hub.Module('https://tfhub.dev/google/elmo/2', trainable=self.trainable,\n",
    "                               name=\"{}_module\".format(self.name))\n",
    "\n",
    "        self.trainable_weights += K.tf.trainable_variables(scope=\"^{}_module/.*\".format(self.name))\n",
    "        super(ElmoEmbeddingLayer, self).build(input_shape)\n",
    "\n",
    "    def call(self, x, mask=None):\n",
    "        result = self.elmo(K.squeeze(K.cast(x, tf.string), axis=1),\n",
    "                      as_dict=True,\n",
    "                      signature='default',\n",
    "                      )['elmo']\n",
    "        return result\n",
    "\n",
    "    def compute_output_shape(self, input_shape):\n",
    "        return (input_shape[0], 48, self.dimensions)"
   ]
  },
  {
   "cell_type": "code",
   "execution_count": 12,
   "metadata": {},
   "outputs": [],
   "source": [
    "def build_model(): \n",
    "    input_text = layers.Input(shape=(1,), dtype=\"string\")\n",
    "    embedding = ElmoEmbeddingLayer()(input_text)\n",
    "    lstm = layers.LSTM(256)(embedding)\n",
    "    dense = layers.Dense(10, activation='relu')(lstm)\n",
    "    pred = layers.Dense(1, activation='sigmoid')(dense)\n",
    "\n",
    "    model = Model(inputs=[input_text], outputs=pred)\n",
    "\n",
    "    model.compile(loss='binary_crossentropy', optimizer='adam', metrics=['accuracy'])\n",
    "    model.summary()\n",
    "\n",
    "    return model"
   ]
  },
  {
   "cell_type": "code",
   "execution_count": 13,
   "metadata": {},
   "outputs": [
    {
     "name": "stderr",
     "output_type": "stream",
     "text": [
      "WARNING: Logging before flag parsing goes to stderr.\n",
      "W0731 10:36:57.629750 140445795915584 deprecation_wrapper.py:119] From /home/brianmusisi/anaconda3/lib/python3.7/site-packages/keras/backend/tensorflow_backend.py:74: The name tf.get_default_graph is deprecated. Please use tf.compat.v1.get_default_graph instead.\n",
      "\n",
      "W0731 10:36:57.634749 140445795915584 deprecation_wrapper.py:119] From /home/brianmusisi/anaconda3/lib/python3.7/site-packages/keras/backend/tensorflow_backend.py:517: The name tf.placeholder is deprecated. Please use tf.compat.v1.placeholder instead.\n",
      "\n",
      "W0731 10:36:58.706564 140445795915584 deprecation_wrapper.py:119] From /home/brianmusisi/anaconda3/lib/python3.7/site-packages/keras/backend/tensorflow_backend.py:4138: The name tf.random_uniform is deprecated. Please use tf.random.uniform instead.\n",
      "\n",
      "W0731 10:36:59.031333 140445795915584 deprecation_wrapper.py:119] From /home/brianmusisi/anaconda3/lib/python3.7/site-packages/keras/optimizers.py:790: The name tf.train.Optimizer is deprecated. Please use tf.compat.v1.train.Optimizer instead.\n",
      "\n",
      "W0731 10:36:59.048932 140445795915584 deprecation_wrapper.py:119] From /home/brianmusisi/anaconda3/lib/python3.7/site-packages/keras/backend/tensorflow_backend.py:3376: The name tf.log is deprecated. Please use tf.math.log instead.\n",
      "\n",
      "W0731 10:36:59.054052 140445795915584 deprecation.py:323] From /home/brianmusisi/anaconda3/lib/python3.7/site-packages/tensorflow/python/ops/nn_impl.py:180: add_dispatch_support.<locals>.wrapper (from tensorflow.python.ops.array_ops) is deprecated and will be removed in a future version.\n",
      "Instructions for updating:\n",
      "Use tf.where in 2.0, which has the same broadcast rule as np.where\n"
     ]
    },
    {
     "name": "stdout",
     "output_type": "stream",
     "text": [
      "_________________________________________________________________\n",
      "Layer (type)                 Output Shape              Param #   \n",
      "=================================================================\n",
      "input_1 (InputLayer)         (None, 1)                 0         \n",
      "_________________________________________________________________\n",
      "elmo_embedding_layer_1 (Elmo (None, 48, 1024)          4         \n",
      "_________________________________________________________________\n",
      "lstm_1 (LSTM)                (None, 256)               1311744   \n",
      "_________________________________________________________________\n",
      "dense_1 (Dense)              (None, 10)                2570      \n",
      "_________________________________________________________________\n",
      "dense_2 (Dense)              (None, 1)                 11        \n",
      "=================================================================\n",
      "Total params: 1,314,329\n",
      "Trainable params: 1,314,329\n",
      "Non-trainable params: 0\n",
      "_________________________________________________________________\n"
     ]
    }
   ],
   "source": [
    "model = build_model()"
   ]
  },
  {
   "cell_type": "code",
   "execution_count": 17,
   "metadata": {},
   "outputs": [
    {
     "name": "stderr",
     "output_type": "stream",
     "text": [
      "W0731 10:39:48.635360 140445795915584 deprecation_wrapper.py:119] From /home/brianmusisi/anaconda3/lib/python3.7/site-packages/keras/backend/tensorflow_backend.py:986: The name tf.assign_add is deprecated. Please use tf.compat.v1.assign_add instead.\n",
      "\n"
     ]
    },
    {
     "name": "stdout",
     "output_type": "stream",
     "text": [
      "Train on 35225 samples, validate on 4403 samples\n",
      "Epoch 1/10\n",
      "35225/35225 [==============================] - 363s 10ms/step - loss: 0.2828 - acc: 0.8872 - val_loss: 0.2280 - val_acc: 0.9094\n",
      "Epoch 2/10\n",
      "35225/35225 [==============================] - 326s 9ms/step - loss: 0.2067 - acc: 0.9214 - val_loss: 0.2206 - val_acc: 0.9151\n",
      "Epoch 3/10\n",
      "35225/35225 [==============================] - 325s 9ms/step - loss: 0.1840 - acc: 0.9298 - val_loss: 0.2158 - val_acc: 0.9266\n",
      "Epoch 4/10\n",
      "35225/35225 [==============================] - 327s 9ms/step - loss: 0.1580 - acc: 0.9393 - val_loss: 0.2272 - val_acc: 0.9162\n",
      "Epoch 5/10\n",
      "35225/35225 [==============================] - 326s 9ms/step - loss: 0.1259 - acc: 0.9515 - val_loss: 0.2428 - val_acc: 0.9119\n",
      "Epoch 6/10\n",
      "35225/35225 [==============================] - 341s 10ms/step - loss: 0.0954 - acc: 0.9646 - val_loss: 0.2705 - val_acc: 0.9110\n",
      "Epoch 00006: early stopping\n"
     ]
    }
   ],
   "source": [
    "# Build and fit\n",
    "model.reset_states()\n",
    "history = model.fit(articles_train, labels_train,\n",
    "                  validation_data=(articles_dev, labels_dev),\n",
    "                    epochs=10, batch_size=128, callbacks=[early_stop])"
   ]
  },
  {
   "cell_type": "code",
   "execution_count": 18,
   "metadata": {},
   "outputs": [
    {
     "name": "stdout",
     "output_type": "stream",
     "text": [
      "Training Accuracy: 0.9785\n",
      "Testing Accuracy:  0.9110\n"
     ]
    },
    {
     "data": {
      "image/png": "[encoded data removed]",
      "text/plain": [
       "<Figure size 864x360 with 2 Axes>"
      ]
     },
     "metadata": {
      "needs_background": "light"
     },
     "output_type": "display_data"
    }
   ],
   "source": [
    "loss, accuracy = model.evaluate(articles_train, labels_train, verbose=False)\n",
    "print(\"Training Accuracy: {:.4f}\".format(accuracy))\n",
    "loss, accuracy = model.evaluate(articles_dev, labels_dev, verbose=False)\n",
    "print(\"Testing Accuracy:  {:.4f}\".format(accuracy))\n",
    "plot_history(history)"
   ]
  },
  {
   "cell_type": "code",
   "execution_count": 19,
   "metadata": {},
   "outputs": [],
   "source": [
    "model.save('models/Elmo/Elmo_10epochs_LSTM_512.h5')"
   ]
  },
  {
   "cell_type": "markdown",
   "metadata": {},
   "source": [
    "#### LSTM with 512 units"
   ]
  },
  {
   "cell_type": "code",
   "execution_count": 24,
   "metadata": {},
   "outputs": [],
   "source": [
    "def build_model(): \n",
    "    input_text = layers.Input(shape=(1,), dtype=\"string\")\n",
    "    embedding = ElmoEmbeddingLayer()(input_text)\n",
    "    lstm = layers.LSTM(512)(embedding)\n",
    "    dense = layers.Dense(30, activation='relu')(lstm)\n",
    "    pred = layers.Dense(1, activation='sigmoid')(dense)\n",
    "\n",
    "    model = Model(inputs=[input_text], outputs=pred)\n",
    "\n",
    "    model.compile(loss='binary_crossentropy', optimizer='adam', metrics=['accuracy'])\n",
    "    model.summary()\n",
    "\n",
    "    return model"
   ]
  },
  {
   "cell_type": "code",
   "execution_count": 25,
   "metadata": {},
   "outputs": [
    {
     "name": "stdout",
     "output_type": "stream",
     "text": [
      "_________________________________________________________________\n",
      "Layer (type)                 Output Shape              Param #   \n",
      "=================================================================\n",
      "input_3 (InputLayer)         (None, 1)                 0         \n",
      "_________________________________________________________________\n",
      "elmo_embedding_layer_2 (Elmo (None, 48, 1024)          4         \n",
      "_________________________________________________________________\n",
      "lstm_2 (LSTM)                (None, 512)               3147776   \n",
      "_________________________________________________________________\n",
      "dense_3 (Dense)              (None, 30)                15390     \n",
      "_________________________________________________________________\n",
      "dense_4 (Dense)              (None, 1)                 31        \n",
      "=================================================================\n",
      "Total params: 3,163,201\n",
      "Trainable params: 3,163,201\n",
      "Non-trainable params: 0\n",
      "_________________________________________________________________\n"
     ]
    }
   ],
   "source": [
    "model = build_model()"
   ]
  },
  {
   "cell_type": "code",
   "execution_count": 26,
   "metadata": {},
   "outputs": [
    {
     "name": "stdout",
     "output_type": "stream",
     "text": [
      "Train on 35225 samples, validate on 4403 samples\n",
      "Epoch 1/10\n",
      "35225/35225 [==============================] - 340s 10ms/step - loss: 0.2878 - acc: 0.8844 - val_loss: 0.2219 - val_acc: 0.9205\n",
      "Epoch 2/10\n",
      "35225/35225 [==============================] - 344s 10ms/step - loss: 0.2103 - acc: 0.9200 - val_loss: 0.2299 - val_acc: 0.9080\n",
      "Epoch 3/10\n",
      "35225/35225 [==============================] - 337s 10ms/step - loss: 0.1846 - acc: 0.9290 - val_loss: 0.2167 - val_acc: 0.9237\n",
      "Epoch 4/10\n",
      "35225/35225 [==============================] - 334s 9ms/step - loss: 0.1561 - acc: 0.9398 - val_loss: 0.2294 - val_acc: 0.9226\n",
      "Epoch 5/10\n",
      "35225/35225 [==============================] - 331s 9ms/step - loss: 0.1231 - acc: 0.9524 - val_loss: 0.2499 - val_acc: 0.9214\n",
      "Epoch 6/10\n",
      "35225/35225 [==============================] - 327s 9ms/step - loss: 0.0924 - acc: 0.9651 - val_loss: 0.2931 - val_acc: 0.9114\n",
      "Epoch 00006: early stopping\n"
     ]
    }
   ],
   "source": [
    "# Build and fit\n",
    "model.reset_states()\n",
    "history = model.fit(articles_train, labels_train,\n",
    "                  validation_data=(articles_dev, labels_dev),\n",
    "                    epochs=10, batch_size=128, callbacks=[early_stop])"
   ]
  },
  {
   "cell_type": "code",
   "execution_count": 27,
   "metadata": {},
   "outputs": [],
   "source": [
    "model.save('models/Elmo/Elmo_10epochs_LSTM_512.h5')"
   ]
  },
  {
   "cell_type": "code",
   "execution_count": 28,
   "metadata": {},
   "outputs": [
    {
     "name": "stdout",
     "output_type": "stream",
     "text": [
      "Training Accuracy: 0.9779\n",
      "Testing Accuracy:  0.9114\n"
     ]
    },
    {
     "data": {
      "image/png": "[encoded data removed]",
      "text/plain": [
       "<Figure size 864x360 with 2 Axes>"
      ]
     },
     "metadata": {
      "needs_background": "light"
     },
     "output_type": "display_data"
    }
   ],
   "source": [
    "loss, accuracy = model.evaluate(articles_train, labels_train, verbose=False)\n",
    "print(\"Training Accuracy: {:.4f}\".format(accuracy))\n",
    "loss, accuracy = model.evaluate(articles_dev, labels_dev, verbose=False)\n",
    "print(\"Testing Accuracy:  {:.4f}\".format(accuracy))\n",
    "plot_history(history)"
   ]
  },
  {
   "cell_type": "code",
   "execution_count": 29,
   "metadata": {},
   "outputs": [
    {
     "name": "stdout",
     "output_type": "stream",
     "text": [
      "Testing Accuracy:  0.9164\n"
     ]
    }
   ],
   "source": [
    "loss, accuracy = model.evaluate(articles_test, labels_test, verbose=False)\n",
    "print(\"Testing Accuracy:  {:.4f}\".format(accuracy))"
   ]
  },
  {
   "cell_type": "markdown",
   "metadata": {},
   "source": [
    "### Use Bi-Directional LSTM"
   ]
  },
  {
   "cell_type": "code",
   "execution_count": 15,
   "metadata": {},
   "outputs": [],
   "source": [
    "### Early Stopping\n",
    "early_stop = EarlyStopping(monitor='val_loss', mode='min', verbose=1, patience=3)"
   ]
  },
  {
   "cell_type": "code",
   "execution_count": 16,
   "metadata": {},
   "outputs": [],
   "source": [
    "def build_model(): \n",
    "    input_text = layers.Input(shape=(1,), dtype=\"string\")\n",
    "    embedding = ElmoEmbeddingLayer()(input_text)\n",
    "    lstm = layers.Bidirectional(layers.LSTM(512))(embedding)\n",
    "    dense = layers.Dense(128, activation='relu')(lstm)\n",
    "    pred = layers.Dense(1, activation='sigmoid')(dense)\n",
    "\n",
    "    model = Model(inputs=[input_text], outputs=pred)\n",
    "\n",
    "    model.compile(loss='binary_crossentropy', optimizer='adam', metrics=['accuracy'])\n",
    "    model.summary()\n",
    "\n",
    "    return model"
   ]
  },
  {
   "cell_type": "code",
   "execution_count": 17,
   "metadata": {},
   "outputs": [
    {
     "name": "stderr",
     "output_type": "stream",
     "text": [
      "WARNING: Logging before flag parsing goes to stderr.\n",
      "W0802 17:20:41.842910 140702634985280 deprecation_wrapper.py:119] From /home/brianmusisi/anaconda3/lib/python3.7/site-packages/keras/backend/tensorflow_backend.py:74: The name tf.get_default_graph is deprecated. Please use tf.compat.v1.get_default_graph instead.\n",
      "\n",
      "W0802 17:20:41.845482 140702634985280 deprecation_wrapper.py:119] From /home/brianmusisi/anaconda3/lib/python3.7/site-packages/keras/backend/tensorflow_backend.py:517: The name tf.placeholder is deprecated. Please use tf.compat.v1.placeholder instead.\n",
      "\n",
      "W0802 17:20:42.979758 140702634985280 deprecation_wrapper.py:119] From /home/brianmusisi/anaconda3/lib/python3.7/site-packages/keras/backend/tensorflow_backend.py:4138: The name tf.random_uniform is deprecated. Please use tf.random.uniform instead.\n",
      "\n",
      "W0802 17:20:44.671966 140702634985280 deprecation_wrapper.py:119] From /home/brianmusisi/anaconda3/lib/python3.7/site-packages/keras/optimizers.py:790: The name tf.train.Optimizer is deprecated. Please use tf.compat.v1.train.Optimizer instead.\n",
      "\n",
      "W0802 17:20:44.692596 140702634985280 deprecation_wrapper.py:119] From /home/brianmusisi/anaconda3/lib/python3.7/site-packages/keras/backend/tensorflow_backend.py:3376: The name tf.log is deprecated. Please use tf.math.log instead.\n",
      "\n",
      "W0802 17:20:44.699078 140702634985280 deprecation.py:323] From /home/brianmusisi/anaconda3/lib/python3.7/site-packages/tensorflow/python/ops/nn_impl.py:180: add_dispatch_support.<locals>.wrapper (from tensorflow.python.ops.array_ops) is deprecated and will be removed in a future version.\n",
      "Instructions for updating:\n",
      "Use tf.where in 2.0, which has the same broadcast rule as np.where\n"
     ]
    },
    {
     "name": "stdout",
     "output_type": "stream",
     "text": [
      "_________________________________________________________________\n",
      "Layer (type)                 Output Shape              Param #   \n",
      "=================================================================\n",
      "input_1 (InputLayer)         (None, 1)                 0         \n",
      "_________________________________________________________________\n",
      "elmo_embedding_layer_1 (Elmo (None, 48, 1024)          4         \n",
      "_________________________________________________________________\n",
      "bidirectional_1 (Bidirection (None, 1024)              6295552   \n",
      "_________________________________________________________________\n",
      "dense_1 (Dense)              (None, 128)               131200    \n",
      "_________________________________________________________________\n",
      "dense_2 (Dense)              (None, 1)                 129       \n",
      "=================================================================\n",
      "Total params: 6,426,885\n",
      "Trainable params: 6,426,885\n",
      "Non-trainable params: 0\n",
      "_________________________________________________________________\n"
     ]
    }
   ],
   "source": [
    "model = build_model()"
   ]
  },
  {
   "cell_type": "code",
   "execution_count": 18,
   "metadata": {},
   "outputs": [
    {
     "name": "stderr",
     "output_type": "stream",
     "text": [
      "W0802 17:20:49.949066 140702634985280 deprecation_wrapper.py:119] From /home/brianmusisi/anaconda3/lib/python3.7/site-packages/keras/backend/tensorflow_backend.py:986: The name tf.assign_add is deprecated. Please use tf.compat.v1.assign_add instead.\n",
      "\n"
     ]
    },
    {
     "name": "stdout",
     "output_type": "stream",
     "text": [
      "Train on 35225 samples, validate on 4403 samples\n",
      "Epoch 1/10\n",
      "35225/35225 [==============================] - 318s 9ms/step - loss: 0.3190 - acc: 0.8618 - val_loss: 0.2746 - val_acc: 0.8885\n",
      "Epoch 2/10\n",
      "35225/35225 [==============================] - 311s 9ms/step - loss: 0.2060 - acc: 0.9206 - val_loss: 0.2188 - val_acc: 0.9107\n",
      "Epoch 3/10\n",
      "35225/35225 [==============================] - 312s 9ms/step - loss: 0.1729 - acc: 0.9334 - val_loss: 0.2166 - val_acc: 0.9178\n",
      "Epoch 4/10\n",
      "35225/35225 [==============================] - 310s 9ms/step - loss: 0.1330 - acc: 0.9490 - val_loss: 0.2320 - val_acc: 0.9176\n",
      "Epoch 5/10\n",
      "35225/35225 [==============================] - 311s 9ms/step - loss: 0.0857 - acc: 0.9674 - val_loss: 0.3214 - val_acc: 0.9089\n",
      "Epoch 6/10\n",
      "35225/35225 [==============================] - 310s 9ms/step - loss: 0.0565 - acc: 0.9785 - val_loss: 0.3226 - val_acc: 0.9023\n",
      "Epoch 00006: early stopping\n"
     ]
    }
   ],
   "source": [
    "model.reset_states()\n",
    "history = model.fit(articles_train, labels_train,\n",
    "                  validation_data=(articles_dev, labels_dev),\n",
    "                    epochs=10, batch_size=256, callbacks=[early_stop])"
   ]
  },
  {
   "cell_type": "code",
   "execution_count": null,
   "metadata": {},
   "outputs": [],
   "source": [
    "loss, accuracy = model.evaluate(articles_train, labels_train, verbose=False)\n",
    "print(\"Training Accuracy: {:.4f}\".format(accuracy))\n",
    "loss, accuracy = model.evaluate(articles_dev, labels_dev, verbose=False)\n",
    "print(\"Dev Accuracy:  {:.4f}\".format(accuracy))\n",
    "plot_history(history)"
   ]
  },
  {
   "cell_type": "code",
   "execution_count": 19,
   "metadata": {},
   "outputs": [
    {
     "name": "stdout",
     "output_type": "stream",
     "text": [
      "Testing Accuracy:  0.9085\n"
     ]
    }
   ],
   "source": [
    "loss, accuracy = model.evaluate(articles_test, labels_test, verbose=False)\n",
    "print(\"Testing Accuracy:  {:.4f}\".format(accuracy))"
   ]
  },
  {
   "cell_type": "code",
   "execution_count": 20,
   "metadata": {},
   "outputs": [],
   "source": [
    "model.save('models/Elmo/Elmo_BiLSTM_512_128.h5')"
   ]
  },
  {
   "cell_type": "markdown",
   "metadata": {},
   "source": [
    "### HyperParameter Tuning using Random Search"
   ]
  },
  {
   "cell_type": "markdown",
   "metadata": {},
   "source": [
    "#### Elmo + Bi-LSTM"
   ]
  },
  {
   "cell_type": "code",
   "execution_count": 24,
   "metadata": {},
   "outputs": [],
   "source": [
    "def build_model(lstm_size, dense_layer_sizes): \n",
    "    input_text = layers.Input(shape=(1,), dtype=\"string\")\n",
    "    embedding = ElmoEmbeddingLayer()(input_text)\n",
    "    dense = layers.Bidirectional(layers.LSTM(lstm_size))(embedding)\n",
    "    \n",
    "    for dense_layer_size in dense_layer_sizes:\n",
    "        dense = layers.Dense(dense_layer_size, activation='relu')(dense)\n",
    "    \n",
    "    #dense = layers.Dense(30, activation='relu')(lstm)\n",
    "    pred = layers.Dense(1, activation='sigmoid')(dense)\n",
    "\n",
    "    model = Model(inputs=[input_text], outputs=pred)\n",
    "\n",
    "    model.compile(loss='binary_crossentropy', optimizer='adam', metrics=['accuracy'])\n",
    "    #model.summary()\n",
    "\n",
    "    return model"
   ]
  },
  {
   "cell_type": "code",
   "execution_count": 25,
   "metadata": {},
   "outputs": [],
   "source": [
    "early_stop = EarlyStopping(monitor='val_loss', mode='min', verbose=1, patience=4)"
   ]
  },
  {
   "cell_type": "code",
   "execution_count": 27,
   "metadata": {},
   "outputs": [
    {
     "name": "stdout",
     "output_type": "stream",
     "text": [
      "Train on 35225 samples, validate on 4403 samples\n",
      "Epoch 1/10\n",
      "35225/35225 [==============================] - 384s 11ms/step - loss: 0.2782 - acc: 0.8888 - val_loss: 0.2174 - val_acc: 0.9198\n",
      "Epoch 2/10\n",
      "35225/35225 [==============================] - 375s 11ms/step - loss: 0.2023 - acc: 0.9222 - val_loss: 0.2044 - val_acc: 0.9226\n",
      "Epoch 3/10\n",
      "35225/35225 [==============================] - 375s 11ms/step - loss: 0.1737 - acc: 0.9325 - val_loss: 0.2077 - val_acc: 0.9237\n",
      "Epoch 4/10\n",
      "35225/35225 [==============================] - 378s 11ms/step - loss: 0.1337 - acc: 0.9476 - val_loss: 0.2678 - val_acc: 0.8973\n",
      "Epoch 5/10\n",
      "35225/35225 [==============================] - 378s 11ms/step - loss: 0.0897 - acc: 0.9645 - val_loss: 0.3050 - val_acc: 0.9151\n",
      "Epoch 6/10\n",
      "35225/35225 [==============================] - 377s 11ms/step - loss: 0.0605 - acc: 0.9758 - val_loss: 0.3810 - val_acc: 0.9117\n",
      "Epoch 00006: early stopping\n",
      "Dev Accuracy:  0.9117\n",
      "Train on 35225 samples, validate on 4403 samples\n",
      "Epoch 1/10\n",
      "35225/35225 [==============================] - 384s 11ms/step - loss: 0.2862 - acc: 0.8852 - val_loss: 0.2071 - val_acc: 0.9228\n",
      "Epoch 2/10\n",
      "35225/35225 [==============================] - 376s 11ms/step - loss: 0.1971 - acc: 0.9238 - val_loss: 0.2127 - val_acc: 0.9219\n",
      "Epoch 3/10\n",
      "35225/35225 [==============================] - 376s 11ms/step - loss: 0.1638 - acc: 0.9374 - val_loss: 0.2232 - val_acc: 0.9187\n",
      "Epoch 4/10\n",
      "35225/35225 [==============================] - 377s 11ms/step - loss: 0.1196 - acc: 0.9522 - val_loss: 0.2715 - val_acc: 0.9117\n",
      "Epoch 5/10\n",
      "35225/35225 [==============================] - 377s 11ms/step - loss: 0.0783 - acc: 0.9695 - val_loss: 0.3200 - val_acc: 0.9094\n",
      "Epoch 00005: early stopping\n",
      "Dev Accuracy:  0.9094\n",
      "Train on 35225 samples, validate on 4403 samples\n",
      "Epoch 1/10\n",
      "35225/35225 [==============================] - 385s 11ms/step - loss: 0.2846 - acc: 0.8850 - val_loss: 0.2125 - val_acc: 0.9189\n",
      "Epoch 2/10\n",
      "35225/35225 [==============================] - 376s 11ms/step - loss: 0.2047 - acc: 0.9217 - val_loss: 0.2034 - val_acc: 0.9251\n",
      "Epoch 3/10\n",
      "29568/35225 [========================>.....] - ETA: 54s - loss: 0.1736 - acc: 0.9332"
     ]
    },
    {
     "name": "stderr",
     "output_type": "stream",
     "text": [
      "IOPub message rate exceeded.\n",
      "The notebook server will temporarily stop sending output\n",
      "to the client in order to avoid crashing it.\n",
      "To change this limit, set the config variable\n",
      "`--NotebookApp.iopub_msg_rate_limit`.\n",
      "\n",
      "Current values:\n",
      "NotebookApp.iopub_msg_rate_limit=1000.0 (msgs/sec)\n",
      "NotebookApp.rate_limit_window=3.0 (secs)\n",
      "\n"
     ]
    },
    {
     "name": "stdout",
     "output_type": "stream",
     "text": [
      "35225/35225 [==============================] - 375s 11ms/step - loss: 0.1278 - acc: 0.9498 - val_loss: 0.2634 - val_acc: 0.9117\n",
      "Epoch 5/10\n",
      "35225/35225 [==============================] - 378s 11ms/step - loss: 0.0886 - acc: 0.9656 - val_loss: 0.3259 - val_acc: 0.8933\n",
      "Epoch 6/10\n",
      "35225/35225 [==============================] - 377s 11ms/step - loss: 0.0635 - acc: 0.9755 - val_loss: 0.3684 - val_acc: 0.8964\n",
      "Epoch 7/10\n",
      "35225/35225 [==============================] - 376s 11ms/step - loss: 0.0388 - acc: 0.9852 - val_loss: 0.4345 - val_acc: 0.9071\n",
      "Epoch 00007: early stopping\n",
      "Dev Accuracy:  0.9071\n",
      "Train on 35225 samples, validate on 4403 samples\n",
      "Epoch 1/10\n",
      "35225/35225 [==============================] - 389s 11ms/step - loss: 0.2800 - acc: 0.8874 - val_loss: 0.2144 - val_acc: 0.9187\n",
      "Epoch 2/10\n",
      "35225/35225 [==============================] - 377s 11ms/step - loss: 0.1989 - acc: 0.9226 - val_loss: 0.2099 - val_acc: 0.9189\n",
      "Epoch 3/10\n",
      "35225/35225 [==============================] - 377s 11ms/step - loss: 0.1612 - acc: 0.9377 - val_loss: 0.2178 - val_acc: 0.9223\n",
      "Epoch 4/10\n",
      "35225/35225 [==============================] - 377s 11ms/step - loss: 0.1149 - acc: 0.9556 - val_loss: 0.2501 - val_acc: 0.9117\n",
      "Epoch 5/10\n",
      "35225/35225 [==============================] - 378s 11ms/step - loss: 0.0714 - acc: 0.9737 - val_loss: 0.3356 - val_acc: 0.9073\n",
      "Epoch 6/10\n",
      "35225/35225 [==============================] - 375s 11ms/step - loss: 0.0384 - acc: 0.9860 - val_loss: 0.3594 - val_acc: 0.9132\n",
      "Epoch 00006: early stopping\n",
      "Dev Accuracy:  0.9132\n",
      "Train on 35225 samples, validate on 4403 samples\n",
      "Epoch 1/10\n",
      "35225/35225 [==============================] - 389s 11ms/step - loss: 0.2881 - acc: 0.8843 - val_loss: 0.2193 - val_acc: 0.9219\n",
      "Epoch 2/10\n",
      " 2816/35225 [=>............................] - ETA: 5:11 - loss: 0.1969 - acc: 0.9254"
     ]
    },
    {
     "name": "stderr",
     "output_type": "stream",
     "text": [
      "IOPub message rate exceeded.\n",
      "The notebook server will temporarily stop sending output\n",
      "to the client in order to avoid crashing it.\n",
      "To change this limit, set the config variable\n",
      "`--NotebookApp.iopub_msg_rate_limit`.\n",
      "\n",
      "Current values:\n",
      "NotebookApp.iopub_msg_rate_limit=1000.0 (msgs/sec)\n",
      "NotebookApp.rate_limit_window=3.0 (secs)\n",
      "\n"
     ]
    },
    {
     "name": "stdout",
     "output_type": "stream",
     "text": [
      "35225/35225 [==============================] - 375s 11ms/step - loss: 0.0449 - acc: 0.9840 - val_loss: 0.3452 - val_acc: 0.9144\n",
      "Epoch 00007: early stopping\n",
      "Dev Accuracy:  0.9144\n",
      "Train on 35225 samples, validate on 4403 samples\n",
      "Epoch 1/10\n",
      "35225/35225 [==============================] - 391s 11ms/step - loss: 0.2858 - acc: 0.8844 - val_loss: 0.2233 - val_acc: 0.9187\n",
      "Epoch 2/10\n",
      "35225/35225 [==============================] - 381s 11ms/step - loss: 0.1646 - acc: 0.9365 - val_loss: 0.2188 - val_acc: 0.9228\n",
      "Epoch 4/10\n",
      "35225/35225 [==============================] - 376s 11ms/step - loss: 0.1192 - acc: 0.9531 - val_loss: 0.2327 - val_acc: 0.9144\n",
      "Epoch 5/10\n",
      "35225/35225 [==============================] - 377s 11ms/step - loss: 0.0457 - acc: 0.9839 - val_loss: 0.3864 - val_acc: 0.9151\n",
      "Epoch 00006: early stopping\n",
      "Dev Accuracy:  0.9151\n",
      "Train on 35225 samples, validate on 4403 samples\n",
      "Epoch 1/10\n",
      "35225/35225 [==============================] - 392s 11ms/step - loss: 0.2916 - acc: 0.8830 - val_loss: 0.2133 - val_acc: 0.9207\n",
      "Epoch 2/10\n",
      "35225/35225 [==============================] - 377s 11ms/step - loss: 0.2039 - acc: 0.9217 - val_loss: 0.2073 - val_acc: 0.9221\n",
      "Epoch 3/10\n",
      "35225/35225 [==============================] - 378s 11ms/step - loss: 0.1721 - acc: 0.9335 - val_loss: 0.2128 - val_acc: 0.9221\n",
      "Epoch 4/10\n",
      "35225/35225 [==============================] - 378s 11ms/step - loss: 0.1371 - acc: 0.9457 - val_loss: 0.2291 - val_acc: 0.9178\n",
      "Epoch 5/10\n",
      "35225/35225 [==============================] - 376s 11ms/step - loss: 0.0982 - acc: 0.9610 - val_loss: 0.2972 - val_acc: 0.9155\n",
      "Epoch 6/10\n",
      "30464/35225 [========================>.....] - ETA: 46s - loss: 0.0646 - acc: 0.9748Dev Accuracy:  0.9160\n",
      "Train on 35225 samples, validate on 4403 samples\n",
      "Epoch 1/10\n",
      "35225/35225 [==============================] - 382s 11ms/step - loss: 0.1701 - acc: 0.9343 - val_loss: 0.2250 - val_acc: 0.9251\n",
      "Epoch 4/10\n",
      "35225/35225 [==============================] - 378s 11ms/step - loss: 0.1271 - acc: 0.9510 - val_loss: 0.2690 - val_acc: 0.9251\n",
      "Epoch 5/10\n",
      "35225/35225 [==============================] - 377s 11ms/step - loss: 0.0898 - acc: 0.9645 - val_loss: 0.3072 - val_acc: 0.9171\n",
      "Epoch 00005: early stopping\n",
      "Dev Accuracy:  0.9171\n",
      "Train on 35225 samples, validate on 4403 samples\n",
      "Epoch 1/10\n",
      "35225/35225 [==============================] - 400s 11ms/step - loss: 0.2968 - acc: 0.8783 - val_loss: 0.2298 - val_acc: 0.9173\n",
      "Epoch 2/10\n",
      "35225/35225 [==============================] - 377s 11ms/step - loss: 0.2017 - acc: 0.9220 - val_loss: 0.2169 - val_acc: 0.9228\n",
      "Epoch 3/10\n",
      "35225/35225 [==============================] - 378s 11ms/step - loss: 0.1713 - acc: 0.9332 - val_loss: 0.2080 - val_acc: 0.9214\n",
      "Epoch 4/10\n",
      "35225/35225 [==============================] - 378s 11ms/step - loss: 0.1302 - acc: 0.9500 - val_loss: 0.2363 - val_acc: 0.9067\n",
      "Epoch 5/10\n",
      "35225/35225 [==============================] - 377s 11ms/step - loss: 0.0869 - acc: 0.9673 - val_loss: 0.2828 - val_acc: 0.9162\n",
      "Epoch 6/10\n",
      "35225/35225 [==============================] - 378s 11ms/step - loss: 0.0511 - acc: 0.9821 - val_loss: 0.3472 - val_acc: 0.9151\n",
      "Epoch 7/10\n",
      "35225/35225 [==============================] - 375s 11ms/step - loss: 0.0313 - acc: 0.9896 - val_loss: 0.3956 - val_acc: 0.9157\n",
      "Epoch 00007: early stopping\n",
      "Dev Accuracy:  0.9157\n",
      "Train on 35225 samples, validate on 4403 samples\n",
      "Epoch 1/10\n",
      "35225/35225 [==============================] - 400s 11ms/step - loss: 0.2798 - acc: 0.8902 - val_loss: 0.2093 - val_acc: 0.9207\n",
      "Epoch 2/10\n",
      "35225/35225 [==============================] - 377s 11ms/step - loss: 0.2020 - acc: 0.9233 - val_loss: 0.2096 - val_acc: 0.9246\n",
      "Epoch 3/10\n",
      "35225/35225 [==============================] - 378s 11ms/step - loss: 0.1701 - acc: 0.9343 - val_loss: 0.2138 - val_acc: 0.9141\n",
      "Epoch 4/10\n",
      "35225/35225 [==============================] - 378s 11ms/step - loss: 0.1277 - acc: 0.9511 - val_loss: 0.2421 - val_acc: 0.9137\n",
      "Epoch 5/10\n",
      "35225/35225 [==============================] - 375s 11ms/step - loss: 0.0859 - acc: 0.9679 - val_loss: 0.2980 - val_acc: 0.9153\n",
      "Epoch 00005: early stopping\n",
      "Dev Accuracy:  0.9153\n",
      "The best accuracy is: 0.9173290937996821\n"
     ]
    }
   ],
   "source": [
    "number_of_trials = 12\n",
    "\n",
    "lstm_sizes_list = [128, 256, 512]\n",
    "dense_layer_number_list = [1,2,3]\n",
    "dense_layer_sizes_list = [30, 50, 128, 256]\n",
    "\n",
    "best_val_accuracy = 0\n",
    "best_parameters = {}\n",
    "\n",
    "for trial in range(number_of_trials):\n",
    "    \n",
    "    lstm_size = random.choice(lstm_sizes_list)\n",
    "    dense_layer_number = random.choice(dense_layer_number_list)\n",
    "    dense_layer_sizes = random.choices(dense_layer_sizes_list, k=dense_layer_number)\n",
    "    dev_accuracy = random.choice(range(100))\n",
    "    \n",
    "    model = build_model(lstm_size, dense_layer_sizes)\n",
    "    \n",
    "    history = model.fit(articles_train, labels_train,\n",
    "                  validation_data=(articles_dev, labels_dev),\n",
    "                    epochs=10, batch_size=128, callbacks=[early_stop])\n",
    "    \n",
    "    dev_loss, dev_accuracy = model.evaluate(articles_dev, labels_dev, verbose=False)\n",
    "    print(\"Dev Accuracy:  {:.4f}\".format(dev_accuracy))\n",
    "    \n",
    "    if dev_accuracy > best_val_accuracy:\n",
    "        best_val_accuracy = dev_accuracy\n",
    "        \n",
    "        best_parameters['lstm_size'] = lstm_size\n",
    "        best_parameters['dense_layer_sizes'] = dense_layer_sizes\n",
    "        \n",
    "print('The best accuracy is: {}'.format(best_val_accuracy))"
   ]
  },
  {
   "cell_type": "code",
   "execution_count": 28,
   "metadata": {},
   "outputs": [
    {
     "name": "stdout",
     "output_type": "stream",
     "text": [
      "The best accuracy is 0.9173\n"
     ]
    }
   ],
   "source": [
    "print('The best accuracy is {:.4f}'.format(best_val_accuracy))"
   ]
  },
  {
   "cell_type": "code",
   "execution_count": 29,
   "metadata": {},
   "outputs": [
    {
     "name": "stdout",
     "output_type": "stream",
     "text": [
      "The best parameters are:\n",
      "{'lstm_size': 256, 'dense_layer_sizes': [30, 256, 30]}\n"
     ]
    }
   ],
   "source": [
    "print('The best parameters are:')\n",
    "print(best_parameters)"
   ]
  },
  {
   "cell_type": "markdown",
   "metadata": {},
   "source": [
    "#### Build model with best parameters"
   ]
  },
  {
   "cell_type": "code",
   "execution_count": 30,
   "metadata": {},
   "outputs": [
    {
     "name": "stdout",
     "output_type": "stream",
     "text": [
      "Train on 35225 samples, validate on 4403 samples\n",
      "Epoch 1/10\n",
      "35225/35225 [==============================] - 400s 11ms/step - loss: 0.2872 - acc: 0.8856 - val_loss: 0.2214 - val_acc: 0.9176\n",
      "Epoch 2/10\n",
      "35225/35225 [==============================] - 380s 11ms/step - loss: 0.2025 - acc: 0.9230 - val_loss: 0.2092 - val_acc: 0.9246\n",
      "Epoch 3/10\n",
      "35225/35225 [==============================] - 379s 11ms/step - loss: 0.1731 - acc: 0.9328 - val_loss: 0.2106 - val_acc: 0.9260\n",
      "Epoch 4/10\n",
      "35225/35225 [==============================] - 379s 11ms/step - loss: 0.1336 - acc: 0.9459 - val_loss: 0.2569 - val_acc: 0.9121\n",
      "Epoch 5/10\n",
      "35225/35225 [==============================] - 379s 11ms/step - loss: 0.0942 - acc: 0.9621 - val_loss: 0.2778 - val_acc: 0.9044\n",
      "Epoch 6/10\n",
      "35225/35225 [==============================] - 378s 11ms/step - loss: 0.0686 - acc: 0.9740 - val_loss: 0.3235 - val_acc: 0.9139\n",
      "Epoch 00006: early stopping\n"
     ]
    }
   ],
   "source": [
    "model = build_model(best_parameters['lstm_size'], best_parameters['dense_layer_sizes'])\n",
    "\n",
    "history = model.fit(articles_train, labels_train,\n",
    "              validation_data=(articles_dev, labels_dev),\n",
    "                epochs=10, batch_size=128, callbacks=[early_stop])"
   ]
  },
  {
   "cell_type": "code",
   "execution_count": null,
   "metadata": {},
   "outputs": [],
   "source": [
    "loss, accuracy = model.evaluate(articles_test, labels_test, verbose=False)\n",
    "print(\"Testing Accuracy:  {:.4f}\".format(accuracy))"
   ]
  },
  {
   "cell_type": "code",
   "execution_count": null,
   "metadata": {},
   "outputs": [],
   "source": [
    "model.save('models/Elmo/Elmo_BiLSTM_512_.h5')"
   ]
  }
 ],
 "metadata": {
  "kernelspec": {
   "display_name": "Python 3",
   "language": "python",
   "name": "python3"
  },
  "language_info": {
   "codemirror_mode": {
    "name": "ipython",
    "version": 3
   },
   "file_extension": ".py",
   "mimetype": "text/x-python",
   "name": "python",
   "nbconvert_exporter": "python",
   "pygments_lexer": "ipython3",
   "version": "3.7.0"
  }
 },
 "nbformat": 4,
 "nbformat_minor": 2
}
