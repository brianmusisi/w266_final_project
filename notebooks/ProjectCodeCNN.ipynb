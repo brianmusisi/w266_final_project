{
 "cells": [
  {
   "cell_type": "code",
   "execution_count": 52,
   "metadata": {},
   "outputs": [],
   "source": [
    "import tensorflow as tf\n",
    "import numpy as np\n",
    "import os\n",
    "import re\n",
    "import tensorflow_hub as hub\n",
    "#from tensorflow import keras\n",
    "#from keras.layers import Layer\n",
    "#from keras import backend as K\n",
    "#import keras.layers as layers\n",
    "#from keras.models import Model, load_model\n",
    "import pandas as pd\n",
    "import random\n",
    "\n",
    "from tensorflow.keras.models import Sequential\n",
    "from tensorflow.keras.models import Model\n",
    "from tensorflow.keras import layers\n",
    "from tensorflow.keras.preprocessing.text import Tokenizer\n",
    "from tensorflow.keras.preprocessing.sequence import pad_sequences\n",
    "from tensorflow.keras.callbacks import EarlyStopping\n",
    "\n",
    "import matplotlib.pyplot as plt\n",
    "plt.style.use('ggplot')\n",
    "\n",
    "from sklearn.preprocessing import LabelEncoder\n",
    "from sklearn.preprocessing import OneHotEncoder\n",
    "from sklearn.preprocessing import MultiLabelBinarizer"
   ]
  },
  {
   "cell_type": "markdown",
   "metadata": {},
   "source": [
    "### Get Data"
   ]
  },
  {
   "cell_type": "code",
   "execution_count": 2,
   "metadata": {},
   "outputs": [],
   "source": [
    "data = pd.read_csv('dataset/data/articles_dataset.csv')"
   ]
  },
  {
   "cell_type": "code",
   "execution_count": 3,
   "metadata": {},
   "outputs": [
    {
     "data": {
      "text/html": [
       "<div>\n",
       "<style scoped>\n",
       "    .dataframe tbody tr th:only-of-type {\n",
       "        vertical-align: middle;\n",
       "    }\n",
       "\n",
       "    .dataframe tbody tr th {\n",
       "        vertical-align: top;\n",
       "    }\n",
       "\n",
       "    .dataframe thead th {\n",
       "        text-align: right;\n",
       "    }\n",
       "</style>\n",
       "<table border=\"1\" class=\"dataframe\">\n",
       "  <thead>\n",
       "    <tr style=\"text-align: right;\">\n",
       "      <th></th>\n",
       "      <th>title</th>\n",
       "      <th>content</th>\n",
       "      <th>link</th>\n",
       "      <th>source</th>\n",
       "      <th>class</th>\n",
       "    </tr>\n",
       "  </thead>\n",
       "  <tbody>\n",
       "    <tr>\n",
       "      <th>0</th>\n",
       "      <td>Tibit Communications Raises $20M in Series B F...</td>\n",
       "      <td>Tibit Communications, Inc., a Petaluma, CA-bas...</td>\n",
       "      <td>http://www.finsmes.com/2019/04/tibit-communica...</td>\n",
       "      <td>FinsmesUSA</td>\n",
       "      <td>Funding</td>\n",
       "    </tr>\n",
       "    <tr>\n",
       "      <th>1</th>\n",
       "      <td>Twitter blames human error after blocking a Ne...</td>\n",
       "      <td>Over the holiday weekend, The New York Times f...</td>\n",
       "      <td>https://techcrunch.com/2017/11/27/twitter-blam...</td>\n",
       "      <td>techcrunch</td>\n",
       "      <td>Other</td>\n",
       "    </tr>\n",
       "    <tr>\n",
       "      <th>2</th>\n",
       "      <td>SimplyCook Raises £4.5M in Series A Funding\\n</td>\n",
       "      <td>SimplyCook, a London, UK-based recipe kit serv...</td>\n",
       "      <td>http://www.finsmes.com/2019/01/simplycook-rais...</td>\n",
       "      <td>FinsmesUK</td>\n",
       "      <td>Funding</td>\n",
       "    </tr>\n",
       "    <tr>\n",
       "      <th>3</th>\n",
       "      <td>Moogsoft Secures $40M in Series D Funding\\n</td>\n",
       "      <td>Moogsoft, a San Francisco, CA-based provider o...</td>\n",
       "      <td>http://www.finsmes.com/2018/03/moogsoft-secure...</td>\n",
       "      <td>FinsmesUSA</td>\n",
       "      <td>Funding</td>\n",
       "    </tr>\n",
       "    <tr>\n",
       "      <th>4</th>\n",
       "      <td>Zeta Global acquires commenting service†Disqus</td>\n",
       "      <td>A source close to the two companies tells us t...</td>\n",
       "      <td>https://techcrunch.com/2017/12/05/zeta-global-...</td>\n",
       "      <td>techcrunch</td>\n",
       "      <td>Other</td>\n",
       "    </tr>\n",
       "  </tbody>\n",
       "</table>\n",
       "</div>"
      ],
      "text/plain": [
       "                                               title  \\\n",
       "0  Tibit Communications Raises $20M in Series B F...   \n",
       "1  Twitter blames human error after blocking a Ne...   \n",
       "2      SimplyCook Raises £4.5M in Series A Funding\\n   \n",
       "3        Moogsoft Secures $40M in Series D Funding\\n   \n",
       "4     Zeta Global acquires commenting service†Disqus   \n",
       "\n",
       "                                             content  \\\n",
       "0  Tibit Communications, Inc., a Petaluma, CA-bas...   \n",
       "1  Over the holiday weekend, The New York Times f...   \n",
       "2  SimplyCook, a London, UK-based recipe kit serv...   \n",
       "3  Moogsoft, a San Francisco, CA-based provider o...   \n",
       "4  A source close to the two companies tells us t...   \n",
       "\n",
       "                                                link      source    class  \n",
       "0  http://www.finsmes.com/2019/04/tibit-communica...  FinsmesUSA  Funding  \n",
       "1  https://techcrunch.com/2017/11/27/twitter-blam...  techcrunch    Other  \n",
       "2  http://www.finsmes.com/2019/01/simplycook-rais...   FinsmesUK  Funding  \n",
       "3  http://www.finsmes.com/2018/03/moogsoft-secure...  FinsmesUSA  Funding  \n",
       "4  https://techcrunch.com/2017/12/05/zeta-global-...  techcrunch    Other  "
      ]
     },
     "execution_count": 3,
     "metadata": {},
     "output_type": "execute_result"
    }
   ],
   "source": [
    "data.head()"
   ]
  },
  {
   "cell_type": "code",
   "execution_count": 4,
   "metadata": {},
   "outputs": [
    {
     "data": {
      "text/plain": [
       "'A source close to the two companies tells us that the acquisition price was close to $90 million. This marks Zeta’s eleventh acquisition since it was founded in 2007. Zeta Global’s acquisitions have typically focused on more fundamental technologies like AI and machine learning, customer lifecycle management and other adtech related services. At first glance, Disqus doesn’t quite seem to fit into this list, but Disqus sits on a huge data set that goes beyond your favorite troll’s political comments. “Marketers typically have to make trade-offs between reaching engaged audiences on social platforms with massive reach and using tools that give them control and access to granular targeting capabilities,” said Zeta Global CEO, chairman and co-founder David A. Steinberg. “Disqus strengthens Zeta’s ability to offer the best of both worlds with the scale, visibility and performance marketers have been asking for.” Disqus gives these marketers the ability to target users based on their interests. You can infer quite a bit about people simply based on which sites they comment on, after all. At the same time, though, most of the online commenting has now moved to social media and the number of comments on most sites is in a steady decline. So while Zeta is acquired a large hoard of data, it remains to be seen how long that data will stay current. Zeta promises that it will continue to grow Disqus’ core business and platform and use its existing AI capabilities and data assets to enhance Disqus’ analytics. Zeta also expects to integrate Disqus’ platform with its personalization and messaging capabilities to build new offerings for publishers and brands. Disqus launched in 2007, when there was still a lot of excitement around commenting and a number of similar third-party commenting systems like Intense Debate (acquired by Automattic in 2008) and Livefyre (acquired by Adobe in 2016) sprung up that all took a slightly different approach to offering this kind of service but essentially offered the same features. About a year ago, we reported that Disqus laid off about 20 percent of its staff, for a total of 11 employees, in an effort to rebalance its priorities to focus more on data services for publishers and advertisers. That’s clearly what Zeta was interested in, too. Ahead of the acquisition, Disqus had raised a total of $10.5 million, which isn’t exactly a lot for a 10-year-old company. Investors include the likes of North Bridge Venture Partners, Union Square Ventures, Felicis Ventures and Knight’s Bridge Capital Partners. Disqus was also an early Y Combinator graduate (and we used it here on TechCrunch for a while, too).'"
      ]
     },
     "execution_count": 4,
     "metadata": {},
     "output_type": "execute_result"
    }
   ],
   "source": [
    "data.loc[4, 'content']"
   ]
  },
  {
   "cell_type": "code",
   "execution_count": 5,
   "metadata": {},
   "outputs": [],
   "source": [
    "def preprocess_content(content):\n",
    "    content = content.lower()\n",
    "    links_regex = re.compile('(https?:\\/\\/|www|ftp)[\\w\\./\\?\\=+&-]+')\n",
    "    money_regex = re.compile('USD\\s?\\d+[,\\d]+|\\$\\s?\\d+[,\\d]+|GBP\\s?\\d+[,\\d]+|£\\s?\\d+[,\\d]+|EUR\\s?\\d+[,\\d]+|€\\s?\\d+[,\\d]+', flags=re.IGNORECASE)\n",
    "    digits_regex = re.compile('\\d+[,.\\d]+')\n",
    "    white_space_regex = re.compile('\\s+')\n",
    "    \n",
    "    content = re.sub(links_regex, 'LINK',  content)\n",
    "    content = re.sub(money_regex, 'MONEY', content)\n",
    "    content = re.sub(digits_regex, 'NUMBER', content)\n",
    "    content = re.sub(white_space_regex, ' ', content)\n",
    "    \n",
    "    return content"
   ]
  },
  {
   "cell_type": "code",
   "execution_count": 6,
   "metadata": {},
   "outputs": [
    {
     "data": {
      "text/plain": [
       "(45013, 5)"
      ]
     },
     "execution_count": 6,
     "metadata": {},
     "output_type": "execute_result"
    }
   ],
   "source": [
    "data.shape"
   ]
  },
  {
   "cell_type": "code",
   "execution_count": 7,
   "metadata": {},
   "outputs": [],
   "source": [
    "data = data[~data['content'].isnull()]"
   ]
  },
  {
   "cell_type": "code",
   "execution_count": 8,
   "metadata": {},
   "outputs": [
    {
     "data": {
      "text/plain": [
       "Other      22868\n",
       "Funding    21163\n",
       "Name: class, dtype: int64"
      ]
     },
     "execution_count": 8,
     "metadata": {},
     "output_type": "execute_result"
    }
   ],
   "source": [
    "data['class'].value_counts()"
   ]
  },
  {
   "cell_type": "code",
   "execution_count": 9,
   "metadata": {},
   "outputs": [],
   "source": [
    "data['content'] = data['content'].map(preprocess_content)"
   ]
  },
  {
   "cell_type": "code",
   "execution_count": 11,
   "metadata": {},
   "outputs": [],
   "source": [
    "articles = data['content'].values\n",
    "titles = data['title'].values\n",
    "labels = data['class'].values"
   ]
  },
  {
   "cell_type": "markdown",
   "metadata": {},
   "source": [
    "#### Encode labels"
   ]
  },
  {
   "cell_type": "code",
   "execution_count": 12,
   "metadata": {},
   "outputs": [],
   "source": [
    "label_encoder = LabelEncoder()\n",
    "labels = label_encoder.fit_transform(labels)\n",
    "\n",
    "\n",
    "def encode_labels(labels):\n",
    "    encoded = label_encoder.transform(labels)\n",
    "    return encoded\n",
    "\n",
    "def decode_labels(encoded_labels):\n",
    "    labels_type = type(encoded_labels)\n",
    "    \n",
    "    if labels_type == int:\n",
    "        try:\n",
    "            label = label_encoder.inverse_transform([encoded_labels])\n",
    "        except ValueError:\n",
    "            print('Unknown value')\n",
    "            return np.nan\n",
    "        \n",
    "        return label\n",
    "    \n",
    "    elif hasattr(encoded_labels, '__iter__') and labels_type != str:\n",
    "        try:\n",
    "            labels = label_encoder.inverse_transform(encoded_labels)\n",
    "            \n",
    "        except ValueError:\n",
    "            print('Unknown value')\n",
    "            raise\n",
    "            \n",
    "        return labels\n",
    "    else:\n",
    "        raise TypeError"
   ]
  },
  {
   "cell_type": "code",
   "execution_count": 13,
   "metadata": {},
   "outputs": [
    {
     "data": {
      "text/plain": [
       "True"
      ]
     },
     "execution_count": 13,
     "metadata": {},
     "output_type": "execute_result"
    }
   ],
   "source": [
    "tf.test.is_gpu_available()"
   ]
  },
  {
   "cell_type": "markdown",
   "metadata": {},
   "source": [
    "### Use TensorFlow Keras and CNN"
   ]
  },
  {
   "cell_type": "code",
   "execution_count": 14,
   "metadata": {},
   "outputs": [],
   "source": [
    "shuffle = np.random.permutation(len(articles))\n",
    "articles = articles[shuffle]\n",
    "titles = titles[shuffle]\n",
    "labels = labels[shuffle]"
   ]
  },
  {
   "cell_type": "code",
   "execution_count": 15,
   "metadata": {},
   "outputs": [
    {
     "data": {
      "text/plain": [
       "44031"
      ]
     },
     "execution_count": 15,
     "metadata": {},
     "output_type": "execute_result"
    }
   ],
   "source": [
    "len(articles)"
   ]
  },
  {
   "cell_type": "code",
   "execution_count": 16,
   "metadata": {},
   "outputs": [
    {
     "name": "stdout",
     "output_type": "stream",
     "text": [
      "35225 4403 39628\n"
     ]
    }
   ],
   "source": [
    "data_size = len(articles)\n",
    "\n",
    "train_size = round(0.8 * data_size)\n",
    "dev_size = round(0.1 * data_size)\n",
    "\n",
    "dev_end = train_size + dev_size\n",
    "\n",
    "print(train_size, dev_size, dev_end)"
   ]
  },
  {
   "cell_type": "code",
   "execution_count": 17,
   "metadata": {},
   "outputs": [],
   "source": [
    "articles_train, labels_train, titles_train = articles[:train_size], labels[:train_size], titles[:train_size]\n",
    "articles_dev, labels_dev, titles_dev = articles[train_size:dev_end], labels[train_size:dev_end], titles[train_size:dev_end]\n",
    "articles_test, labels_test, titles_test = articles[dev_end:], labels[dev_end:], titles[dev_end:]"
   ]
  },
  {
   "cell_type": "markdown",
   "metadata": {},
   "source": [
    "### Preprocess the text for use with the CNN"
   ]
  },
  {
   "cell_type": "code",
   "execution_count": 18,
   "metadata": {},
   "outputs": [
    {
     "data": {
      "text/plain": [
       "156764"
      ]
     },
     "execution_count": 18,
     "metadata": {},
     "output_type": "execute_result"
    }
   ],
   "source": [
    "tokenizer = Tokenizer(num_words=5000)\n",
    "tokenizer.fit_on_texts(articles_train)\n",
    "\n",
    "X_train = tokenizer.texts_to_sequences(articles_train)\n",
    "X_dev = tokenizer.texts_to_sequences(articles_dev)\n",
    "X_test = tokenizer.texts_to_sequences(articles_test)\n",
    "\n",
    "vocab_size = len(tokenizer.word_index) + 1\n",
    "\n",
    "vocab_size"
   ]
  },
  {
   "cell_type": "code",
   "execution_count": 19,
   "metadata": {},
   "outputs": [],
   "source": [
    "maxlen = 300\n",
    "\n",
    "X_train = pad_sequences(X_train, padding='post', maxlen=maxlen)\n",
    "X_dev = pad_sequences(X_dev, padding='post', maxlen=maxlen)\n",
    "X_test = pad_sequences(X_test, padding='post', maxlen=maxlen)"
   ]
  },
  {
   "cell_type": "markdown",
   "metadata": {},
   "source": [
    "### Run CNN models "
   ]
  },
  {
   "cell_type": "markdown",
   "metadata": {},
   "source": [
    "#### Function to plot the history of models"
   ]
  },
  {
   "cell_type": "code",
   "execution_count": 20,
   "metadata": {},
   "outputs": [],
   "source": [
    "def plot_history(history):\n",
    "    acc = history.history['acc']\n",
    "    val_acc = history.history['val_acc']\n",
    "    loss = history.history['loss']\n",
    "    val_loss = history.history['val_loss']\n",
    "    x = range(1, len(acc) + 1)\n",
    "\n",
    "    plt.figure(figsize=(12, 5))\n",
    "    plt.subplot(1, 2, 1)\n",
    "    plt.plot(x, acc, 'b', label='Training acc')\n",
    "    plt.plot(x, val_acc, 'r', label='Validation acc')\n",
    "    plt.title('Training and validation accuracy')\n",
    "    plt.legend()\n",
    "    plt.subplot(1, 2, 2)\n",
    "    plt.plot(x, loss, 'b', label='Training loss')\n",
    "    plt.plot(x, val_loss, 'r', label='Validation loss')\n",
    "    plt.title('Training and validation loss')\n",
    "    plt.legend()"
   ]
  },
  {
   "cell_type": "markdown",
   "metadata": {},
   "source": [
    "#### Function to Build Model"
   ]
  },
  {
   "cell_type": "code",
   "execution_count": 21,
   "metadata": {},
   "outputs": [],
   "source": [
    "def build_model(vocab_size, embedding_dim, max_len, trainable_emb=True,  embeddings=None, dropout_rate=0.1):\n",
    "    model = Sequential()\n",
    "    \n",
    "    if type(embeddings) is np.ndarray:\n",
    "        model.add(layers.Embedding(vocab_size, embedding_dim, \n",
    "                                   weights=[embedding_matrix], \n",
    "                                   input_length=max_len, \n",
    "                                   trainable=trainable_emb))\n",
    "    else:\n",
    "        model.add(layers.Embedding(vocab_size, embedding_dim, \n",
    "                                   input_length=max_len, \n",
    "                                   trainable=trainable_emb))\n",
    "    model.add(layers.Conv1D(filters=128, kernel_size=5, activation='relu'))\n",
    "    model.add(layers.GlobalMaxPool1D())\n",
    "    model.add(layers.Dropout(rate=dropout_rate))\n",
    "    model.add(layers.Dense(10, activation='relu'))\n",
    "    model.add(layers.Dense(1, activation='sigmoid'))\n",
    "    model.compile(optimizer='adam',\n",
    "                  loss='binary_crossentropy',\n",
    "                  metrics=['accuracy'])\n",
    "    return model"
   ]
  },
  {
   "cell_type": "code",
   "execution_count": 22,
   "metadata": {},
   "outputs": [
    {
     "name": "stderr",
     "output_type": "stream",
     "text": [
      "WARNING: Logging before flag parsing goes to stderr.\n",
      "W0802 12:57:01.828403 140051476551488 deprecation.py:506] From /home/brianmusisi/anaconda3/lib/python3.7/site-packages/tensorflow/python/keras/initializers.py:119: calling RandomUniform.__init__ (from tensorflow.python.ops.init_ops) with dtype is deprecated and will be removed in a future version.\n",
      "Instructions for updating:\n",
      "Call initializer instance with the dtype argument instead of passing it to the constructor\n",
      "W0802 12:57:01.930777 140051476551488 deprecation.py:506] From /home/brianmusisi/anaconda3/lib/python3.7/site-packages/tensorflow/python/ops/init_ops.py:1251: calling VarianceScaling.__init__ (from tensorflow.python.ops.init_ops) with dtype is deprecated and will be removed in a future version.\n",
      "Instructions for updating:\n",
      "Call initializer instance with the dtype argument instead of passing it to the constructor\n",
      "W0802 12:57:02.184091 140051476551488 deprecation.py:323] From /home/brianmusisi/anaconda3/lib/python3.7/site-packages/tensorflow/python/ops/nn_impl.py:180: add_dispatch_support.<locals>.wrapper (from tensorflow.python.ops.array_ops) is deprecated and will be removed in a future version.\n",
      "Instructions for updating:\n",
      "Use tf.where in 2.0, which has the same broadcast rule as np.where\n"
     ]
    },
    {
     "name": "stdout",
     "output_type": "stream",
     "text": [
      "Model: \"sequential\"\n",
      "_________________________________________________________________\n",
      "Layer (type)                 Output Shape              Param #   \n",
      "=================================================================\n",
      "embedding (Embedding)        (None, 300, 100)          15676400  \n",
      "_________________________________________________________________\n",
      "conv1d (Conv1D)              (None, 296, 128)          64128     \n",
      "_________________________________________________________________\n",
      "global_max_pooling1d (Global (None, 128)               0         \n",
      "_________________________________________________________________\n",
      "dropout (Dropout)            (None, 128)               0         \n",
      "_________________________________________________________________\n",
      "dense (Dense)                (None, 10)                1290      \n",
      "_________________________________________________________________\n",
      "dense_1 (Dense)              (None, 1)                 11        \n",
      "=================================================================\n",
      "Total params: 15,741,829\n",
      "Trainable params: 15,741,829\n",
      "Non-trainable params: 0\n",
      "_________________________________________________________________\n"
     ]
    }
   ],
   "source": [
    "model = build_model(vocab_size, embedding_dim=100, max_len=300)\n",
    "model.summary()"
   ]
  },
  {
   "cell_type": "code",
   "execution_count": 23,
   "metadata": {},
   "outputs": [],
   "source": [
    "early_stop = EarlyStopping(monitor='val_loss', mode='min', verbose=1, patience=10)"
   ]
  },
  {
   "cell_type": "code",
   "execution_count": 27,
   "metadata": {},
   "outputs": [
    {
     "name": "stdout",
     "output_type": "stream",
     "text": [
      "Train on 35225 samples, validate on 4403 samples\n",
      "Epoch 1/10\n",
      "35225/35225 [==============================] - 21s 599us/sample - loss: 0.2751 - acc: 0.8876 - val_loss: 0.2216 - val_acc: 0.9101\n",
      "Epoch 2/10\n",
      "35225/35225 [==============================] - 18s 525us/sample - loss: 0.2054 - acc: 0.9194 - val_loss: 0.2181 - val_acc: 0.9148\n",
      "Epoch 3/10\n",
      "35225/35225 [==============================] - 19s 530us/sample - loss: 0.1489 - acc: 0.9463 - val_loss: 0.2677 - val_acc: 0.9123\n",
      "Epoch 4/10\n",
      "35225/35225 [==============================] - 18s 519us/sample - loss: 0.0996 - acc: 0.9651 - val_loss: 0.2944 - val_acc: 0.8996\n",
      "Epoch 5/10\n",
      "35225/35225 [==============================] - 18s 524us/sample - loss: 0.0649 - acc: 0.9781 - val_loss: 0.3410 - val_acc: 0.9028\n",
      "Epoch 6/10\n",
      "35225/35225 [==============================] - 18s 520us/sample - loss: 0.0478 - acc: 0.9834 - val_loss: 0.3900 - val_acc: 0.9080\n",
      "Epoch 7/10\n",
      "35225/35225 [==============================] - 18s 520us/sample - loss: 0.0340 - acc: 0.9876 - val_loss: 0.5169 - val_acc: 0.8978\n",
      "Epoch 8/10\n",
      "35225/35225 [==============================] - 18s 523us/sample - loss: 0.0295 - acc: 0.9899 - val_loss: 0.4899 - val_acc: 0.8896\n",
      "Epoch 9/10\n",
      "35225/35225 [==============================] - 18s 524us/sample - loss: 0.0250 - acc: 0.9915 - val_loss: 0.5532 - val_acc: 0.8973\n",
      "Epoch 10/10\n",
      "35225/35225 [==============================] - 18s 523us/sample - loss: 0.0241 - acc: 0.9915 - val_loss: 0.6756 - val_acc: 0.9012\n",
      "Training Accuracy: 0.9963\n",
      "Testing Accuracy:  0.9012\n"
     ]
    },
    {
     "data": {
      "image/png": "[encoded data removed]",
      "text/plain": [
       "<Figure size 864x360 with 2 Axes>"
      ]
     },
     "metadata": {
      "needs_background": "light"
     },
     "output_type": "display_data"
    }
   ],
   "source": [
    "history = model.fit(X_train, labels_train,\n",
    "                    epochs=10,\n",
    "                    #verbose=False,\n",
    "                    validation_data=(X_dev, labels_dev),\n",
    "                    batch_size=10)\n",
    "loss, accuracy = model.evaluate(X_train, labels_train, verbose=False)\n",
    "print(\"Training Accuracy: {:.4f}\".format(accuracy))\n",
    "loss, accuracy = model.evaluate(X_dev, labels_dev, verbose=False)\n",
    "print(\"Testing Accuracy:  {:.4f}\".format(accuracy))\n",
    "plot_history(history)"
   ]
  },
  {
   "cell_type": "markdown",
   "metadata": {},
   "source": [
    "#### Using Glove embeddings"
   ]
  },
  {
   "cell_type": "code",
   "execution_count": 25,
   "metadata": {},
   "outputs": [],
   "source": [
    "def create_embedding_matrix(filepath, word_index, embedding_dim):\n",
    "    vocab_size = len(word_index) + 1  \n",
    "    embedding_matrix = np.zeros((vocab_size, embedding_dim))\n",
    "\n",
    "    with open(filepath) as f:\n",
    "        for line in f:\n",
    "            word, *vector = line.split()\n",
    "            if word in word_index:\n",
    "                idx = word_index[word] \n",
    "                embedding_matrix[idx] = np.array(\n",
    "                    vector, dtype=np.float32)[:embedding_dim]\n",
    "\n",
    "    return embedding_matrix"
   ]
  },
  {
   "cell_type": "code",
   "execution_count": 29,
   "metadata": {},
   "outputs": [],
   "source": [
    "embedding_dim = 100\n",
    "max_len = 300\n",
    "\n",
    "embedding_matrix = create_embedding_matrix('embeddings/glove/glove.6B.100d.txt', \n",
    "                                           tokenizer.word_index, embedding_dim)"
   ]
  },
  {
   "cell_type": "code",
   "execution_count": 30,
   "metadata": {},
   "outputs": [
    {
     "data": {
      "text/plain": [
       "0.4875162664897553"
      ]
     },
     "execution_count": 30,
     "metadata": {},
     "output_type": "execute_result"
    }
   ],
   "source": [
    "nonzero_elements = np.count_nonzero(np.count_nonzero(embedding_matrix, axis=1))\n",
    "nonzero_elements / vocab_size"
   ]
  },
  {
   "cell_type": "code",
   "execution_count": 31,
   "metadata": {},
   "outputs": [
    {
     "name": "stdout",
     "output_type": "stream",
     "text": [
      "Model: \"sequential_2\"\n",
      "_________________________________________________________________\n",
      "Layer (type)                 Output Shape              Param #   \n",
      "=================================================================\n",
      "embedding_2 (Embedding)      (None, 300, 100)          15676400  \n",
      "_________________________________________________________________\n",
      "conv1d_1 (Conv1D)            (None, 296, 128)          64128     \n",
      "_________________________________________________________________\n",
      "global_max_pooling1d_1 (Glob (None, 128)               0         \n",
      "_________________________________________________________________\n",
      "dropout_1 (Dropout)          (None, 128)               0         \n",
      "_________________________________________________________________\n",
      "dense_2 (Dense)              (None, 10)                1290      \n",
      "_________________________________________________________________\n",
      "dense_3 (Dense)              (None, 1)                 11        \n",
      "=================================================================\n",
      "Total params: 15,741,829\n",
      "Trainable params: 15,741,829\n",
      "Non-trainable params: 0\n",
      "_________________________________________________________________\n"
     ]
    }
   ],
   "source": [
    "model = build_model(vocab_size, embedding_dim=embedding_dim, max_len=max_len, embeddings=embedding_matrix)\n",
    "model.summary()"
   ]
  },
  {
   "cell_type": "code",
   "execution_count": 32,
   "metadata": {},
   "outputs": [
    {
     "name": "stdout",
     "output_type": "stream",
     "text": [
      "Train on 35225 samples, validate on 4403 samples\n",
      "Epoch 1/30\n",
      "35225/35225 [==============================] - 40s 1ms/sample - loss: 0.2898 - acc: 0.8802 - val_loss: 0.2317 - val_acc: 0.9053\n",
      "Epoch 2/30\n",
      "35225/35225 [==============================] - 22s 635us/sample - loss: 0.2230 - acc: 0.9134 - val_loss: 0.2170 - val_acc: 0.9137\n",
      "Epoch 3/30\n",
      "35225/35225 [==============================] - 22s 625us/sample - loss: 0.1808 - acc: 0.9300 - val_loss: 0.2205 - val_acc: 0.9160\n",
      "Epoch 4/30\n",
      "35225/35225 [==============================] - 22s 612us/sample - loss: 0.1287 - acc: 0.9517 - val_loss: 0.3655 - val_acc: 0.8964\n",
      "Epoch 5/30\n",
      "35225/35225 [==============================] - 21s 607us/sample - loss: 0.0804 - acc: 0.9696 - val_loss: 0.3341 - val_acc: 0.9087\n",
      "Epoch 6/30\n",
      "35225/35225 [==============================] - 22s 610us/sample - loss: 0.0540 - acc: 0.9796 - val_loss: 0.5162 - val_acc: 0.8969\n",
      "Epoch 7/30\n",
      "35225/35225 [==============================] - 21s 603us/sample - loss: 0.0413 - acc: 0.9846 - val_loss: 0.4714 - val_acc: 0.9073\n",
      "Epoch 8/30\n",
      "35225/35225 [==============================] - 21s 607us/sample - loss: 0.0352 - acc: 0.9877 - val_loss: 0.5232 - val_acc: 0.8939\n",
      "Epoch 9/30\n",
      "35225/35225 [==============================] - 21s 609us/sample - loss: 0.0312 - acc: 0.9891 - val_loss: 0.5180 - val_acc: 0.9062\n",
      "Epoch 10/30\n",
      "35225/35225 [==============================] - 21s 601us/sample - loss: 0.0266 - acc: 0.9911 - val_loss: 0.5364 - val_acc: 0.9062\n",
      "Epoch 11/30\n",
      "35225/35225 [==============================] - 21s 604us/sample - loss: 0.0230 - acc: 0.9922 - val_loss: 0.5210 - val_acc: 0.9055\n",
      "Epoch 12/30\n",
      "35225/35225 [==============================] - 21s 597us/sample - loss: 0.0206 - acc: 0.9928 - val_loss: 0.6440 - val_acc: 0.9085\n",
      "Epoch 00012: early stopping\n",
      "Training Accuracy: 0.9983\n",
      "Testing Accuracy:  0.9085\n"
     ]
    }
   ],
   "source": [
    "model.reset_states()\n",
    "history = model.fit(X_train, labels_train,\n",
    "                    epochs=30,\n",
    "                    #verbose=False,\n",
    "                    validation_data=(X_dev, labels_dev),\n",
    "                    batch_size=10, callbacks=[early_stop])\n",
    "loss, accuracy = model.evaluate(X_train, labels_train, verbose=False)\n",
    "print(\"Training Accuracy: {:.4f}\".format(accuracy))\n",
    "loss, accuracy = model.evaluate(X_dev, labels_dev, verbose=False)\n",
    "print(\"Dev Accuracy:  {:.4f}\".format(accuracy))"
   ]
  },
  {
   "cell_type": "code",
   "execution_count": 33,
   "metadata": {},
   "outputs": [
    {
     "name": "stdout",
     "output_type": "stream",
     "text": [
      "Test Accuracy: 0.8958\n"
     ]
    }
   ],
   "source": [
    "loss, accuracy = model.evaluate(X_test, labels_test, verbose=False)\n",
    "print(\"Test Accuracy: {:.4f}\".format(accuracy))"
   ]
  },
  {
   "cell_type": "markdown",
   "metadata": {},
   "source": [
    "### More complex CNN Model"
   ]
  },
  {
   "cell_type": "code",
   "execution_count": 34,
   "metadata": {},
   "outputs": [],
   "source": [
    "epochs = 20\n",
    "embedding_dim = 100\n",
    "num_filters = 128\n",
    "kernel_sizes = [2, 3, 5]\n",
    "dense_layer_dims = [20,30,10]\n",
    "dropout_rate = 0.1\n",
    "\n",
    "def build_cnn_model(kernel_sizes, dense_layer_dims, vocab_size, embedding_dim=50, embedding_matrix=None, trainable=False, max_len=300, dropout_rate=0.1, num_filters=128):\n",
    "    wordids = layers.Input(shape=(max_len, ))\n",
    "    \n",
    "    if type(embedding_matrix) == np.ndarray:\n",
    "        emb = layers.Embedding(vocab_size, embedding_dim, weights=[embedding_matrix], input_length=max_len, trainable=trainable)(wordids)\n",
    "    else:\n",
    "        emb = layers.Embedding(vocab_size, embedding_dim, input_length=max_len, trainable=trainable)(wordids)\n",
    "    \n",
    "    conv_layers_list = []\n",
    "    \n",
    "    for kernel_size in kernel_sizes:\n",
    "        conv_layer = layers.Conv1D(filters=num_filters, kernel_size=kernel_size, activation='relu')(emb)\n",
    "        conv_layer = layers.GlobalMaxPooling1D()(conv_layer)\n",
    "        conv_layers_list.append(conv_layer)\n",
    "        \n",
    "    concat_layer = layers.concatenate(conv_layers_list, axis=1)\n",
    "    dense_layer = layers.Dropout(rate=dropout_rate)(concat_layer)\n",
    "    \n",
    "    for dense_size in dense_layer_dims:\n",
    "        dense_layer = layers.Dense(dense_size, activation='relu')(dense_layer)\n",
    "    \n",
    "    prediction = layers.Dense(4, activation='softmax')(dense_layer)\n",
    "    \n",
    "    model = Model(inputs=wordids, outputs=prediction)\n",
    "    model.compile(optimizer='adam',\n",
    "                      loss='sparse_categorical_crossentropy',  # From information theory notebooks.\n",
    "                      metrics=['accuracy'])\n",
    "    return model"
   ]
  },
  {
   "cell_type": "code",
   "execution_count": 35,
   "metadata": {},
   "outputs": [
    {
     "name": "stdout",
     "output_type": "stream",
     "text": [
      "Train on 35225 samples, validate on 4403 samples\n",
      "Epoch 1/40\n",
      "35225/35225 [==============================] - 18s 511us/sample - loss: 0.4182 - acc: 0.8006 - val_loss: 0.2611 - val_acc: 0.8937\n",
      "Epoch 2/40\n",
      "35225/35225 [==============================] - 18s 498us/sample - loss: 0.2576 - acc: 0.8973 - val_loss: 0.2558 - val_acc: 0.8994\n",
      "Epoch 3/40\n",
      "35225/35225 [==============================] - 17s 495us/sample - loss: 0.2332 - acc: 0.9073 - val_loss: 0.2514 - val_acc: 0.9032\n",
      "Epoch 4/40\n",
      "35225/35225 [==============================] - 18s 502us/sample - loss: 0.2107 - acc: 0.9153 - val_loss: 0.2298 - val_acc: 0.9101\n",
      "Epoch 5/40\n",
      "35225/35225 [==============================] - 17s 493us/sample - loss: 0.1836 - acc: 0.9291 - val_loss: 0.2307 - val_acc: 0.9114\n",
      "Epoch 6/40\n",
      "35225/35225 [==============================] - 17s 496us/sample - loss: 0.1534 - acc: 0.9404 - val_loss: 0.2548 - val_acc: 0.8983\n",
      "Epoch 7/40\n",
      "35225/35225 [==============================] - 17s 497us/sample - loss: 0.1299 - acc: 0.9511 - val_loss: 0.2542 - val_acc: 0.9117\n",
      "Epoch 8/40\n",
      "35225/35225 [==============================] - 19s 543us/sample - loss: 0.1103 - acc: 0.9588 - val_loss: 0.2849 - val_acc: 0.9130\n",
      "Epoch 9/40\n",
      "35225/35225 [==============================] - 18s 513us/sample - loss: 0.0921 - acc: 0.9671 - val_loss: 0.2978 - val_acc: 0.9087\n",
      "Epoch 10/40\n",
      "35225/35225 [==============================] - 18s 509us/sample - loss: 0.0829 - acc: 0.9699 - val_loss: 0.3867 - val_acc: 0.9030\n",
      "Epoch 11/40\n",
      "35225/35225 [==============================] - 19s 527us/sample - loss: 0.0729 - acc: 0.9735 - val_loss: 0.3698 - val_acc: 0.9076\n",
      "Epoch 12/40\n",
      "35225/35225 [==============================] - 18s 498us/sample - loss: 0.0639 - acc: 0.9772 - val_loss: 0.4073 - val_acc: 0.9094\n",
      "Epoch 13/40\n",
      "35225/35225 [==============================] - 18s 510us/sample - loss: 0.0561 - acc: 0.9792 - val_loss: 0.3660 - val_acc: 0.9060\n",
      "Epoch 14/40\n",
      "35225/35225 [==============================] - 18s 510us/sample - loss: 0.0507 - acc: 0.9814 - val_loss: 0.3415 - val_acc: 0.9092\n",
      "Epoch 00014: early stopping\n",
      "Training Accuracy: 0.9943\n",
      "Testing Accuracy:  0.9092\n"
     ]
    }
   ],
   "source": [
    "model = build_cnn_model(kernel_sizes, dense_layer_dims, vocab_size)\n",
    "history = model.fit(X_train, labels_train,\n",
    "                    epochs=40,\n",
    "                    #verbose=False,\n",
    "                    validation_data=(X_dev, labels_dev),\n",
    "                    batch_size=10, callbacks=[early_stop])\n",
    "loss, accuracy = model.evaluate(X_train, labels_train, verbose=False)\n",
    "print(\"Training Accuracy: {:.4f}\".format(accuracy))\n",
    "loss, accuracy = model.evaluate(X_dev, labels_dev, verbose=False)\n",
    "print(\"Dev Accuracy:  {:.4f}\".format(accuracy))"
   ]
  },
  {
   "cell_type": "code",
   "execution_count": 36,
   "metadata": {},
   "outputs": [
    {
     "data": {
      "image/png": "[encoded data removed]",
      "text/plain": [
       "<Figure size 864x360 with 2 Axes>"
      ]
     },
     "metadata": {
      "needs_background": "light"
     },
     "output_type": "display_data"
    }
   ],
   "source": [
    "plot_history(history)"
   ]
  },
  {
   "cell_type": "code",
   "execution_count": 37,
   "metadata": {},
   "outputs": [
    {
     "name": "stdout",
     "output_type": "stream",
     "text": [
      "Test Accuracy: 0.8948\n"
     ]
    }
   ],
   "source": [
    "loss, accuracy = model.evaluate(X_test, labels_test, verbose=False)\n",
    "print(\"Test Accuracy: {:.4f}\".format(accuracy))"
   ]
  },
  {
   "cell_type": "markdown",
   "metadata": {},
   "source": [
    "#### With Glove embeddings"
   ]
  },
  {
   "cell_type": "code",
   "execution_count": 39,
   "metadata": {},
   "outputs": [
    {
     "name": "stdout",
     "output_type": "stream",
     "text": [
      "Train on 35225 samples, validate on 4403 samples\n",
      "Epoch 1/40\n",
      "35225/35225 [==============================] - 18s 503us/sample - loss: 0.3130 - acc: 0.8706 - val_loss: 0.2309 - val_acc: 0.9048\n",
      "Epoch 2/40\n",
      "35225/35225 [==============================] - 17s 495us/sample - loss: 0.2414 - acc: 0.9050 - val_loss: 0.2306 - val_acc: 0.9062\n",
      "Epoch 3/40\n",
      "35225/35225 [==============================] - 18s 504us/sample - loss: 0.2149 - acc: 0.9157 - val_loss: 0.2192 - val_acc: 0.9085\n",
      "Epoch 4/40\n",
      "35225/35225 [==============================] - 17s 493us/sample - loss: 0.1823 - acc: 0.9304 - val_loss: 0.2278 - val_acc: 0.9073\n",
      "Epoch 5/40\n",
      "35225/35225 [==============================] - 18s 499us/sample - loss: 0.1485 - acc: 0.9451 - val_loss: 0.2620 - val_acc: 0.9080\n",
      "Epoch 6/40\n",
      "35225/35225 [==============================] - 18s 498us/sample - loss: 0.1236 - acc: 0.9559 - val_loss: 0.2969 - val_acc: 0.8937\n",
      "Epoch 7/40\n",
      "35225/35225 [==============================] - 17s 493us/sample - loss: 0.0990 - acc: 0.9655 - val_loss: 0.3126 - val_acc: 0.9026\n",
      "Epoch 8/40\n",
      "35225/35225 [==============================] - 18s 497us/sample - loss: 0.0862 - acc: 0.9686 - val_loss: 0.3373 - val_acc: 0.9017\n",
      "Epoch 9/40\n",
      "35225/35225 [==============================] - 19s 526us/sample - loss: 0.0758 - acc: 0.9724 - val_loss: 0.3383 - val_acc: 0.9023\n",
      "Epoch 10/40\n",
      "35225/35225 [==============================] - 18s 507us/sample - loss: 0.0686 - acc: 0.9754 - val_loss: 0.3307 - val_acc: 0.9001\n",
      "Epoch 11/40\n",
      "35225/35225 [==============================] - 18s 500us/sample - loss: 0.0572 - acc: 0.9793 - val_loss: 0.3902 - val_acc: 0.8992\n",
      "Epoch 12/40\n",
      "35225/35225 [==============================] - 18s 508us/sample - loss: 0.0533 - acc: 0.9806 - val_loss: 0.4158 - val_acc: 0.8971\n",
      "Epoch 13/40\n",
      "35225/35225 [==============================] - 18s 503us/sample - loss: 0.0464 - acc: 0.9827 - val_loss: 0.5205 - val_acc: 0.8973\n",
      "Epoch 00013: early stopping\n",
      "Training Accuracy: 0.9936\n",
      "Dev Accuracy:  0.8973\n"
     ]
    }
   ],
   "source": [
    "model = build_cnn_model(kernel_sizes, dense_layer_dims, vocab_size, embedding_dim=embedding_dim, embedding_matrix=embedding_matrix)\n",
    "history = model.fit(X_train, labels_train,\n",
    "                    epochs=40,\n",
    "                    #verbose=False,\n",
    "                    validation_data=(X_dev, labels_dev),\n",
    "                    batch_size=10, callbacks=[early_stop])\n",
    "loss, accuracy = model.evaluate(X_train, labels_train, verbose=False)\n",
    "print(\"Training Accuracy: {:.4f}\".format(accuracy))\n",
    "loss, accuracy = model.evaluate(X_dev, labels_dev, verbose=False)\n",
    "print(\"Dev Accuracy:  {:.4f}\".format(accuracy))"
   ]
  },
  {
   "cell_type": "code",
   "execution_count": 40,
   "metadata": {},
   "outputs": [
    {
     "data": {
      "image/png": "[encoded data removed]",
      "text/plain": [
       "<Figure size 864x360 with 2 Axes>"
      ]
     },
     "metadata": {
      "needs_background": "light"
     },
     "output_type": "display_data"
    }
   ],
   "source": [
    "plot_history(history)"
   ]
  },
  {
   "cell_type": "code",
   "execution_count": 41,
   "metadata": {},
   "outputs": [
    {
     "name": "stdout",
     "output_type": "stream",
     "text": [
      "Test Accuracy: 0.8910\n"
     ]
    }
   ],
   "source": [
    "loss, accuracy = model.evaluate(X_test, labels_test, verbose=False)\n",
    "print(\"Test Accuracy: {:.4f}\".format(accuracy))"
   ]
  },
  {
   "cell_type": "code",
   "execution_count": 48,
   "metadata": {},
   "outputs": [],
   "source": [
    "model.save('models/CNN/CNN_cmplx_glove.h5')"
   ]
  },
  {
   "cell_type": "code",
   "execution_count": 49,
   "metadata": {},
   "outputs": [],
   "source": [
    "import pickle\n",
    "tokenizer_pickle = open('CNN_glove_tokenizer.pkl', 'wb')\n",
    "pickle.dump(tokenizer, tokenizer_pickle)\n",
    "tokenizer_pickle.close()"
   ]
  },
  {
   "cell_type": "markdown",
   "metadata": {},
   "source": [
    "#### Change length of sentence to 100 tokens"
   ]
  },
  {
   "cell_type": "code",
   "execution_count": 50,
   "metadata": {},
   "outputs": [],
   "source": [
    "tokenizer = Tokenizer(num_words=5000)\n",
    "tokenizer.fit_on_texts(articles_train)\n",
    "\n",
    "X_train100 = tokenizer.texts_to_sequences(articles_train)\n",
    "X_dev100 = tokenizer.texts_to_sequences(articles_dev)\n",
    "X_test100 = tokenizer.texts_to_sequences(articles_test)\n",
    "\n",
    "vocab_size100 = len(tokenizer.word_index) + 1\n",
    "\n",
    "vocab_size100\n",
    "\n",
    "maxlen100 = 100\n",
    "\n",
    "X_train100 = pad_sequences(X_train100, padding='post', maxlen=maxlen100)\n",
    "X_dev100 = pad_sequences(X_dev100, padding='post', maxlen=maxlen100)\n",
    "X_test100 = pad_sequences(X_test100, padding='post', maxlen=maxlen100)"
   ]
  },
  {
   "cell_type": "code",
   "execution_count": 51,
   "metadata": {},
   "outputs": [
    {
     "name": "stdout",
     "output_type": "stream",
     "text": [
      "Train on 35225 samples, validate on 4403 samples\n",
      "Epoch 1/20\n",
      "35225/35225 [==============================] - 16s 463us/sample - loss: 0.4860 - acc: 0.7733 - val_loss: 0.4162 - val_acc: 0.8183\n",
      "Epoch 2/20\n",
      "35225/35225 [==============================] - 16s 447us/sample - loss: 0.3915 - acc: 0.8289 - val_loss: 0.3909 - val_acc: 0.8263\n",
      "Epoch 3/20\n",
      "35225/35225 [==============================] - 16s 445us/sample - loss: 0.3494 - acc: 0.8508 - val_loss: 0.3804 - val_acc: 0.8431\n",
      "Epoch 4/20\n",
      "35225/35225 [==============================] - 15s 435us/sample - loss: 0.3009 - acc: 0.8765 - val_loss: 0.3938 - val_acc: 0.8358\n",
      "Epoch 5/20\n",
      "35225/35225 [==============================] - 15s 433us/sample - loss: 0.2504 - acc: 0.8993 - val_loss: 0.4514 - val_acc: 0.8242\n",
      "Epoch 6/20\n",
      "35225/35225 [==============================] - 15s 435us/sample - loss: 0.2099 - acc: 0.9177 - val_loss: 0.4793 - val_acc: 0.8267\n",
      "Epoch 7/20\n",
      "35225/35225 [==============================] - 15s 412us/sample - loss: 0.1758 - acc: 0.9330 - val_loss: 0.4676 - val_acc: 0.8210\n",
      "Epoch 8/20\n",
      "35225/35225 [==============================] - 14s 403us/sample - loss: 0.1537 - acc: 0.9415 - val_loss: 0.7458 - val_acc: 0.7929\n",
      "Epoch 9/20\n",
      "35225/35225 [==============================] - 15s 417us/sample - loss: 0.1309 - acc: 0.9507 - val_loss: 0.5859 - val_acc: 0.8201\n",
      "Epoch 10/20\n",
      "35225/35225 [==============================] - 16s 451us/sample - loss: 0.1176 - acc: 0.9554 - val_loss: 0.6249 - val_acc: 0.8154\n",
      "Epoch 11/20\n",
      "35225/35225 [==============================] - 16s 452us/sample - loss: 0.1047 - acc: 0.9602 - val_loss: 0.5805 - val_acc: 0.8210\n",
      "Epoch 12/20\n",
      "35225/35225 [==============================] - 16s 455us/sample - loss: 0.0952 - acc: 0.9639 - val_loss: 0.6377 - val_acc: 0.8167\n",
      "Epoch 13/20\n",
      "35225/35225 [==============================] - 16s 455us/sample - loss: 0.0895 - acc: 0.9655 - val_loss: 0.6598 - val_acc: 0.8190\n",
      "Epoch 00013: early stopping\n",
      "Training Accuracy: 0.9928\n",
      "Testing Accuracy:  0.8190\n"
     ]
    }
   ],
   "source": [
    "model = build_cnn_model(kernel_sizes, dense_layer_dims, vocab_size, max_len=maxlen100)\n",
    "history = model.fit(X_train100, labels_train,\n",
    "                    epochs=20,\n",
    "                    #verbose=False,\n",
    "                    validation_data=(X_dev100, labels_dev),\n",
    "                    batch_size=10, callbacks=[early_stop])\n",
    "loss, accuracy = model.evaluate(X_train100, labels_train, verbose=False)\n",
    "print(\"Training Accuracy: {:.4f}\".format(accuracy))\n",
    "loss, accuracy = model.evaluate(X_dev100, labels_dev, verbose=False)\n",
    "print(\"Testing Accuracy:  {:.4f}\".format(accuracy))"
   ]
  },
  {
   "cell_type": "code",
   "execution_count": 52,
   "metadata": {},
   "outputs": [
    {
     "data": {
      "image/png": "[encoded data removed]",
      "text/plain": [
       "<Figure size 864x360 with 2 Axes>"
      ]
     },
     "metadata": {},
     "output_type": "display_data"
    }
   ],
   "source": [
    "plot_history(history)"
   ]
  },
  {
   "cell_type": "markdown",
   "metadata": {},
   "source": [
    "### Hyperparmeter Tuning with complex CNN"
   ]
  },
  {
   "cell_type": "code",
   "execution_count": 60,
   "metadata": {},
   "outputs": [
    {
     "name": "stdout",
     "output_type": "stream",
     "text": [
      "Train on 35225 samples, validate on 4403 samples\n",
      "Epoch 1/40\n",
      "35225/35225 [==============================] - 19s 527us/sample - loss: 0.3254 - acc: 0.8626 - val_loss: 0.2528 - val_acc: 0.9007\n",
      "Epoch 2/40\n",
      "35225/35225 [==============================] - 18s 514us/sample - loss: 0.2599 - acc: 0.8955 - val_loss: 0.2372 - val_acc: 0.9007\n",
      "Epoch 3/40\n",
      "35225/35225 [==============================] - 17s 492us/sample - loss: 0.2400 - acc: 0.9033 - val_loss: 0.2174 - val_acc: 0.9126\n",
      "Epoch 4/40\n",
      "35225/35225 [==============================] - 18s 504us/sample - loss: 0.2231 - acc: 0.9109 - val_loss: 0.2315 - val_acc: 0.9130\n",
      "Epoch 5/40\n",
      "35225/35225 [==============================] - 18s 504us/sample - loss: 0.2068 - acc: 0.9162 - val_loss: 0.2255 - val_acc: 0.9171\n",
      "Epoch 6/40\n",
      "35225/35225 [==============================] - 17s 487us/sample - loss: 0.1904 - acc: 0.9241 - val_loss: 0.2244 - val_acc: 0.9139\n",
      "Epoch 7/40\n",
      "35225/35225 [==============================] - 17s 477us/sample - loss: 0.1741 - acc: 0.9302 - val_loss: 0.2351 - val_acc: 0.9139\n",
      "Epoch 8/40\n",
      "35225/35225 [==============================] - 17s 485us/sample - loss: 0.1638 - acc: 0.9352 - val_loss: 0.2448 - val_acc: 0.9157\n",
      "Epoch 9/40\n",
      "35225/35225 [==============================] - 17s 476us/sample - loss: 0.1491 - acc: 0.9420 - val_loss: 0.2399 - val_acc: 0.9096\n",
      "Epoch 10/40\n",
      "35225/35225 [==============================] - 17s 476us/sample - loss: 0.1405 - acc: 0.9434 - val_loss: 0.2818 - val_acc: 0.9139\n",
      "Epoch 11/40\n",
      "35225/35225 [==============================] - 17s 487us/sample - loss: 0.1287 - acc: 0.9505 - val_loss: 0.2710 - val_acc: 0.9117\n",
      "Epoch 12/40\n",
      "35225/35225 [==============================] - 18s 505us/sample - loss: 0.1188 - acc: 0.9528 - val_loss: 0.2775 - val_acc: 0.9141\n",
      "Epoch 13/40\n",
      "35225/35225 [==============================] - 18s 508us/sample - loss: 0.1092 - acc: 0.9566 - val_loss: 0.3059 - val_acc: 0.9112\n",
      "Epoch 00013: early stopping\n",
      "Dev Accuracy:  0.9112 for num_filters=128, kernel_sizes=[2, 3, 2], dense_layer_dims=[128], dropout_rate=0.3\n",
      "Train on 35225 samples, validate on 4403 samples\n",
      "Epoch 1/40\n",
      "35225/35225 [==============================] - 18s 508us/sample - loss: 0.3016 - acc: 0.8760 - val_loss: 0.2573 - val_acc: 0.8973\n",
      "Epoch 2/40\n",
      "35225/35225 [==============================] - 17s 482us/sample - loss: 0.2388 - acc: 0.9040 - val_loss: 0.2170 - val_acc: 0.9139\n",
      "Epoch 3/40\n",
      "35225/35225 [==============================] - 17s 469us/sample - loss: 0.2120 - acc: 0.9167 - val_loss: 0.2121 - val_acc: 0.9160\n",
      "Epoch 4/40\n",
      "35225/35225 [==============================] - 17s 475us/sample - loss: 0.1796 - acc: 0.9316 - val_loss: 0.2637 - val_acc: 0.9032\n",
      "Epoch 5/40\n",
      "35225/35225 [==============================] - 18s 499us/sample - loss: 0.1486 - acc: 0.9439 - val_loss: 0.2470 - val_acc: 0.9071\n",
      "Epoch 6/40\n",
      "35225/35225 [==============================] - 17s 473us/sample - loss: 0.1182 - acc: 0.9550 - val_loss: 0.2941 - val_acc: 0.9012\n",
      "Epoch 7/40\n",
      "35225/35225 [==============================] - 17s 469us/sample - loss: 0.1000 - acc: 0.9627 - val_loss: 0.3181 - val_acc: 0.9064\n",
      "Epoch 8/40\n",
      "35225/35225 [==============================] - 17s 471us/sample - loss: 0.0834 - acc: 0.9685 - val_loss: 0.3168 - val_acc: 0.9051\n",
      "Epoch 9/40\n",
      "35225/35225 [==============================] - 17s 476us/sample - loss: 0.0722 - acc: 0.9737 - val_loss: 0.3947 - val_acc: 0.9087\n",
      "Epoch 10/40\n",
      "35225/35225 [==============================] - 16s 465us/sample - loss: 0.0633 - acc: 0.9769 - val_loss: 0.4882 - val_acc: 0.8998\n",
      "Epoch 11/40\n",
      "35225/35225 [==============================] - 17s 469us/sample - loss: 0.0573 - acc: 0.9792 - val_loss: 0.4409 - val_acc: 0.9019\n",
      "Epoch 12/40\n",
      "35225/35225 [==============================] - 17s 469us/sample - loss: 0.0513 - acc: 0.9821 - val_loss: 0.3923 - val_acc: 0.9007\n",
      "Epoch 13/40\n",
      "35225/35225 [==============================] - 16s 466us/sample - loss: 0.0455 - acc: 0.9829 - val_loss: 0.5092 - val_acc: 0.9060\n",
      "Epoch 00013: early stopping\n",
      "Dev Accuracy:  0.9060 for num_filters=128, kernel_sizes=[3, 3, 5], dense_layer_dims=[40], dropout_rate=0.1\n",
      "Train on 35225 samples, validate on 4403 samples\n",
      "Epoch 1/40\n",
      "35225/35225 [==============================] - 18s 503us/sample - loss: 0.3250 - acc: 0.8612 - val_loss: 0.2604 - val_acc: 0.8951\n",
      "Epoch 2/40\n",
      "35225/35225 [==============================] - 18s 498us/sample - loss: 0.2637 - acc: 0.8944 - val_loss: 0.2350 - val_acc: 0.9039\n",
      "Epoch 3/40\n",
      "35225/35225 [==============================] - 17s 494us/sample - loss: 0.2434 - acc: 0.9038 - val_loss: 0.2286 - val_acc: 0.9107\n",
      "Epoch 4/40\n",
      "35225/35225 [==============================] - 17s 485us/sample - loss: 0.2306 - acc: 0.9073 - val_loss: 0.2296 - val_acc: 0.9076\n",
      "Epoch 5/40\n",
      "35225/35225 [==============================] - 18s 500us/sample - loss: 0.2140 - acc: 0.9161 - val_loss: 0.2233 - val_acc: 0.9076\n",
      "Epoch 6/40\n",
      "35225/35225 [==============================] - 18s 504us/sample - loss: 0.1995 - acc: 0.9201 - val_loss: 0.2497 - val_acc: 0.9121\n",
      "Epoch 7/40\n",
      "35225/35225 [==============================] - 17s 475us/sample - loss: 0.1842 - acc: 0.9277 - val_loss: 0.2320 - val_acc: 0.9105\n",
      "Epoch 8/40\n",
      "35225/35225 [==============================] - 18s 500us/sample - loss: 0.1722 - acc: 0.9327 - val_loss: 0.2343 - val_acc: 0.9067\n",
      "Epoch 9/40\n",
      "35225/35225 [==============================] - 18s 505us/sample - loss: 0.1589 - acc: 0.9394 - val_loss: 0.2438 - val_acc: 0.9092\n",
      "Epoch 10/40\n",
      "35225/35225 [==============================] - 18s 514us/sample - loss: 0.1480 - acc: 0.9434 - val_loss: 0.2503 - val_acc: 0.9078\n",
      "Epoch 11/40\n",
      "35225/35225 [==============================] - 18s 502us/sample - loss: 0.1351 - acc: 0.9487 - val_loss: 0.2597 - val_acc: 0.9073\n",
      "Epoch 12/40\n",
      "35225/35225 [==============================] - 18s 500us/sample - loss: 0.1271 - acc: 0.9525 - val_loss: 0.2630 - val_acc: 0.9069\n",
      "Epoch 13/40\n",
      "35225/35225 [==============================] - 17s 488us/sample - loss: 0.1218 - acc: 0.9543 - val_loss: 0.2858 - val_acc: 0.9107\n",
      "Epoch 14/40\n",
      "35225/35225 [==============================] - 17s 494us/sample - loss: 0.1154 - acc: 0.9561 - val_loss: 0.3082 - val_acc: 0.9026\n",
      "Epoch 15/40\n",
      "35225/35225 [==============================] - 17s 494us/sample - loss: 0.1087 - acc: 0.9585 - val_loss: 0.3115 - val_acc: 0.9032\n",
      "Epoch 00015: early stopping\n",
      "Dev Accuracy:  0.9032 for num_filters=128, kernel_sizes=[2, 5, 3], dense_layer_dims=[30], dropout_rate=0.4\n"
     ]
    },
    {
     "name": "stderr",
     "output_type": "stream",
     "text": [
      "W0802 14:08:35.868582 140051476551488 nn_ops.py:4224] Large dropout rate: 0.7 (>0.5). In TensorFlow 2.x, dropout() uses dropout rate instead of keep_prob. Please ensure that this is intended.\n"
     ]
    },
    {
     "name": "stdout",
     "output_type": "stream",
     "text": [
      "Train on 35225 samples, validate on 4403 samples\n",
      "Epoch 1/40\n",
      "35225/35225 [==============================] - 19s 532us/sample - loss: 0.3799 - acc: 0.8373 - val_loss: 0.2664 - val_acc: 0.8944\n",
      "Epoch 2/40\n",
      "35225/35225 [==============================] - 18s 503us/sample - loss: 0.3008 - acc: 0.8788 - val_loss: 0.2460 - val_acc: 0.8967\n",
      "Epoch 3/40\n",
      "35225/35225 [==============================] - 18s 506us/sample - loss: 0.2833 - acc: 0.8851 - val_loss: 0.2481 - val_acc: 0.9005\n",
      "Epoch 4/40\n",
      "35225/35225 [==============================] - 18s 504us/sample - loss: 0.2709 - acc: 0.8898 - val_loss: 0.2382 - val_acc: 0.9019\n",
      "Epoch 5/40\n",
      "35225/35225 [==============================] - 17s 496us/sample - loss: 0.2607 - acc: 0.8956 - val_loss: 0.2334 - val_acc: 0.9078\n",
      "Epoch 6/40\n",
      "35225/35225 [==============================] - 18s 502us/sample - loss: 0.2537 - acc: 0.8981 - val_loss: 0.2263 - val_acc: 0.9089\n",
      "Epoch 7/40\n",
      "35225/35225 [==============================] - 18s 508us/sample - loss: 0.2474 - acc: 0.9028 - val_loss: 0.2312 - val_acc: 0.9096\n",
      "Epoch 8/40\n",
      "35225/35225 [==============================] - 18s 503us/sample - loss: 0.2417 - acc: 0.9033 - val_loss: 0.2236 - val_acc: 0.9112\n",
      "Epoch 9/40\n",
      "35225/35225 [==============================] - 18s 504us/sample - loss: 0.2380 - acc: 0.9065 - val_loss: 0.2190 - val_acc: 0.9132\n",
      "Epoch 10/40\n",
      "35225/35225 [==============================] - 18s 500us/sample - loss: 0.2301 - acc: 0.9089 - val_loss: 0.2179 - val_acc: 0.9114\n",
      "Epoch 11/40\n",
      "35225/35225 [==============================] - 17s 495us/sample - loss: 0.2266 - acc: 0.9101 - val_loss: 0.2151 - val_acc: 0.9130\n",
      "Epoch 12/40\n",
      "35225/35225 [==============================] - 18s 516us/sample - loss: 0.2209 - acc: 0.9121 - val_loss: 0.2197 - val_acc: 0.9148\n",
      "Epoch 13/40\n",
      "35225/35225 [==============================] - 18s 512us/sample - loss: 0.2184 - acc: 0.9139 - val_loss: 0.2160 - val_acc: 0.9119\n",
      "Epoch 14/40\n",
      "35225/35225 [==============================] - 18s 498us/sample - loss: 0.2158 - acc: 0.9149 - val_loss: 0.2173 - val_acc: 0.9157\n",
      "Epoch 15/40\n",
      "35225/35225 [==============================] - 18s 500us/sample - loss: 0.2091 - acc: 0.9173 - val_loss: 0.2155 - val_acc: 0.9137\n",
      "Epoch 16/40\n",
      "35225/35225 [==============================] - 18s 503us/sample - loss: 0.2046 - acc: 0.9180 - val_loss: 0.2151 - val_acc: 0.9157\n",
      "Epoch 17/40\n",
      "35225/35225 [==============================] - 17s 494us/sample - loss: 0.2033 - acc: 0.9208 - val_loss: 0.2153 - val_acc: 0.9153\n",
      "Epoch 18/40\n",
      "35225/35225 [==============================] - 18s 497us/sample - loss: 0.1999 - acc: 0.9212 - val_loss: 0.2147 - val_acc: 0.9166\n",
      "Epoch 19/40\n",
      "35225/35225 [==============================] - 18s 503us/sample - loss: 0.1939 - acc: 0.9248 - val_loss: 0.2239 - val_acc: 0.9176\n",
      "Epoch 20/40\n",
      "35225/35225 [==============================] - 17s 495us/sample - loss: 0.1911 - acc: 0.9265 - val_loss: 0.2287 - val_acc: 0.9164\n",
      "Epoch 21/40\n",
      "35225/35225 [==============================] - 18s 500us/sample - loss: 0.1870 - acc: 0.9260 - val_loss: 0.2165 - val_acc: 0.9185\n",
      "Epoch 22/40\n",
      "35225/35225 [==============================] - 18s 500us/sample - loss: 0.1828 - acc: 0.9285 - val_loss: 0.2200 - val_acc: 0.9196\n",
      "Epoch 23/40\n",
      "35225/35225 [==============================] - 17s 495us/sample - loss: 0.1829 - acc: 0.9299 - val_loss: 0.2167 - val_acc: 0.9162\n",
      "Epoch 24/40\n",
      "35225/35225 [==============================] - 18s 500us/sample - loss: 0.1791 - acc: 0.9300 - val_loss: 0.2201 - val_acc: 0.9164\n",
      "Epoch 25/40\n",
      "35225/35225 [==============================] - 18s 501us/sample - loss: 0.1743 - acc: 0.9331 - val_loss: 0.2222 - val_acc: 0.9157\n",
      "Epoch 26/40\n",
      "35225/35225 [==============================] - 18s 506us/sample - loss: 0.1693 - acc: 0.9345 - val_loss: 0.2240 - val_acc: 0.9135\n",
      "Epoch 27/40\n",
      "35225/35225 [==============================] - 17s 495us/sample - loss: 0.1697 - acc: 0.9322 - val_loss: 0.2232 - val_acc: 0.9151\n",
      "Epoch 28/40\n",
      "35225/35225 [==============================] - 18s 498us/sample - loss: 0.1676 - acc: 0.9350 - val_loss: 0.2220 - val_acc: 0.9178\n",
      "Epoch 00028: early stopping\n",
      "Dev Accuracy:  0.9178 for num_filters=128, kernel_sizes=[2, 4, 5], dense_layer_dims=[30, 50], dropout_rate=0.7\n"
     ]
    },
    {
     "name": "stderr",
     "output_type": "stream",
     "text": [
      "W0802 14:16:55.514868 140051476551488 nn_ops.py:4224] Large dropout rate: 0.7 (>0.5). In TensorFlow 2.x, dropout() uses dropout rate instead of keep_prob. Please ensure that this is intended.\n"
     ]
    },
    {
     "name": "stdout",
     "output_type": "stream",
     "text": [
      "Train on 35225 samples, validate on 4403 samples\n",
      "Epoch 1/40\n",
      "35225/35225 [==============================] - 20s 555us/sample - loss: 0.3857 - acc: 0.8285 - val_loss: 0.2589 - val_acc: 0.8914\n",
      "Epoch 2/40\n",
      "35225/35225 [==============================] - 18s 513us/sample - loss: 0.3084 - acc: 0.8727 - val_loss: 0.2577 - val_acc: 0.8971\n",
      "Epoch 3/40\n",
      "35225/35225 [==============================] - 18s 524us/sample - loss: 0.2897 - acc: 0.8830 - val_loss: 0.2738 - val_acc: 0.9001\n",
      "Epoch 4/40\n",
      "35225/35225 [==============================] - 19s 533us/sample - loss: 0.2816 - acc: 0.8869 - val_loss: 0.2442 - val_acc: 0.8980\n",
      "Epoch 5/40\n",
      "35225/35225 [==============================] - 18s 518us/sample - loss: 0.2719 - acc: 0.8908 - val_loss: 0.2463 - val_acc: 0.8998\n",
      "Epoch 6/40\n",
      "35225/35225 [==============================] - 18s 516us/sample - loss: 0.2660 - acc: 0.8915 - val_loss: 0.2560 - val_acc: 0.9048\n",
      "Epoch 7/40\n",
      "35225/35225 [==============================] - 18s 524us/sample - loss: 0.2626 - acc: 0.8943 - val_loss: 0.2262 - val_acc: 0.9076\n",
      "Epoch 8/40\n",
      "35225/35225 [==============================] - 18s 513us/sample - loss: 0.2528 - acc: 0.8987 - val_loss: 0.2260 - val_acc: 0.9098\n",
      "Epoch 9/40\n",
      "35225/35225 [==============================] - 18s 511us/sample - loss: 0.2494 - acc: 0.8997 - val_loss: 0.2227 - val_acc: 0.9073\n",
      "Epoch 10/40\n",
      "35225/35225 [==============================] - 18s 516us/sample - loss: 0.2469 - acc: 0.9011 - val_loss: 0.2229 - val_acc: 0.9098\n",
      "Epoch 11/40\n",
      "35225/35225 [==============================] - 18s 501us/sample - loss: 0.2419 - acc: 0.9039 - val_loss: 0.2273 - val_acc: 0.9146\n",
      "Epoch 12/40\n",
      "35225/35225 [==============================] - 18s 512us/sample - loss: 0.2383 - acc: 0.9038 - val_loss: 0.2325 - val_acc: 0.9117\n",
      "Epoch 13/40\n",
      "35225/35225 [==============================] - 18s 521us/sample - loss: 0.2364 - acc: 0.9054 - val_loss: 0.2283 - val_acc: 0.9139\n",
      "Epoch 14/40\n",
      "35225/35225 [==============================] - 18s 510us/sample - loss: 0.2307 - acc: 0.9069 - val_loss: 0.2202 - val_acc: 0.9148\n",
      "Epoch 15/40\n",
      "35225/35225 [==============================] - 18s 504us/sample - loss: 0.2285 - acc: 0.9070 - val_loss: 0.2324 - val_acc: 0.9101\n",
      "Epoch 16/40\n",
      "35225/35225 [==============================] - 18s 510us/sample - loss: 0.2292 - acc: 0.9089 - val_loss: 0.2202 - val_acc: 0.9123\n",
      "Epoch 17/40\n",
      "35225/35225 [==============================] - 18s 502us/sample - loss: 0.2256 - acc: 0.9110 - val_loss: 0.2229 - val_acc: 0.9157\n",
      "Epoch 18/40\n",
      "35225/35225 [==============================] - 18s 513us/sample - loss: 0.2184 - acc: 0.9137 - val_loss: 0.2202 - val_acc: 0.9130\n",
      "Epoch 19/40\n",
      "35225/35225 [==============================] - 18s 524us/sample - loss: 0.2168 - acc: 0.9129 - val_loss: 0.2224 - val_acc: 0.9130\n",
      "Epoch 20/40\n",
      "35225/35225 [==============================] - 18s 503us/sample - loss: 0.2139 - acc: 0.9143 - val_loss: 0.2283 - val_acc: 0.9105\n",
      "Epoch 21/40\n",
      "35225/35225 [==============================] - 18s 513us/sample - loss: 0.2105 - acc: 0.9160 - val_loss: 0.2311 - val_acc: 0.9123\n",
      "Epoch 22/40\n",
      "35225/35225 [==============================] - 18s 515us/sample - loss: 0.2085 - acc: 0.9168 - val_loss: 0.2338 - val_acc: 0.9135\n",
      "Epoch 23/40\n",
      "35225/35225 [==============================] - 20s 562us/sample - loss: 0.2082 - acc: 0.9144 - val_loss: 0.2317 - val_acc: 0.9130\n",
      "Epoch 24/40\n",
      "35225/35225 [==============================] - 18s 513us/sample - loss: 0.2058 - acc: 0.9166 - val_loss: 0.2224 - val_acc: 0.9105\n",
      "Epoch 00024: early stopping\n",
      "Dev Accuracy:  0.9105 for num_filters=64, kernel_sizes=[5, 2, 5], dense_layer_dims=[128, 10, 30], dropout_rate=0.7\n",
      "Train on 35225 samples, validate on 4403 samples\n",
      "Epoch 1/40\n",
      "35225/35225 [==============================] - 20s 558us/sample - loss: 0.3004 - acc: 0.8755 - val_loss: 0.2445 - val_acc: 0.8989\n",
      "Epoch 2/40\n",
      "35225/35225 [==============================] - 18s 512us/sample - loss: 0.2396 - acc: 0.9046 - val_loss: 0.2340 - val_acc: 0.9160\n",
      "Epoch 3/40\n",
      "35225/35225 [==============================] - 18s 524us/sample - loss: 0.2101 - acc: 0.9175 - val_loss: 0.2112 - val_acc: 0.9151\n",
      "Epoch 4/40\n",
      "35225/35225 [==============================] - 19s 526us/sample - loss: 0.1828 - acc: 0.9277 - val_loss: 0.2333 - val_acc: 0.9105\n",
      "Epoch 5/40\n",
      "35225/35225 [==============================] - 18s 521us/sample - loss: 0.1524 - acc: 0.9413 - val_loss: 0.2380 - val_acc: 0.9105\n",
      "Epoch 6/40\n",
      "35225/35225 [==============================] - 18s 519us/sample - loss: 0.1292 - acc: 0.9510 - val_loss: 0.2437 - val_acc: 0.9103\n",
      "Epoch 7/40\n",
      "35225/35225 [==============================] - 19s 537us/sample - loss: 0.1064 - acc: 0.9596 - val_loss: 0.3165 - val_acc: 0.9080\n",
      "Epoch 8/40\n",
      "35225/35225 [==============================] - 18s 514us/sample - loss: 0.0935 - acc: 0.9642 - val_loss: 0.2914 - val_acc: 0.9144\n",
      "Epoch 9/40\n",
      "35225/35225 [==============================] - 18s 519us/sample - loss: 0.0770 - acc: 0.9708 - val_loss: 0.3026 - val_acc: 0.9123\n",
      "Epoch 10/40\n",
      "35225/35225 [==============================] - 18s 525us/sample - loss: 0.0681 - acc: 0.9743 - val_loss: 0.3807 - val_acc: 0.9180\n",
      "Epoch 11/40\n",
      "35225/35225 [==============================] - 19s 546us/sample - loss: 0.0623 - acc: 0.9774 - val_loss: 0.4601 - val_acc: 0.9112\n",
      "Epoch 12/40\n",
      "35225/35225 [==============================] - 19s 544us/sample - loss: 0.0551 - acc: 0.9798 - val_loss: 0.3391 - val_acc: 0.9089\n",
      "Epoch 13/40\n",
      "35225/35225 [==============================] - 19s 545us/sample - loss: 0.0499 - acc: 0.9816 - val_loss: 0.4279 - val_acc: 0.9146\n",
      "Epoch 00013: early stopping\n",
      "Dev Accuracy:  0.9146 for num_filters=128, kernel_sizes=[3, 3, 5], dense_layer_dims=[100, 128, 64], dropout_rate=0.1\n"
     ]
    },
    {
     "name": "stderr",
     "output_type": "stream",
     "text": [
      "W0802 14:28:24.967496 140051476551488 nn_ops.py:4224] Large dropout rate: 0.7 (>0.5). In TensorFlow 2.x, dropout() uses dropout rate instead of keep_prob. Please ensure that this is intended.\n"
     ]
    },
    {
     "name": "stdout",
     "output_type": "stream",
     "text": [
      "Train on 35225 samples, validate on 4403 samples\n",
      "Epoch 1/40\n",
      "35225/35225 [==============================] - 20s 575us/sample - loss: 0.4065 - acc: 0.8163 - val_loss: 0.2938 - val_acc: 0.8839\n",
      "Epoch 2/40\n",
      "35225/35225 [==============================] - 19s 547us/sample - loss: 0.3170 - acc: 0.8700 - val_loss: 0.2744 - val_acc: 0.8908\n",
      "Epoch 3/40\n",
      "35225/35225 [==============================] - 20s 580us/sample - loss: 0.2889 - acc: 0.8820 - val_loss: 0.2708 - val_acc: 0.9019\n",
      "Epoch 5/40\n",
      "35225/35225 [==============================] - 21s 590us/sample - loss: 0.2794 - acc: 0.8870 - val_loss: 0.2390 - val_acc: 0.9019\n",
      "Epoch 6/40\n",
      "35225/35225 [==============================] - 20s 570us/sample - loss: 0.2732 - acc: 0.8892 - val_loss: 0.2529 - val_acc: 0.9012\n",
      "Epoch 7/40\n",
      "35225/35225 [==============================] - 20s 560us/sample - loss: 0.2682 - acc: 0.8920 - val_loss: 0.2713 - val_acc: 0.9042\n",
      "Epoch 8/40\n",
      "35225/35225 [==============================] - 20s 562us/sample - loss: 0.2642 - acc: 0.8929 - val_loss: 0.2561 - val_acc: 0.9098\n",
      "Epoch 9/40\n",
      "35225/35225 [==============================] - 20s 567us/sample - loss: 0.2607 - acc: 0.8942 - val_loss: 0.2387 - val_acc: 0.9062\n",
      "Epoch 10/40\n",
      "35225/35225 [==============================] - 19s 546us/sample - loss: 0.2572 - acc: 0.8946 - val_loss: 0.2452 - val_acc: 0.9089\n",
      "Epoch 11/40\n",
      "35225/35225 [==============================] - 19s 551us/sample - loss: 0.2554 - acc: 0.8971 - val_loss: 0.2545 - val_acc: 0.9048\n",
      "Epoch 12/40\n",
      "35225/35225 [==============================] - 20s 568us/sample - loss: 0.2495 - acc: 0.8978 - val_loss: 0.2422 - val_acc: 0.9112\n",
      "Epoch 13/40\n",
      " 2720/35225 [=>............................] - ETA: 17s - loss: 0.2206 - acc: 0.9114"
     ]
    },
    {
     "name": "stderr",
     "output_type": "stream",
     "text": [
      "IOPub message rate exceeded.\n",
      "The notebook server will temporarily stop sending output\n",
      "to the client in order to avoid crashing it.\n",
      "To change this limit, set the config variable\n",
      "`--NotebookApp.iopub_msg_rate_limit`.\n",
      "\n",
      "Current values:\n",
      "NotebookApp.iopub_msg_rate_limit=1000.0 (msgs/sec)\n",
      "NotebookApp.rate_limit_window=3.0 (secs)\n",
      "\n"
     ]
    },
    {
     "name": "stdout",
     "output_type": "stream",
     "text": [
      "35225/35225 [==============================] - 19s 550us/sample - loss: 0.2408 - acc: 0.9029 - val_loss: 0.2703 - val_acc: 0.9080\n",
      "Epoch 16/40\n",
      "35225/35225 [==============================] - 19s 541us/sample - loss: 0.2371 - acc: 0.9034 - val_loss: 0.2538 - val_acc: 0.9114\n",
      "Epoch 17/40\n",
      "35225/35225 [==============================] - 19s 548us/sample - loss: 0.2342 - acc: 0.9056 - val_loss: 0.2593 - val_acc: 0.9062\n",
      "Epoch 18/40\n",
      "35225/35225 [==============================] - 19s 538us/sample - loss: 0.2353 - acc: 0.9026 - val_loss: 0.2788 - val_acc: 0.9112\n",
      "Epoch 19/40\n",
      "35225/35225 [==============================] - 24s 669us/sample - loss: 0.2775 - acc: 0.8888 - val_loss: 0.2316 - val_acc: 0.9073\n",
      "Epoch 4/40\n",
      "35225/35225 [==============================] - 22s 622us/sample - loss: 0.2640 - acc: 0.8933 - val_loss: 0.2493 - val_acc: 0.9053\n",
      "Epoch 5/40\n",
      "35225/35225 [==============================] - 20s 567us/sample - loss: 0.2593 - acc: 0.8942 - val_loss: 0.2371 - val_acc: 0.9105\n",
      "Epoch 6/40\n",
      "35225/35225 [==============================] - 19s 540us/sample - loss: 0.2495 - acc: 0.9000 - val_loss: 0.2266 - val_acc: 0.9117\n",
      "Epoch 7/40\n",
      "35225/35225 [==============================] - 19s 552us/sample - loss: 0.2458 - acc: 0.9017 - val_loss: 0.2267 - val_acc: 0.9105\n",
      "Epoch 8/40\n",
      "35225/35225 [==============================] - 20s 558us/sample - loss: 0.2382 - acc: 0.9020 - val_loss: 0.2268 - val_acc: 0.9096\n",
      "Epoch 9/40\n",
      "35225/35225 [==============================] - 21s 588us/sample - loss: 0.2338 - acc: 0.9062 - val_loss: 0.2171 - val_acc: 0.9137\n",
      "Epoch 10/40\n",
      "35225/35225 [==============================] - 21s 593us/sample - loss: 0.2272 - acc: 0.9070 - val_loss: 0.2189 - val_acc: 0.9153\n",
      "Epoch 11/40\n",
      "35225/35225 [==============================] - 21s 606us/sample - loss: 0.2210 - acc: 0.9111 - val_loss: 0.2327 - val_acc: 0.9121\n",
      "Epoch 12/40\n",
      "35225/35225 [==============================] - 20s 574us/sample - loss: 0.2159 - acc: 0.9117 - val_loss: 0.2156 - val_acc: 0.9180\n",
      "Epoch 13/40\n",
      "35225/35225 [==============================] - 21s 594us/sample - loss: 0.2142 - acc: 0.9138 - val_loss: 0.2255 - val_acc: 0.9121\n",
      "Epoch 14/40\n",
      "35225/35225 [==============================] - 20s 573us/sample - loss: 0.2090 - acc: 0.9155 - val_loss: 0.2272 - val_acc: 0.9123\n",
      "Epoch 15/40\n",
      "35225/35225 [==============================] - 21s 595us/sample - loss: 0.2082 - acc: 0.9172 - val_loss: 0.2212 - val_acc: 0.9121\n",
      "Epoch 16/40\n",
      "35225/35225 [==============================] - 21s 592us/sample - loss: 0.2012 - acc: 0.9190 - val_loss: 0.2338 - val_acc: 0.9092\n",
      "Epoch 17/40\n",
      "35225/35225 [==============================] - 21s 602us/sample - loss: 0.1977 - acc: 0.9205 - val_loss: 0.2227 - val_acc: 0.9182\n",
      "Epoch 18/40\n",
      "35225/35225 [==============================] - 23s 642us/sample - loss: 0.1910 - acc: 0.9239 - val_loss: 0.2154 - val_acc: 0.9146\n",
      "Epoch 19/40\n",
      "35225/35225 [==============================] - 21s 599us/sample - loss: 0.1905 - acc: 0.9239 - val_loss: 0.2164 - val_acc: 0.9155\n",
      "Epoch 20/40\n",
      "35225/35225 [==============================] - 21s 598us/sample - loss: 0.1920 - acc: 0.9234 - val_loss: 0.2177 - val_acc: 0.9123\n",
      "Epoch 21/40\n",
      "35225/35225 [==============================] - 22s 618us/sample - loss: 0.1847 - acc: 0.9280 - val_loss: 0.2208 - val_acc: 0.9157\n",
      "Epoch 22/40\n",
      "35225/35225 [==============================] - 21s 586us/sample - loss: 0.1830 - acc: 0.9276 - val_loss: 0.2179 - val_acc: 0.9191\n",
      "Epoch 23/40\n",
      "35225/35225 [==============================] - 21s 609us/sample - loss: 0.1792 - acc: 0.9286 - val_loss: 0.2196 - val_acc: 0.9160\n",
      "Epoch 24/40\n",
      "35225/35225 [==============================] - 22s 630us/sample - loss: 0.1758 - acc: 0.9312 - val_loss: 0.2310 - val_acc: 0.9146\n",
      "Epoch 25/40\n",
      "35225/35225 [==============================] - 21s 595us/sample - loss: 0.1719 - acc: 0.9330 - val_loss: 0.2252 - val_acc: 0.9114\n",
      "Epoch 26/40\n",
      "35225/35225 [==============================] - 21s 610us/sample - loss: 0.1711 - acc: 0.9327 - val_loss: 0.2199 - val_acc: 0.9141\n",
      "Epoch 27/40\n",
      "35225/35225 [==============================] - 21s 607us/sample - loss: 0.1670 - acc: 0.9349 - val_loss: 0.2259 - val_acc: 0.9162\n",
      "Epoch 28/40\n",
      "35225/35225 [==============================] - 21s 599us/sample - loss: 0.1643 - acc: 0.9352 - val_loss: 0.2361 - val_acc: 0.9114\n",
      "Epoch 00028: early stopping\n",
      "Dev Accuracy:  0.9114 for num_filters=64, kernel_sizes=[3, 2, 5], dense_layer_dims=[128, 20, 30], dropout_rate=0.6\n",
      "Train on 35225 samples, validate on 4403 samples\n",
      "Epoch 1/40\n",
      "35225/35225 [==============================] - 22s 613us/sample - loss: 0.3390 - acc: 0.8574 - val_loss: 0.2580 - val_acc: 0.8980\n",
      "Epoch 2/40\n",
      "35225/35225 [==============================] - 21s 605us/sample - loss: 0.2724 - acc: 0.8902 - val_loss: 0.2317 - val_acc: 0.9039\n",
      "Epoch 3/40\n",
      "35225/35225 [==============================] - 21s 604us/sample - loss: 0.2539 - acc: 0.8980 - val_loss: 0.2329 - val_acc: 0.9078\n",
      "Epoch 4/40\n",
      "35225/35225 [==============================] - 21s 586us/sample - loss: 0.2412 - acc: 0.9035 - val_loss: 0.2250 - val_acc: 0.9085\n",
      "Epoch 5/40\n",
      "35225/35225 [==============================] - 21s 597us/sample - loss: 0.2300 - acc: 0.9096 - val_loss: 0.2229 - val_acc: 0.9123\n",
      "Epoch 6/40\n",
      "35225/35225 [==============================] - 21s 600us/sample - loss: 0.2182 - acc: 0.9130 - val_loss: 0.2276 - val_acc: 0.9126\n",
      "Epoch 7/40\n",
      "35225/35225 [==============================] - 18s 516us/sample - loss: 0.2067 - acc: 0.9154 - val_loss: 0.2266 - val_acc: 0.9121\n",
      "Epoch 8/40\n",
      "35225/35225 [==============================] - 19s 529us/sample - loss: 0.1966 - acc: 0.9228 - val_loss: 0.2347 - val_acc: 0.9032\n",
      "Epoch 9/40\n",
      "35225/35225 [==============================] - 19s 525us/sample - loss: 0.1851 - acc: 0.9267 - val_loss: 0.2194 - val_acc: 0.9151\n",
      "Epoch 10/40\n",
      "35225/35225 [==============================] - 19s 532us/sample - loss: 0.1722 - acc: 0.9314 - val_loss: 0.2471 - val_acc: 0.9135\n",
      "Epoch 11/40\n",
      "35225/35225 [==============================] - 20s 558us/sample - loss: 0.1667 - acc: 0.9342 - val_loss: 0.2250 - val_acc: 0.9176\n",
      "Epoch 12/40\n",
      "35225/35225 [==============================] - 19s 534us/sample - loss: 0.1580 - acc: 0.9382 - val_loss: 0.2470 - val_acc: 0.9171\n",
      "Epoch 13/40\n",
      "35225/35225 [==============================] - 18s 512us/sample - loss: 0.1516 - acc: 0.9396 - val_loss: 0.2340 - val_acc: 0.9157\n",
      "Epoch 14/40\n",
      "35225/35225 [==============================] - 18s 524us/sample - loss: 0.1469 - acc: 0.9425 - val_loss: 0.2387 - val_acc: 0.9155\n",
      "Epoch 15/40\n",
      "35225/35225 [==============================] - 19s 534us/sample - loss: 0.1395 - acc: 0.9424 - val_loss: 0.2640 - val_acc: 0.9126\n",
      "Epoch 16/40\n",
      "35225/35225 [==============================] - 18s 522us/sample - loss: 0.1292 - acc: 0.9494 - val_loss: 0.2538 - val_acc: 0.9144\n",
      "Epoch 17/40\n",
      "35225/35225 [==============================] - 19s 528us/sample - loss: 0.1274 - acc: 0.9498 - val_loss: 0.2614 - val_acc: 0.9114\n",
      "Epoch 18/40\n",
      "35225/35225 [==============================] - 19s 539us/sample - loss: 0.1185 - acc: 0.9534 - val_loss: 0.2634 - val_acc: 0.9135\n",
      "Epoch 19/40\n",
      "35225/35225 [==============================] - 18s 520us/sample - loss: 0.1168 - acc: 0.9534 - val_loss: 0.3016 - val_acc: 0.9151\n",
      "Epoch 00019: early stopping\n",
      "Dev Accuracy:  0.9151 for num_filters=128, kernel_sizes=[4, 2, 4], dense_layer_dims=[60], dropout_rate=0.5\n",
      "Train on 35225 samples, validate on 4403 samples\n",
      "Epoch 1/40\n",
      "35225/35225 [==============================] - 23s 651us/sample - loss: 0.3407 - acc: 0.8543 - val_loss: 0.2483 - val_acc: 0.8964\n",
      "Epoch 2/40\n",
      "35225/35225 [==============================] - 21s 585us/sample - loss: 0.2724 - acc: 0.8899 - val_loss: 0.2338 - val_acc: 0.8998\n",
      "Epoch 3/40\n",
      "35225/35225 [==============================] - 20s 580us/sample - loss: 0.2544 - acc: 0.8989 - val_loss: 0.2491 - val_acc: 0.9062\n",
      "Epoch 4/40\n",
      "35225/35225 [==============================] - 20s 574us/sample - loss: 0.2377 - acc: 0.9062 - val_loss: 0.2260 - val_acc: 0.9073\n",
      "Epoch 5/40\n",
      "35225/35225 [==============================] - 20s 576us/sample - loss: 0.2294 - acc: 0.9105 - val_loss: 0.2194 - val_acc: 0.9112\n",
      "Epoch 6/40\n",
      "35225/35225 [==============================] - 21s 590us/sample - loss: 0.2154 - acc: 0.9153 - val_loss: 0.2151 - val_acc: 0.9144\n",
      "Epoch 7/40\n",
      "35225/35225 [==============================] - 21s 606us/sample - loss: 0.2056 - acc: 0.9197 - val_loss: 0.2218 - val_acc: 0.9139\n",
      "Epoch 8/40\n",
      "35225/35225 [==============================] - 21s 597us/sample - loss: 0.1937 - acc: 0.9219 - val_loss: 0.2241 - val_acc: 0.9128\n",
      "Epoch 9/40\n",
      "35225/35225 [==============================] - 21s 603us/sample - loss: 0.1853 - acc: 0.9270 - val_loss: 0.2250 - val_acc: 0.9087\n",
      "Epoch 10/40\n",
      "35225/35225 [==============================] - 21s 600us/sample - loss: 0.1740 - acc: 0.9324 - val_loss: 0.2195 - val_acc: 0.9173\n",
      "Epoch 11/40\n",
      "35225/35225 [==============================] - 20s 569us/sample - loss: 0.1685 - acc: 0.9343 - val_loss: 0.2519 - val_acc: 0.9126\n",
      "Epoch 12/40\n",
      "35225/35225 [==============================] - 21s 586us/sample - loss: 0.1593 - acc: 0.9394 - val_loss: 0.2228 - val_acc: 0.9144\n",
      "Epoch 13/40\n",
      "35225/35225 [==============================] - 21s 599us/sample - loss: 0.1542 - acc: 0.9415 - val_loss: 0.2468 - val_acc: 0.9119\n",
      "Epoch 14/40\n",
      "35225/35225 [==============================] - 20s 572us/sample - loss: 0.1459 - acc: 0.9437 - val_loss: 0.2416 - val_acc: 0.9119\n",
      "Epoch 15/40\n",
      "35225/35225 [==============================] - 24s 691us/sample - loss: 0.1393 - acc: 0.9467 - val_loss: 0.2467 - val_acc: 0.9117\n",
      "Epoch 16/40\n",
      "35225/35225 [==============================] - 21s 599us/sample - loss: 0.1357 - acc: 0.9476 - val_loss: 0.2420 - val_acc: 0.9162\n",
      "Epoch 00016: early stopping\n",
      "Dev Accuracy:  0.9162 for num_filters=128, kernel_sizes=[3, 2, 5], dense_layer_dims=[10, 30, 50], dropout_rate=0.5\n",
      "Train on 35225 samples, validate on 4403 samples\n",
      "Epoch 1/40\n",
      "35225/35225 [==============================] - 25s 704us/sample - loss: 0.4229 - acc: 0.8063 - val_loss: 0.2845 - val_acc: 0.8896\n",
      "Epoch 2/40\n",
      "35225/35225 [==============================] - 22s 616us/sample - loss: 0.3229 - acc: 0.8682 - val_loss: 0.2806 - val_acc: 0.8894\n",
      "Epoch 3/40\n",
      "35225/35225 [==============================] - 22s 622us/sample - loss: 0.3043 - acc: 0.8760 - val_loss: 0.2721 - val_acc: 0.8992\n",
      "Epoch 4/40\n",
      "35225/35225 [==============================] - 22s 638us/sample - loss: 0.2927 - acc: 0.8797 - val_loss: 0.2469 - val_acc: 0.8962\n",
      "Epoch 5/40\n",
      "35225/35225 [==============================] - 22s 631us/sample - loss: 0.2840 - acc: 0.8829 - val_loss: 0.2427 - val_acc: 0.8989\n",
      "Epoch 6/40\n",
      "35225/35225 [==============================] - 22s 626us/sample - loss: 0.2796 - acc: 0.8853 - val_loss: 0.2444 - val_acc: 0.8980\n",
      "Epoch 7/40\n",
      "35225/35225 [==============================] - 24s 678us/sample - loss: 0.2559 - acc: 0.8960 - val_loss: 0.2433 - val_acc: 0.9067\n",
      "Epoch 13/40\n",
      "35225/35225 [==============================] - 23s 654us/sample - loss: 0.2513 - acc: 0.8963 - val_loss: 0.2398 - val_acc: 0.9055\n",
      "Epoch 14/40\n",
      "35225/35225 [==============================] - 23s 666us/sample - loss: 0.2488 - acc: 0.8992 - val_loss: 0.2311 - val_acc: 0.9080\n",
      "Epoch 15/40\n",
      "35225/35225 [==============================] - 22s 636us/sample - loss: 0.2451 - acc: 0.8987 - val_loss: 0.2290 - val_acc: 0.9117\n",
      "Epoch 16/40\n",
      "35225/35225 [==============================] - 24s 676us/sample - loss: 0.2442 - acc: 0.9003 - val_loss: 0.2247 - val_acc: 0.9092\n",
      "Epoch 17/40\n",
      "35225/35225 [==============================] - 21s 595us/sample - loss: 0.2398 - acc: 0.9024 - val_loss: 0.2276 - val_acc: 0.9110\n",
      "Epoch 18/40\n",
      "35225/35225 [==============================] - 20s 579us/sample - loss: 0.2410 - acc: 0.9024 - val_loss: 0.2240 - val_acc: 0.9117\n",
      "Epoch 19/40\n",
      "23010/35225 [==================>...........] - ETA: 7s - loss: 0.2343 - acc: 0.9043"
     ]
    },
    {
     "name": "stderr",
     "output_type": "stream",
     "text": [
      "IOPub message rate exceeded.\n",
      "The notebook server will temporarily stop sending output\n",
      "to the client in order to avoid crashing it.\n",
      "To change this limit, set the config variable\n",
      "`--NotebookApp.iopub_msg_rate_limit`.\n",
      "\n",
      "Current values:\n",
      "NotebookApp.iopub_msg_rate_limit=1000.0 (msgs/sec)\n",
      "NotebookApp.rate_limit_window=3.0 (secs)\n",
      "\n"
     ]
    },
    {
     "name": "stdout",
     "output_type": "stream",
     "text": [
      "35225/35225 [==============================] - 20s 580us/sample - loss: 0.2262 - acc: 0.9072 - val_loss: 0.2218 - val_acc: 0.9112\n",
      "Epoch 24/40\n",
      "35225/35225 [==============================] - 21s 584us/sample - loss: 0.2263 - acc: 0.9084 - val_loss: 0.2199 - val_acc: 0.9132\n",
      "Epoch 25/40\n",
      "35225/35225 [==============================] - 21s 606us/sample - loss: 0.2232 - acc: 0.9100 - val_loss: 0.2223 - val_acc: 0.9128\n",
      "Epoch 26/40\n",
      "35225/35225 [==============================] - 20s 574us/sample - loss: 0.2247 - acc: 0.9090 - val_loss: 0.2264 - val_acc: 0.9132\n",
      "Epoch 27/40\n",
      "35225/35225 [==============================] - 21s 597us/sample - loss: 0.2254 - acc: 0.9109 - val_loss: 0.2218 - val_acc: 0.9137\n",
      "Epoch 28/40\n",
      "35225/35225 [==============================] - 21s 593us/sample - loss: 0.2204 - acc: 0.9117 - val_loss: 0.2330 - val_acc: 0.9132\n",
      "Epoch 29/40\n",
      "35225/35225 [==============================] - 20s 580us/sample - loss: 0.2217 - acc: 0.9106 - val_loss: 0.2210 - val_acc: 0.9162\n",
      "Epoch 00029: early stopping\n",
      "Dev Accuracy:  0.9162 for num_filters=64, kernel_sizes=[2, 3, 2], dense_layer_dims=[60, 64, 30], dropout_rate=0.7\n",
      "Train on 35225 samples, validate on 4403 samples\n",
      "Epoch 1/40\n",
      "35225/35225 [==============================] - 27s 777us/sample - loss: 0.3467 - acc: 0.8530 - val_loss: 0.2451 - val_acc: 0.8983\n",
      "Epoch 2/40\n",
      "35225/35225 [==============================] - 26s 740us/sample - loss: 0.2810 - acc: 0.8870 - val_loss: 0.2438 - val_acc: 0.9035\n",
      "Epoch 3/40\n",
      "35225/35225 [==============================] - 24s 685us/sample - loss: 0.2619 - acc: 0.8948 - val_loss: 0.2215 - val_acc: 0.9094\n",
      "Epoch 4/40\n",
      "35225/35225 [==============================] - 21s 604us/sample - loss: 0.2464 - acc: 0.9015 - val_loss: 0.2257 - val_acc: 0.9037\n",
      "Epoch 5/40\n",
      "35225/35225 [==============================] - 21s 609us/sample - loss: 0.2393 - acc: 0.9050 - val_loss: 0.2134 - val_acc: 0.9130\n",
      "Epoch 6/40\n",
      "35225/35225 [==============================] - 20s 573us/sample - loss: 0.2278 - acc: 0.9075 - val_loss: 0.2083 - val_acc: 0.9203\n",
      "Epoch 7/40\n",
      "35225/35225 [==============================] - 20s 568us/sample - loss: 0.2215 - acc: 0.9126 - val_loss: 0.2148 - val_acc: 0.9135\n",
      "Epoch 8/40\n",
      "35225/35225 [==============================] - 20s 582us/sample - loss: 0.2125 - acc: 0.9141 - val_loss: 0.2174 - val_acc: 0.9107\n",
      "Epoch 9/40\n",
      "35225/35225 [==============================] - 20s 576us/sample - loss: 0.2085 - acc: 0.9162 - val_loss: 0.2042 - val_acc: 0.9160\n",
      "Epoch 10/40\n",
      "35225/35225 [==============================] - 21s 604us/sample - loss: 0.2001 - acc: 0.9196 - val_loss: 0.2092 - val_acc: 0.9210\n",
      "Epoch 11/40\n",
      "35225/35225 [==============================] - 21s 597us/sample - loss: 0.1949 - acc: 0.9215 - val_loss: 0.2088 - val_acc: 0.9171\n",
      "Epoch 12/40\n",
      "35225/35225 [==============================] - 20s 568us/sample - loss: 0.1867 - acc: 0.9244 - val_loss: 0.2139 - val_acc: 0.9176\n",
      "Epoch 13/40\n",
      "35225/35225 [==============================] - 20s 580us/sample - loss: 0.1819 - acc: 0.9302 - val_loss: 0.2246 - val_acc: 0.9198\n",
      "Epoch 14/40\n",
      "35225/35225 [==============================] - 20s 579us/sample - loss: 0.1766 - acc: 0.9306 - val_loss: 0.2201 - val_acc: 0.9201\n",
      "Epoch 15/40\n",
      "26030/35225 [=====================>........] - ETA: 4s - loss: 0.1686 - acc: 0.9321"
     ]
    },
    {
     "name": "stderr",
     "output_type": "stream",
     "text": [
      "IOPub message rate exceeded.\n",
      "The notebook server will temporarily stop sending output\n",
      "to the client in order to avoid crashing it.\n",
      "To change this limit, set the config variable\n",
      "`--NotebookApp.iopub_msg_rate_limit`.\n",
      "\n",
      "Current values:\n",
      "NotebookApp.iopub_msg_rate_limit=1000.0 (msgs/sec)\n",
      "NotebookApp.rate_limit_window=3.0 (secs)\n",
      "\n"
     ]
    },
    {
     "name": "stdout",
     "output_type": "stream",
     "text": [
      "35225/35225 [==============================] - 20s 569us/sample - loss: 0.1551 - acc: 0.9405 - val_loss: 0.2156 - val_acc: 0.9221\n",
      "Epoch 19/40\n",
      "35225/35225 [==============================] - 21s 594us/sample - loss: 0.1511 - acc: 0.9413 - val_loss: 0.2074 - val_acc: 0.9191\n",
      "Epoch 00019: early stopping\n",
      "Dev Accuracy:  0.9191 for num_filters=128, kernel_sizes=[5, 2, 3], dense_layer_dims=[40, 30, 10], dropout_rate=0.6\n",
      "Train on 35225 samples, validate on 4403 samples\n",
      "Epoch 1/40\n",
      "35225/35225 [==============================] - 21s 610us/sample - loss: 0.3013 - acc: 0.8763 - val_loss: 0.2333 - val_acc: 0.9010\n",
      "Epoch 2/40\n",
      "35225/35225 [==============================] - 20s 560us/sample - loss: 0.2431 - acc: 0.9026 - val_loss: 0.2284 - val_acc: 0.9107\n",
      "Epoch 3/40\n",
      "35225/35225 [==============================] - 20s 561us/sample - loss: 0.2125 - acc: 0.9159 - val_loss: 0.2291 - val_acc: 0.9044\n",
      "Epoch 4/40\n",
      "35225/35225 [==============================] - 19s 546us/sample - loss: 0.1828 - acc: 0.9294 - val_loss: 0.2256 - val_acc: 0.9105\n",
      "Epoch 5/40\n",
      "35225/35225 [==============================] - 20s 566us/sample - loss: 0.1478 - acc: 0.9463 - val_loss: 0.2526 - val_acc: 0.9094\n",
      "Epoch 6/40\n",
      "35225/35225 [==============================] - 20s 555us/sample - loss: 0.1221 - acc: 0.9564 - val_loss: 0.2677 - val_acc: 0.9073\n",
      "Epoch 7/40\n",
      "35225/35225 [==============================] - 19s 551us/sample - loss: 0.1032 - acc: 0.9620 - val_loss: 0.3000 - val_acc: 0.9048\n",
      "Epoch 8/40\n",
      " 7940/35225 [=====>........................] - ETA: 14s - loss: 0.0756 - acc: 0.9738"
     ]
    },
    {
     "name": "stderr",
     "output_type": "stream",
     "text": [
      "IOPub message rate exceeded.\n",
      "The notebook server will temporarily stop sending output\n",
      "to the client in order to avoid crashing it.\n",
      "To change this limit, set the config variable\n",
      "`--NotebookApp.iopub_msg_rate_limit`.\n",
      "\n",
      "Current values:\n",
      "NotebookApp.iopub_msg_rate_limit=1000.0 (msgs/sec)\n",
      "NotebookApp.rate_limit_window=3.0 (secs)\n",
      "\n"
     ]
    },
    {
     "name": "stdout",
     "output_type": "stream",
     "text": [
      "35225/35225 [==============================] - 20s 556us/sample - loss: 0.0705 - acc: 0.9743 - val_loss: 0.3369 - val_acc: 0.9005\n",
      "Epoch 11/40\n",
      "35225/35225 [==============================] - 20s 571us/sample - loss: 0.0604 - acc: 0.9781 - val_loss: 0.4220 - val_acc: 0.9003\n",
      "Epoch 12/40\n",
      "35225/35225 [==============================] - 20s 556us/sample - loss: 0.0604 - acc: 0.9775 - val_loss: 0.3772 - val_acc: 0.8969\n",
      "Epoch 13/40\n",
      "35225/35225 [==============================] - 21s 592us/sample - loss: 0.0496 - acc: 0.9813 - val_loss: 0.4148 - val_acc: 0.8903\n",
      "Epoch 14/40\n",
      "35225/35225 [==============================] - 20s 562us/sample - loss: 0.0440 - acc: 0.9843 - val_loss: 0.4194 - val_acc: 0.8921\n",
      "Epoch 00014: early stopping\n",
      "Dev Accuracy:  0.8921 for num_filters=128, kernel_sizes=[3, 3, 4], dense_layer_dims=[10, 10], dropout_rate=0.1\n",
      "Train on 35225 samples, validate on 4403 samples\n",
      "Epoch 1/40\n",
      "35225/35225 [==============================] - 21s 609us/sample - loss: 0.3452 - acc: 0.8560 - val_loss: 0.2586 - val_acc: 0.8898\n",
      "Epoch 2/40\n",
      "35225/35225 [==============================] - 27s 769us/sample - loss: 0.1484 - acc: 0.9426 - val_loss: 0.2253 - val_acc: 0.9135\n",
      "Epoch 00019: early stopping\n",
      "Dev Accuracy:  0.9135 for num_filters=128, kernel_sizes=[4, 5, 5], dense_layer_dims=[128, 256], dropout_rate=0.6\n",
      "Train on 35225 samples, validate on 4403 samples\n",
      "Epoch 1/40\n",
      "35225/35225 [==============================] - 24s 687us/sample - loss: 0.3114 - acc: 0.8681 - val_loss: 0.2458 - val_acc: 0.8953\n",
      "Epoch 2/40\n",
      "35225/35225 [==============================] - 23s 652us/sample - loss: 0.2479 - acc: 0.8996 - val_loss: 0.2288 - val_acc: 0.9112\n",
      "Epoch 3/40\n",
      "35225/35225 [==============================] - 23s 644us/sample - loss: 0.2220 - acc: 0.9110 - val_loss: 0.2246 - val_acc: 0.9085\n",
      "Epoch 4/40\n",
      "35225/35225 [==============================] - 19s 551us/sample - loss: 0.2006 - acc: 0.9197 - val_loss: 0.2220 - val_acc: 0.9110\n",
      "Epoch 5/40\n",
      "35225/35225 [==============================] - 20s 555us/sample - loss: 0.1767 - acc: 0.9299 - val_loss: 0.2846 - val_acc: 0.9057\n",
      "Epoch 6/40\n",
      "35225/35225 [==============================] - 19s 529us/sample - loss: 0.1578 - acc: 0.9370 - val_loss: 0.2468 - val_acc: 0.9080\n",
      "Epoch 7/40\n",
      "35225/35225 [==============================] - 21s 582us/sample - loss: 0.1386 - acc: 0.9458 - val_loss: 0.2587 - val_acc: 0.9023\n",
      "Epoch 8/40\n",
      "35225/35225 [==============================] - 20s 578us/sample - loss: 0.1250 - acc: 0.9511 - val_loss: 0.2926 - val_acc: 0.9069\n",
      "Epoch 9/40\n",
      "18540/35225 [==============>...............] - ETA: 8s - loss: 0.1081 - acc: 0.9583"
     ]
    },
    {
     "name": "stderr",
     "output_type": "stream",
     "text": [
      "IOPub message rate exceeded.\n",
      "The notebook server will temporarily stop sending output\n",
      "to the client in order to avoid crashing it.\n",
      "To change this limit, set the config variable\n",
      "`--NotebookApp.iopub_msg_rate_limit`.\n",
      "\n",
      "Current values:\n",
      "NotebookApp.iopub_msg_rate_limit=1000.0 (msgs/sec)\n",
      "NotebookApp.rate_limit_window=3.0 (secs)\n",
      "\n"
     ]
    },
    {
     "name": "stdout",
     "output_type": "stream",
     "text": [
      "35225/35225 [==============================] - 22s 628us/sample - loss: 0.1003 - acc: 0.9620 - val_loss: 0.3577 - val_acc: 0.9003\n",
      "Epoch 11/40\n",
      "35225/35225 [==============================] - 20s 570us/sample - loss: 0.0925 - acc: 0.9643 - val_loss: 0.3439 - val_acc: 0.9042\n",
      "Epoch 12/40\n",
      "35225/35225 [==============================] - 20s 571us/sample - loss: 0.0834 - acc: 0.9681 - val_loss: 0.3453 - val_acc: 0.9021\n",
      "Epoch 13/40\n",
      "35225/35225 [==============================] - 21s 593us/sample - loss: 0.0736 - acc: 0.9724 - val_loss: 0.4227 - val_acc: 0.9039\n",
      "Epoch 14/40\n",
      "35225/35225 [==============================] - 19s 544us/sample - loss: 0.0732 - acc: 0.9722 - val_loss: 0.4062 - val_acc: 0.8960\n",
      "Epoch 00014: early stopping\n",
      "Dev Accuracy:  0.8960 for num_filters=64, kernel_sizes=[2, 4, 2], dense_layer_dims=[128], dropout_rate=0.1\n",
      "Train on 35225 samples, validate on 4403 samples\n",
      "Epoch 1/40\n",
      "35225/35225 [==============================] - 28s 801us/sample - loss: 0.3483 - acc: 0.8498 - val_loss: 0.2567 - val_acc: 0.8926\n",
      "Epoch 2/40\n",
      "35225/35225 [==============================] - 25s 719us/sample - loss: 0.2762 - acc: 0.8862 - val_loss: 0.2592 - val_acc: 0.9017\n",
      "Epoch 3/40\n",
      "35225/35225 [==============================] - 28s 787us/sample - loss: 0.2594 - acc: 0.8958 - val_loss: 0.2532 - val_acc: 0.8998\n",
      "Epoch 4/40\n",
      "35225/35225 [==============================] - 21s 610us/sample - loss: 0.2470 - acc: 0.9003 - val_loss: 0.2286 - val_acc: 0.9130\n",
      "Epoch 5/40\n",
      "35225/35225 [==============================] - 22s 614us/sample - loss: 0.2359 - acc: 0.9042 - val_loss: 0.2256 - val_acc: 0.9157\n",
      "Epoch 6/40\n",
      "35225/35225 [==============================] - 22s 631us/sample - loss: 0.2276 - acc: 0.9085 - val_loss: 0.2184 - val_acc: 0.9180\n",
      "Epoch 7/40\n",
      "35225/35225 [==============================] - 21s 604us/sample - loss: 0.2161 - acc: 0.9140 - val_loss: 0.2137 - val_acc: 0.9148\n",
      "Epoch 8/40\n",
      "35225/35225 [==============================] - 22s 635us/sample - loss: 0.2075 - acc: 0.9167 - val_loss: 0.2241 - val_acc: 0.9141\n",
      "Epoch 9/40\n",
      "35225/35225 [==============================] - 21s 607us/sample - loss: 0.2010 - acc: 0.9194 - val_loss: 0.2117 - val_acc: 0.9185\n",
      "Epoch 10/40\n",
      "35225/35225 [==============================] - 22s 614us/sample - loss: 0.1936 - acc: 0.9218 - val_loss: 0.2232 - val_acc: 0.9173\n",
      "Epoch 11/40\n",
      "35225/35225 [==============================] - 23s 651us/sample - loss: 0.1879 - acc: 0.9255 - val_loss: 0.2237 - val_acc: 0.9194\n",
      "Epoch 12/40\n",
      "35225/35225 [==============================] - 22s 635us/sample - loss: 0.1805 - acc: 0.9278 - val_loss: 0.2242 - val_acc: 0.9171\n",
      "Epoch 13/40\n",
      "35225/35225 [==============================] - 22s 638us/sample - loss: 0.1743 - acc: 0.9296 - val_loss: 0.2281 - val_acc: 0.9182\n",
      "Epoch 14/40\n",
      "35225/35225 [==============================] - 22s 611us/sample - loss: 0.1697 - acc: 0.9319 - val_loss: 0.2213 - val_acc: 0.9198\n",
      "Epoch 15/40\n",
      "35225/35225 [==============================] - 21s 594us/sample - loss: 0.1635 - acc: 0.9353 - val_loss: 0.2274 - val_acc: 0.9173\n",
      "Epoch 16/40\n",
      "35225/35225 [==============================] - 21s 609us/sample - loss: 0.1564 - acc: 0.9375 - val_loss: 0.2185 - val_acc: 0.9160\n",
      "Epoch 17/40\n",
      "35225/35225 [==============================] - 26s 738us/sample - loss: 0.1549 - acc: 0.9380 - val_loss: 0.2394 - val_acc: 0.9169\n",
      "Epoch 18/40\n",
      "35225/35225 [==============================] - 24s 680us/sample - loss: 0.1489 - acc: 0.9410 - val_loss: 0.2447 - val_acc: 0.9089\n",
      "Epoch 19/40\n",
      "35225/35225 [==============================] - 23s 660us/sample - loss: 0.1487 - acc: 0.9410 - val_loss: 0.2353 - val_acc: 0.9171\n",
      "Epoch 00019: early stopping\n",
      "Dev Accuracy:  0.9171 for num_filters=128, kernel_sizes=[3, 2, 2], dense_layer_dims=[128, 64, 64], dropout_rate=0.5\n",
      "The best accuracy is: 0.9191460609436035\n"
     ]
    }
   ],
   "source": [
    "number_of_trials = 30\n",
    "\n",
    "filter_list = [64, 128]\n",
    "kernel_sizes_list = [2,3,4,5]\n",
    "dense_layer_dims_list = [10,20,30,40, 50, 60, 100, 64, 128, 256]\n",
    "dropout_rates_list = [0.1, 0.2, 0.3, 0.4, 0.5, 0.6, 0.7]\n",
    "\n",
    "best_val_accuracy = 0\n",
    "best_parameters = {}\n",
    "\n",
    "for trial in range(number_of_trials):\n",
    "    \n",
    "    num_filters = random.choice(filter_list)\n",
    "    kernel_sizes = random.choices(kernel_sizes_list, k=3)\n",
    "    number_dense_layers = random.choice([1,2,3])\n",
    "    dense_layer_dims = random.choices(dense_layer_dims_list, k=number_dense_layers)\n",
    "    dropout_rate = random.choice(dropout_rates_list)\n",
    "    \n",
    "    model = build_cnn_model(kernel_sizes, dense_layer_dims, vocab_size, embedding_dim=embedding_dim, embedding_matrix=embedding_matrix, dropout_rate=dropout_rate, num_filters=num_filters)\n",
    "    history = model.fit(X_train, labels_train,\n",
    "                    epochs=40,\n",
    "                    #verbose=False,\n",
    "                    validation_data=(X_dev, labels_dev),\n",
    "                    batch_size=128, callbacks=[early_stop])\n",
    "    \n",
    "    dev_loss, dev_accuracy = model.evaluate(X_dev, labels_dev, verbose=False)\n",
    "    print(\"Dev Accuracy:  {:.4f} for num_filters={}, kernel_sizes={}, dense_layer_dims={}, dropout_rate={}\".format(dev_accuracy, num_filters, kernel_sizes, dense_layer_dims, dropout_rate))\n",
    "    \n",
    "    if dev_accuracy > best_val_accuracy:\n",
    "        best_val_accuracy = dev_accuracy\n",
    "        \n",
    "        best_parameters['num_filters'] = num_filters\n",
    "        best_parameters['kernel_sizes'] = kernel_sizes\n",
    "        best_parameters['dense_layer_dims'] = dense_layer_dims\n",
    "        best_parameters['dropout_rate'] = dropout_rate\n",
    "\n",
    "print('The best accuracy is: {}'.format(best_val_accuracy))"
   ]
  },
  {
   "cell_type": "code",
   "execution_count": 61,
   "metadata": {},
   "outputs": [
    {
     "data": {
      "text/plain": [
       "0.91914606"
      ]
     },
     "execution_count": 61,
     "metadata": {},
     "output_type": "execute_result"
    }
   ],
   "source": [
    "best_val_accuracy"
   ]
  },
  {
   "cell_type": "code",
   "execution_count": 68,
   "metadata": {},
   "outputs": [
    {
     "data": {
      "text/plain": [
       "{'num_filters': 128,\n",
       " 'kernel_sizes': [5, 2, 3],\n",
       " 'dense_layer_dims': [40, 30, 10],\n",
       " 'dropout_rate': 0.6}"
      ]
     },
     "execution_count": 68,
     "metadata": {},
     "output_type": "execute_result"
    }
   ],
   "source": [
    "best_parameters"
   ]
  },
  {
   "cell_type": "markdown",
   "metadata": {},
   "source": [
    "### Recreate best model and get Test Accuracy"
   ]
  },
  {
   "cell_type": "code",
   "execution_count": 69,
   "metadata": {},
   "outputs": [
    {
     "name": "stdout",
     "output_type": "stream",
     "text": [
      "Train on 35225 samples, validate on 4403 samples\n",
      "Epoch 1/40\n",
      "35225/35225 [==============================] - 5s 156us/sample - loss: 0.5300 - acc: 0.7482 - val_loss: 0.2926 - val_acc: 0.8830\n",
      "Epoch 2/40\n",
      "35225/35225 [==============================] - 2s 70us/sample - loss: 0.3163 - acc: 0.8722 - val_loss: 0.2571 - val_acc: 0.8948\n",
      "Epoch 3/40\n",
      "35225/35225 [==============================] - 3s 71us/sample - loss: 0.2844 - acc: 0.8854 - val_loss: 0.2456 - val_acc: 0.8958\n",
      "Epoch 4/40\n",
      "35225/35225 [==============================] - 3s 85us/sample - loss: 0.2659 - acc: 0.8941 - val_loss: 0.2351 - val_acc: 0.8985\n",
      "Epoch 5/40\n",
      "35225/35225 [==============================] - 3s 86us/sample - loss: 0.2527 - acc: 0.8980 - val_loss: 0.2297 - val_acc: 0.9032\n",
      "Epoch 6/40\n",
      "35225/35225 [==============================] - 3s 85us/sample - loss: 0.2419 - acc: 0.9029 - val_loss: 0.2345 - val_acc: 0.9085\n",
      "Epoch 7/40\n",
      "35225/35225 [==============================] - 3s 87us/sample - loss: 0.2329 - acc: 0.9074 - val_loss: 0.2200 - val_acc: 0.9110\n",
      "Epoch 8/40\n",
      "35225/35225 [==============================] - 3s 85us/sample - loss: 0.2218 - acc: 0.9125 - val_loss: 0.2240 - val_acc: 0.9080\n",
      "Epoch 9/40\n",
      "35225/35225 [==============================] - 3s 85us/sample - loss: 0.2120 - acc: 0.9172 - val_loss: 0.2176 - val_acc: 0.9089\n",
      "Epoch 10/40\n",
      "35225/35225 [==============================] - 3s 82us/sample - loss: 0.2082 - acc: 0.9182 - val_loss: 0.2212 - val_acc: 0.9098\n",
      "Epoch 11/40\n",
      "35225/35225 [==============================] - 3s 72us/sample - loss: 0.1979 - acc: 0.9226 - val_loss: 0.2185 - val_acc: 0.9112\n",
      "Epoch 12/40\n",
      "35225/35225 [==============================] - 3s 74us/sample - loss: 0.1907 - acc: 0.9258 - val_loss: 0.2292 - val_acc: 0.9112\n",
      "Epoch 13/40\n",
      "35225/35225 [==============================] - 3s 77us/sample - loss: 0.1810 - acc: 0.9313 - val_loss: 0.2174 - val_acc: 0.9160\n",
      "Epoch 14/40\n",
      "35225/35225 [==============================] - 3s 79us/sample - loss: 0.1716 - acc: 0.9346 - val_loss: 0.2309 - val_acc: 0.9078\n",
      "Epoch 15/40\n",
      "35225/35225 [==============================] - 3s 81us/sample - loss: 0.1699 - acc: 0.9348 - val_loss: 0.2214 - val_acc: 0.9153\n",
      "Epoch 16/40\n",
      "35225/35225 [==============================] - 3s 80us/sample - loss: 0.1654 - acc: 0.9383 - val_loss: 0.2225 - val_acc: 0.9135\n",
      "Epoch 17/40\n",
      "35225/35225 [==============================] - 3s 75us/sample - loss: 0.1523 - acc: 0.9438 - val_loss: 0.2386 - val_acc: 0.9151\n",
      "Epoch 18/40\n",
      "35225/35225 [==============================] - 3s 78us/sample - loss: 0.1468 - acc: 0.9454 - val_loss: 0.2283 - val_acc: 0.9141\n",
      "Epoch 19/40\n",
      "35225/35225 [==============================] - 3s 71us/sample - loss: 0.1452 - acc: 0.9459 - val_loss: 0.2268 - val_acc: 0.9169\n",
      "Epoch 20/40\n",
      "35225/35225 [==============================] - 3s 72us/sample - loss: 0.1409 - acc: 0.9463 - val_loss: 0.2434 - val_acc: 0.9103\n",
      "Epoch 21/40\n",
      "35225/35225 [==============================] - 2s 70us/sample - loss: 0.1373 - acc: 0.9495 - val_loss: 0.2430 - val_acc: 0.9132\n",
      "Epoch 22/40\n",
      "35225/35225 [==============================] - 2s 68us/sample - loss: 0.1329 - acc: 0.9506 - val_loss: 0.2396 - val_acc: 0.9121\n",
      "Epoch 23/40\n",
      "35225/35225 [==============================] - 2s 66us/sample - loss: 0.1282 - acc: 0.9521 - val_loss: 0.2418 - val_acc: 0.9135\n",
      "Epoch 00023: early stopping\n"
     ]
    }
   ],
   "source": [
    "model = build_cnn_model(best_parameters['kernel_sizes'], best_parameters['dense_layer_dims'], \n",
    "                        vocab_size, embedding_dim=embedding_dim, \n",
    "                        embedding_matrix=embedding_matrix, \n",
    "                        dropout_rate=best_parameters['dropout_rate'], num_filters=best_parameters['num_filters'])\n",
    "\n",
    "history = model.fit(X_train, labels_train,\n",
    "                epochs=40,\n",
    "                #verbose=False,\n",
    "                validation_data=(X_dev, labels_dev),\n",
    "                batch_size=128, callbacks=[early_stop])"
   ]
  },
  {
   "cell_type": "code",
   "execution_count": 70,
   "metadata": {},
   "outputs": [
    {
     "name": "stdout",
     "output_type": "stream",
     "text": [
      "Test Accuracy: 0.8969\n"
     ]
    }
   ],
   "source": [
    "loss, accuracy = model.evaluate(X_test, labels_test, verbose=False)\n",
    "print(\"Test Accuracy: {:.4f}\".format(accuracy))"
   ]
  },
  {
   "cell_type": "code",
   "execution_count": null,
   "metadata": {},
   "outputs": [],
   "source": []
  }
 ],
 "metadata": {
  "kernelspec": {
   "display_name": "Python 3",
   "language": "python",
   "name": "python3"
  },
  "language_info": {
   "codemirror_mode": {
    "name": "ipython",
    "version": 3
   },
   "file_extension": ".py",
   "mimetype": "text/x-python",
   "name": "python",
   "nbconvert_exporter": "python",
   "pygments_lexer": "ipython3",
   "version": "3.7.0"
  }
 },
 "nbformat": 4,
 "nbformat_minor": 2
}
