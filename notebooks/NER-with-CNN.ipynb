{
 "cells": [
  {
   "cell_type": "code",
   "execution_count": 2,
   "metadata": {},
   "outputs": [],
   "source": [
    "import tensorflow as tf\n",
    "import numpy as np\n",
    "import os\n",
    "import re\n",
    "import tensorflow_hub as hub\n",
    "import pandas as pd\n",
    "import random\n",
    "\n",
    "from tensorflow.keras.models import Sequential\n",
    "from tensorflow.keras.models import Model\n",
    "from tensorflow.keras import layers\n",
    "from tensorflow.keras.preprocessing.text import Tokenizer\n",
    "from tensorflow.keras.preprocessing.sequence import pad_sequences\n",
    "from tensorflow.keras.callbacks import EarlyStopping\n",
    "\n",
    "import matplotlib.pyplot as plt\n",
    "plt.style.use('ggplot')\n",
    "\n",
    "from sklearn.preprocessing import LabelEncoder\n",
    "from sklearn.preprocessing import OneHotEncoder\n",
    "from sklearn.preprocessing import MultiLabelBinarizer"
   ]
  },
  {
   "cell_type": "markdown",
   "metadata": {},
   "source": [
    "### Get Data"
   ]
  },
  {
   "cell_type": "code",
   "execution_count": 3,
   "metadata": {},
   "outputs": [],
   "source": [
    "data = pd.read_csv('dataset/data/ner_articles_dataset.csv')"
   ]
  },
  {
   "cell_type": "code",
   "execution_count": 4,
   "metadata": {},
   "outputs": [
    {
     "data": {
      "text/html": [
       "<div>\n",
       "<style scoped>\n",
       "    .dataframe tbody tr th:only-of-type {\n",
       "        vertical-align: middle;\n",
       "    }\n",
       "\n",
       "    .dataframe tbody tr th {\n",
       "        vertical-align: top;\n",
       "    }\n",
       "\n",
       "    .dataframe thead th {\n",
       "        text-align: right;\n",
       "    }\n",
       "</style>\n",
       "<table border=\"1\" class=\"dataframe\">\n",
       "  <thead>\n",
       "    <tr style=\"text-align: right;\">\n",
       "      <th></th>\n",
       "      <th>Unnamed: 0</th>\n",
       "      <th>title</th>\n",
       "      <th>content</th>\n",
       "      <th>link</th>\n",
       "      <th>source</th>\n",
       "      <th>class</th>\n",
       "      <th>modified_content</th>\n",
       "    </tr>\n",
       "  </thead>\n",
       "  <tbody>\n",
       "    <tr>\n",
       "      <th>0</th>\n",
       "      <td>0</td>\n",
       "      <td>Tibit Communications Raises $20M in Series B F...</td>\n",
       "      <td>Tibit Communications, Inc., a Petaluma, CA-bas...</td>\n",
       "      <td>http://www.finsmes.com/2019/04/tibit-communica...</td>\n",
       "      <td>FinsmesUSA</td>\n",
       "      <td>Funding</td>\n",
       "      <td>organization, a Petaluma, organization-based s...</td>\n",
       "    </tr>\n",
       "    <tr>\n",
       "      <th>1</th>\n",
       "      <td>1</td>\n",
       "      <td>Twitter blames human error after blocking a Ne...</td>\n",
       "      <td>Over the holiday weekend, The New York Times f...</td>\n",
       "      <td>https://techcrunch.com/2017/11/27/twitter-blam...</td>\n",
       "      <td>techcrunch</td>\n",
       "      <td>Other</td>\n",
       "      <td>Over the holiday weekend, organization found t...</td>\n",
       "    </tr>\n",
       "    <tr>\n",
       "      <th>2</th>\n",
       "      <td>2</td>\n",
       "      <td>SimplyCook Raises £4.5M in Series A Funding\\n</td>\n",
       "      <td>SimplyCook, a London, UK-based recipe kit serv...</td>\n",
       "      <td>http://www.finsmes.com/2019/01/simplycook-rais...</td>\n",
       "      <td>FinsmesUK</td>\n",
       "      <td>Funding</td>\n",
       "      <td>organization, a London, UK-based recipe kit se...</td>\n",
       "    </tr>\n",
       "    <tr>\n",
       "      <th>3</th>\n",
       "      <td>3</td>\n",
       "      <td>Moogsoft Secures $40M in Series D Funding\\n</td>\n",
       "      <td>Moogsoft, a San Francisco, CA-based provider o...</td>\n",
       "      <td>http://www.finsmes.com/2018/03/moogsoft-secure...</td>\n",
       "      <td>FinsmesUSA</td>\n",
       "      <td>Funding</td>\n",
       "      <td>organization, a San Francisco, organization-ba...</td>\n",
       "    </tr>\n",
       "    <tr>\n",
       "      <th>4</th>\n",
       "      <td>4</td>\n",
       "      <td>Zeta Global acquires commenting service†Disqus</td>\n",
       "      <td>A source close to the two companies tells us t...</td>\n",
       "      <td>https://techcrunch.com/2017/12/05/zeta-global-...</td>\n",
       "      <td>techcrunch</td>\n",
       "      <td>Other</td>\n",
       "      <td>A source close to the two companies tells us t...</td>\n",
       "    </tr>\n",
       "  </tbody>\n",
       "</table>\n",
       "</div>"
      ],
      "text/plain": [
       "   Unnamed: 0                                              title  \\\n",
       "0           0  Tibit Communications Raises $20M in Series B F...   \n",
       "1           1  Twitter blames human error after blocking a Ne...   \n",
       "2           2      SimplyCook Raises £4.5M in Series A Funding\\n   \n",
       "3           3        Moogsoft Secures $40M in Series D Funding\\n   \n",
       "4           4     Zeta Global acquires commenting service†Disqus   \n",
       "\n",
       "                                             content  \\\n",
       "0  Tibit Communications, Inc., a Petaluma, CA-bas...   \n",
       "1  Over the holiday weekend, The New York Times f...   \n",
       "2  SimplyCook, a London, UK-based recipe kit serv...   \n",
       "3  Moogsoft, a San Francisco, CA-based provider o...   \n",
       "4  A source close to the two companies tells us t...   \n",
       "\n",
       "                                                link      source    class  \\\n",
       "0  http://www.finsmes.com/2019/04/tibit-communica...  FinsmesUSA  Funding   \n",
       "1  https://techcrunch.com/2017/11/27/twitter-blam...  techcrunch    Other   \n",
       "2  http://www.finsmes.com/2019/01/simplycook-rais...   FinsmesUK  Funding   \n",
       "3  http://www.finsmes.com/2018/03/moogsoft-secure...  FinsmesUSA  Funding   \n",
       "4  https://techcrunch.com/2017/12/05/zeta-global-...  techcrunch    Other   \n",
       "\n",
       "                                    modified_content  \n",
       "0  organization, a Petaluma, organization-based s...  \n",
       "1  Over the holiday weekend, organization found t...  \n",
       "2  organization, a London, UK-based recipe kit se...  \n",
       "3  organization, a San Francisco, organization-ba...  \n",
       "4  A source close to the two companies tells us t...  "
      ]
     },
     "execution_count": 4,
     "metadata": {},
     "output_type": "execute_result"
    }
   ],
   "source": [
    "data.head()"
   ]
  },
  {
   "cell_type": "code",
   "execution_count": 6,
   "metadata": {},
   "outputs": [
    {
     "data": {
      "text/plain": [
       "'A source close to the two companies tells us that the acquisition price was money. This marks organization’s eleventh acquisition since it was founded in 2007. organization Global’s acquisitions have typically focused on more fundamental technologies like AI and machine learning, customer lifecycle management and other adtech related services. At first glance, organization doesn’t quite seem to fit into this list, but organization sits on a huge data set that goes beyond your favorite troll’s political comments. “Marketers typically have to make trade-offs between reaching engaged audiences on social platforms with massive reach and using tools that give them control and access to granular targeting capabilities,” said organization Global CEO, chairman and co-founder person. “organization strengthens organization’s ability to offer the best of both worlds with the scale, visibility and performance marketers have been asking for.” organization gives these marketers the ability to target users based on their interests. You can infer quite a bit about people simply based on which sites they comment on, after all. At the same time, though, most of the online commenting has now moved to social media and the number of comments on most sites is in a steady decline. So while organization is acquired a large hoard of data, it remains to be seen how long that data will stay current. organization promises that it will continue to grow organization’ core business and platform and use its existing AI capabilities and data assets to enhance organization’ analytics. organization also expects to integrate organization’ platform with its personalization and messaging capabilities to build new offerings for publishers and brands. organization launched in 2007, when there was still a lot of excitement around commenting and a number of similar third-party commenting systems like person (acquired by organization in 2008) and Livefyre (acquired by organization in 2016) sprung up that all took a slightly different approach to offering this kind of service but essentially offered the same features. About a year ago, we reported that organization laid off about 20 percent of its staff, for a total of 11 employees, in an effort to rebalance its priorities to focus more on data services for publishers and advertisers. That’s clearly what organization was interested in, too. Ahead of the acquisition, organization had raised a total of money, which isn’t exactly a lot for a 10-year-old company. Investors include the likes of organization, organization, organization and organization. organization was also an early Y Combinator graduate (and we used it here on organization for a while, too).'"
      ]
     },
     "execution_count": 6,
     "metadata": {},
     "output_type": "execute_result"
    }
   ],
   "source": [
    "data.loc[4, 'modified_content']"
   ]
  },
  {
   "cell_type": "code",
   "execution_count": 7,
   "metadata": {},
   "outputs": [],
   "source": [
    "def preprocess_content(content):\n",
    "    content = content.lower()\n",
    "    links_regex = re.compile('(https?:\\/\\/|www|ftp)[\\w\\./\\?\\=+&-]+')\n",
    "    money_regex = re.compile('USD\\s?\\d+[,\\d]+|\\$\\s?\\d+[,\\d]+|GBP\\s?\\d+[,\\d]+|£\\s?\\d+[,\\d]+|EUR\\s?\\d+[,\\d]+|€\\s?\\d+[,\\d]+', flags=re.IGNORECASE)\n",
    "    digits_regex = re.compile('\\d+[,.\\d]+')\n",
    "    white_space_regex = re.compile('\\s+')\n",
    "    \n",
    "    content = re.sub(links_regex, 'LINK',  content)\n",
    "    content = re.sub(money_regex, 'MONEY', content)\n",
    "    content = re.sub(digits_regex, 'NUMBER', content)\n",
    "    content = re.sub(white_space_regex, ' ', content)\n",
    "    \n",
    "    return content"
   ]
  },
  {
   "cell_type": "code",
   "execution_count": 8,
   "metadata": {},
   "outputs": [],
   "source": [
    "data = data[~data['content'].isnull()]"
   ]
  },
  {
   "cell_type": "code",
   "execution_count": 9,
   "metadata": {},
   "outputs": [
    {
     "data": {
      "text/plain": [
       "Other      22868\n",
       "Funding    21163\n",
       "Name: class, dtype: int64"
      ]
     },
     "execution_count": 9,
     "metadata": {},
     "output_type": "execute_result"
    }
   ],
   "source": [
    "data['class'].value_counts()"
   ]
  },
  {
   "cell_type": "code",
   "execution_count": 10,
   "metadata": {},
   "outputs": [],
   "source": [
    "data['modified_content'] = data['modified_content'].map(preprocess_content)"
   ]
  },
  {
   "cell_type": "code",
   "execution_count": 11,
   "metadata": {},
   "outputs": [],
   "source": [
    "articles = data['modified_content'].values\n",
    "titles = data['title'].values\n",
    "labels = data['class'].values"
   ]
  },
  {
   "cell_type": "markdown",
   "metadata": {},
   "source": [
    "#### Encode labels"
   ]
  },
  {
   "cell_type": "code",
   "execution_count": 12,
   "metadata": {},
   "outputs": [],
   "source": [
    "label_encoder = LabelEncoder()\n",
    "labels = label_encoder.fit_transform(labels)\n",
    "\n",
    "\n",
    "def encode_labels(labels):\n",
    "    encoded = label_encoder.transform(labels)\n",
    "    return encoded\n",
    "\n",
    "def decode_labels(encoded_labels):\n",
    "    labels_type = type(encoded_labels)\n",
    "    \n",
    "    if labels_type == int:\n",
    "        try:\n",
    "            label = label_encoder.inverse_transform([encoded_labels])\n",
    "        except ValueError:\n",
    "            print('Unknown value')\n",
    "            return np.nan\n",
    "        \n",
    "        return label\n",
    "    \n",
    "    elif hasattr(encoded_labels, '__iter__') and labels_type != str:\n",
    "        try:\n",
    "            labels = label_encoder.inverse_transform(encoded_labels)\n",
    "            \n",
    "        except ValueError:\n",
    "            print('Unknown value')\n",
    "            raise\n",
    "            \n",
    "        return labels\n",
    "    else:\n",
    "        raise TypeError"
   ]
  },
  {
   "cell_type": "code",
   "execution_count": 13,
   "metadata": {},
   "outputs": [
    {
     "data": {
      "text/plain": [
       "True"
      ]
     },
     "execution_count": 13,
     "metadata": {},
     "output_type": "execute_result"
    }
   ],
   "source": [
    "tf.test.is_gpu_available()"
   ]
  },
  {
   "cell_type": "markdown",
   "metadata": {},
   "source": [
    "### Use TensorFlow Keras and CNN"
   ]
  },
  {
   "cell_type": "code",
   "execution_count": 14,
   "metadata": {},
   "outputs": [],
   "source": [
    "shuffle = np.random.permutation(len(articles))\n",
    "articles = articles[shuffle]\n",
    "titles = titles[shuffle]\n",
    "labels = labels[shuffle]"
   ]
  },
  {
   "cell_type": "code",
   "execution_count": 15,
   "metadata": {},
   "outputs": [
    {
     "data": {
      "text/plain": [
       "44031"
      ]
     },
     "execution_count": 15,
     "metadata": {},
     "output_type": "execute_result"
    }
   ],
   "source": [
    "len(articles)"
   ]
  },
  {
   "cell_type": "code",
   "execution_count": 16,
   "metadata": {},
   "outputs": [
    {
     "name": "stdout",
     "output_type": "stream",
     "text": [
      "35225 4403 39628\n"
     ]
    }
   ],
   "source": [
    "data_size = len(articles)\n",
    "\n",
    "train_size = round(0.8 * data_size)\n",
    "dev_size = round(0.1 * data_size)\n",
    "\n",
    "dev_end = train_size + dev_size\n",
    "\n",
    "print(train_size, dev_size, dev_end)"
   ]
  },
  {
   "cell_type": "code",
   "execution_count": 17,
   "metadata": {},
   "outputs": [],
   "source": [
    "articles_train, labels_train, titles_train = articles[:train_size], labels[:train_size], titles[:train_size]\n",
    "articles_dev, labels_dev, titles_dev = articles[train_size:dev_end], labels[train_size:dev_end], titles[train_size:dev_end]\n",
    "articles_test, labels_test, titles_test = articles[dev_end:], labels[dev_end:], titles[dev_end:]"
   ]
  },
  {
   "cell_type": "markdown",
   "metadata": {},
   "source": [
    "### Preprocess the text for use with the CNN"
   ]
  },
  {
   "cell_type": "code",
   "execution_count": 18,
   "metadata": {},
   "outputs": [
    {
     "data": {
      "text/plain": [
       "95584"
      ]
     },
     "execution_count": 18,
     "metadata": {},
     "output_type": "execute_result"
    }
   ],
   "source": [
    "tokenizer = Tokenizer(num_words=5000)\n",
    "tokenizer.fit_on_texts(articles_train)\n",
    "\n",
    "X_train = tokenizer.texts_to_sequences(articles_train)\n",
    "X_dev = tokenizer.texts_to_sequences(articles_dev)\n",
    "X_test = tokenizer.texts_to_sequences(articles_test)\n",
    "\n",
    "vocab_size = len(tokenizer.word_index) + 1\n",
    "\n",
    "vocab_size"
   ]
  },
  {
   "cell_type": "code",
   "execution_count": 19,
   "metadata": {},
   "outputs": [],
   "source": [
    "maxlen = 300\n",
    "\n",
    "X_train = pad_sequences(X_train, padding='post', maxlen=maxlen)\n",
    "X_dev = pad_sequences(X_dev, padding='post', maxlen=maxlen)\n",
    "X_test = pad_sequences(X_test, padding='post', maxlen=maxlen)"
   ]
  },
  {
   "cell_type": "markdown",
   "metadata": {},
   "source": [
    "### Run CNN models "
   ]
  },
  {
   "cell_type": "markdown",
   "metadata": {},
   "source": [
    "#### Function to plot the history of models"
   ]
  },
  {
   "cell_type": "code",
   "execution_count": 20,
   "metadata": {},
   "outputs": [],
   "source": [
    "def plot_history(history):\n",
    "    acc = history.history['acc']\n",
    "    val_acc = history.history['val_acc']\n",
    "    loss = history.history['loss']\n",
    "    val_loss = history.history['val_loss']\n",
    "    x = range(1, len(acc) + 1)\n",
    "\n",
    "    plt.figure(figsize=(12, 5))\n",
    "    plt.subplot(1, 2, 1)\n",
    "    plt.plot(x, acc, 'b', label='Training acc')\n",
    "    plt.plot(x, val_acc, 'r', label='Validation acc')\n",
    "    plt.title('Training and validation accuracy')\n",
    "    plt.legend()\n",
    "    plt.subplot(1, 2, 2)\n",
    "    plt.plot(x, loss, 'b', label='Training loss')\n",
    "    plt.plot(x, val_loss, 'r', label='Validation loss')\n",
    "    plt.title('Training and validation loss')\n",
    "    plt.legend()"
   ]
  },
  {
   "cell_type": "markdown",
   "metadata": {},
   "source": [
    "#### Function to Build Model"
   ]
  },
  {
   "cell_type": "code",
   "execution_count": 21,
   "metadata": {},
   "outputs": [],
   "source": [
    "epochs = 20\n",
    "embedding_dim = 100\n",
    "num_filters = 128\n",
    "kernel_sizes = [2, 3, 5]\n",
    "dense_layer_dims = [20,30,10]\n",
    "dropout_rate = 0.1\n",
    "\n",
    "def build_cnn_model(kernel_sizes, dense_layer_dims, vocab_size, embedding_dim=50, embedding_matrix=None, trainable=False, max_len=300, dropout_rate=0.1, num_filters=128):\n",
    "    wordids = layers.Input(shape=(max_len, ))\n",
    "    \n",
    "    if type(embedding_matrix) == np.ndarray:\n",
    "        emb = layers.Embedding(vocab_size, embedding_dim, weights=[embedding_matrix], input_length=max_len, trainable=trainable)(wordids)\n",
    "    else:\n",
    "        emb = layers.Embedding(vocab_size, embedding_dim, input_length=max_len, trainable=trainable)(wordids)\n",
    "    \n",
    "    conv_layers_list = []\n",
    "    \n",
    "    for kernel_size in kernel_sizes:\n",
    "        conv_layer = layers.Conv1D(filters=num_filters, kernel_size=kernel_size, activation='relu')(emb)\n",
    "        conv_layer = layers.GlobalMaxPooling1D()(conv_layer)\n",
    "        conv_layers_list.append(conv_layer)\n",
    "        \n",
    "    concat_layer = layers.concatenate(conv_layers_list, axis=1)\n",
    "    dense_layer = layers.Dropout(rate=dropout_rate)(concat_layer)\n",
    "    \n",
    "    for dense_size in dense_layer_dims:\n",
    "        dense_layer = layers.Dense(dense_size, activation='relu')(dense_layer)\n",
    "    \n",
    "    prediction = layers.Dense(4, activation='softmax')(dense_layer)\n",
    "    \n",
    "    model = Model(inputs=wordids, outputs=prediction)\n",
    "    model.compile(optimizer='adam',\n",
    "                      loss='sparse_categorical_crossentropy',  # From information theory notebooks.\n",
    "                      metrics=['accuracy'])\n",
    "    return model"
   ]
  },
  {
   "cell_type": "code",
   "execution_count": 22,
   "metadata": {},
   "outputs": [],
   "source": [
    "early_stop = EarlyStopping(monitor='val_loss', mode='min', verbose=1, patience=10)"
   ]
  },
  {
   "cell_type": "markdown",
   "metadata": {},
   "source": [
    "#### Using Glove embeddings"
   ]
  },
  {
   "cell_type": "code",
   "execution_count": 23,
   "metadata": {},
   "outputs": [],
   "source": [
    "def create_embedding_matrix(filepath, word_index, embedding_dim):\n",
    "    vocab_size = len(word_index) + 1  \n",
    "    embedding_matrix = np.zeros((vocab_size, embedding_dim))\n",
    "\n",
    "    with open(filepath) as f:\n",
    "        for line in f:\n",
    "            word, *vector = line.split()\n",
    "            if word in word_index:\n",
    "                idx = word_index[word] \n",
    "                embedding_matrix[idx] = np.array(\n",
    "                    vector, dtype=np.float32)[:embedding_dim]\n",
    "\n",
    "    return embedding_matrix"
   ]
  },
  {
   "cell_type": "code",
   "execution_count": 24,
   "metadata": {},
   "outputs": [],
   "source": [
    "max_len = 300\n",
    "\n",
    "embedding_matrix = create_embedding_matrix('embeddings/glove/glove.6B.100d.txt', \n",
    "                                           tokenizer.word_index, embedding_dim)"
   ]
  },
  {
   "cell_type": "code",
   "execution_count": 25,
   "metadata": {},
   "outputs": [],
   "source": [
    "best_parameters = {'num_filters': 128,\n",
    "                 'kernel_sizes': [5, 2, 3],\n",
    "                 'dense_layer_dims': [40, 30, 10],\n",
    "                 'dropout_rate': 0.6}"
   ]
  },
  {
   "cell_type": "code",
   "execution_count": 26,
   "metadata": {},
   "outputs": [
    {
     "name": "stderr",
     "output_type": "stream",
     "text": [
      "WARNING: Logging before flag parsing goes to stderr.\n",
      "W0803 22:47:36.300282 139693762205504 deprecation.py:506] From /home/brianmusisi/anaconda3/lib/python3.7/site-packages/tensorflow/python/keras/initializers.py:119: calling RandomUniform.__init__ (from tensorflow.python.ops.init_ops) with dtype is deprecated and will be removed in a future version.\n",
      "Instructions for updating:\n",
      "Call initializer instance with the dtype argument instead of passing it to the constructor\n",
      "W0803 22:47:37.283860 139693762205504 deprecation.py:506] From /home/brianmusisi/anaconda3/lib/python3.7/site-packages/tensorflow/python/ops/init_ops.py:1251: calling VarianceScaling.__init__ (from tensorflow.python.ops.init_ops) with dtype is deprecated and will be removed in a future version.\n",
      "Instructions for updating:\n",
      "Call initializer instance with the dtype argument instead of passing it to the constructor\n",
      "W0803 22:47:37.376606 139693762205504 nn_ops.py:4224] Large dropout rate: 0.6 (>0.5). In TensorFlow 2.x, dropout() uses dropout rate instead of keep_prob. Please ensure that this is intended.\n"
     ]
    },
    {
     "name": "stdout",
     "output_type": "stream",
     "text": [
      "Train on 35225 samples, validate on 4403 samples\n",
      "Epoch 1/40\n",
      "35225/35225 [==============================] - 5s 136us/sample - loss: 0.4470 - acc: 0.7909 - val_loss: 0.3019 - val_acc: 0.8660\n",
      "Epoch 2/40\n",
      "35225/35225 [==============================] - 2s 51us/sample - loss: 0.3035 - acc: 0.8767 - val_loss: 0.2828 - val_acc: 0.8908\n",
      "Epoch 3/40\n",
      "35225/35225 [==============================] - 2s 51us/sample - loss: 0.2769 - acc: 0.8893 - val_loss: 0.2672 - val_acc: 0.8889\n",
      "Epoch 4/40\n",
      "35225/35225 [==============================] - 2s 51us/sample - loss: 0.2587 - acc: 0.8972 - val_loss: 0.2563 - val_acc: 0.8958\n",
      "Epoch 5/40\n",
      "35225/35225 [==============================] - 2s 51us/sample - loss: 0.2482 - acc: 0.9003 - val_loss: 0.2532 - val_acc: 0.8960\n",
      "Epoch 6/40\n",
      "35225/35225 [==============================] - 2s 52us/sample - loss: 0.2374 - acc: 0.9040 - val_loss: 0.2513 - val_acc: 0.8955\n",
      "Epoch 7/40\n",
      "35225/35225 [==============================] - 2s 52us/sample - loss: 0.2297 - acc: 0.9100 - val_loss: 0.2483 - val_acc: 0.8996\n",
      "Epoch 8/40\n",
      "35225/35225 [==============================] - 2s 52us/sample - loss: 0.2168 - acc: 0.9128 - val_loss: 0.2486 - val_acc: 0.9001\n",
      "Epoch 9/40\n",
      "35225/35225 [==============================] - 2s 50us/sample - loss: 0.2077 - acc: 0.9177 - val_loss: 0.2528 - val_acc: 0.8962\n",
      "Epoch 10/40\n",
      "35225/35225 [==============================] - 2s 51us/sample - loss: 0.2016 - acc: 0.9203 - val_loss: 0.2534 - val_acc: 0.8996\n",
      "Epoch 11/40\n",
      "35225/35225 [==============================] - 2s 51us/sample - loss: 0.1922 - acc: 0.9244 - val_loss: 0.2569 - val_acc: 0.8951\n",
      "Epoch 12/40\n",
      "35225/35225 [==============================] - 2s 51us/sample - loss: 0.1881 - acc: 0.9268 - val_loss: 0.2578 - val_acc: 0.8989\n",
      "Epoch 13/40\n",
      "35225/35225 [==============================] - 2s 51us/sample - loss: 0.1793 - acc: 0.9302 - val_loss: 0.2638 - val_acc: 0.8994\n",
      "Epoch 14/40\n",
      "35225/35225 [==============================] - 2s 51us/sample - loss: 0.1715 - acc: 0.9335 - val_loss: 0.2673 - val_acc: 0.8960\n",
      "Epoch 15/40\n",
      "35225/35225 [==============================] - 2s 51us/sample - loss: 0.1659 - acc: 0.9354 - val_loss: 0.2615 - val_acc: 0.8980\n",
      "Epoch 16/40\n",
      "35225/35225 [==============================] - 2s 51us/sample - loss: 0.1601 - acc: 0.9383 - val_loss: 0.2674 - val_acc: 0.8967\n",
      "Epoch 17/40\n",
      "35225/35225 [==============================] - 2s 50us/sample - loss: 0.1518 - acc: 0.9398 - val_loss: 0.2682 - val_acc: 0.8994\n",
      "Epoch 00017: early stopping\n"
     ]
    }
   ],
   "source": [
    "model = build_cnn_model(best_parameters['kernel_sizes'], best_parameters['dense_layer_dims'], \n",
    "                        vocab_size, embedding_dim=embedding_dim, \n",
    "                        embedding_matrix=embedding_matrix, \n",
    "                        dropout_rate=best_parameters['dropout_rate'], num_filters=best_parameters['num_filters'])\n",
    "\n",
    "history = model.fit(X_train, labels_train,\n",
    "                epochs=40,\n",
    "                #verbose=False,\n",
    "                validation_data=(X_dev, labels_dev),\n",
    "                batch_size=128, callbacks=[early_stop])"
   ]
  },
  {
   "cell_type": "code",
   "execution_count": 27,
   "metadata": {},
   "outputs": [
    {
     "name": "stdout",
     "output_type": "stream",
     "text": [
      "Test Accuracy: 0.9046\n"
     ]
    }
   ],
   "source": [
    "loss, accuracy = model.evaluate(X_test, labels_test, verbose=False)\n",
    "print(\"Test Accuracy: {:.4f}\".format(accuracy))"
   ]
  },
  {
   "cell_type": "code",
   "execution_count": 28,
   "metadata": {},
   "outputs": [
    {
     "data": {
      "image/png": "[encoded data removed]",
      "text/plain": [
       "<Figure size 864x360 with 2 Axes>"
      ]
     },
     "metadata": {},
     "output_type": "display_data"
    }
   ],
   "source": [
    "plot_history(history)"
   ]
  }
 ],
 "metadata": {
  "kernelspec": {
   "display_name": "Python 3",
   "language": "python",
   "name": "python3"
  },
  "language_info": {
   "codemirror_mode": {
    "name": "ipython",
    "version": 3
   },
   "file_extension": ".py",
   "mimetype": "text/x-python",
   "name": "python",
   "nbconvert_exporter": "python",
   "pygments_lexer": "ipython3",
   "version": "3.7.0"
  }
 },
 "nbformat": 4,
 "nbformat_minor": 2
}
